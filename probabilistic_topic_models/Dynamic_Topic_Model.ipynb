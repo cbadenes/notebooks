{
  "nbformat": 4,
  "nbformat_minor": 0,
  "metadata": {
    "colab": {
      "provenance": [],
      "include_colab_link": true
    },
    "kernelspec": {
      "name": "python3",
      "display_name": "Python 3"
    },
    "language_info": {
      "name": "python"
    }
  },
  "cells": [
    {
      "cell_type": "markdown",
      "metadata": {
        "id": "view-in-github",
        "colab_type": "text"
      },
      "source": [
        "<a href=\"https://colab.research.google.com/github/cbadenes/notebooks/blob/main/probabilistic_topic_models/Dynamic_Topic_Model.ipynb\" target=\"_parent\"><img src=\"https://colab.research.google.com/assets/colab-badge.svg\" alt=\"Open In Colab\"/></a>"
      ]
    },
    {
      "cell_type": "code",
      "source": [
        "!pip install gensim"
      ],
      "metadata": {
        "id": "dxweQVPySO84",
        "outputId": "b059b857-bb84-415a-d3d1-792c105b86c5",
        "colab": {
          "base_uri": "https://localhost:8080/"
        }
      },
      "execution_count": 8,
      "outputs": [
        {
          "output_type": "stream",
          "name": "stdout",
          "text": [
            "Requirement already satisfied: gensim in /usr/local/lib/python3.12/dist-packages (4.4.0)\n",
            "Requirement already satisfied: numpy>=1.18.5 in /usr/local/lib/python3.12/dist-packages (from gensim) (2.0.2)\n",
            "Requirement already satisfied: scipy>=1.7.0 in /usr/local/lib/python3.12/dist-packages (from gensim) (1.16.2)\n",
            "Requirement already satisfied: smart_open>=1.8.1 in /usr/local/lib/python3.12/dist-packages (from gensim) (7.4.0)\n",
            "Requirement already satisfied: wrapt in /usr/local/lib/python3.12/dist-packages (from smart_open>=1.8.1->gensim) (2.0.0)\n"
          ]
        }
      ]
    },
    {
      "cell_type": "code",
      "execution_count": 9,
      "metadata": {
        "colab": {
          "base_uri": "https://localhost:8080/"
        },
        "id": "o0PMFgz3KAiH",
        "outputId": "dfe2df1f-f9d6-4b15-f72a-8fcdf7f27e30"
      },
      "outputs": [
        {
          "output_type": "stream",
          "name": "stderr",
          "text": [
            "[nltk_data] Downloading package punkt to /root/nltk_data...\n",
            "[nltk_data]   Package punkt is already up-to-date!\n",
            "[nltk_data] Downloading package stopwords to /root/nltk_data...\n",
            "[nltk_data]   Package stopwords is already up-to-date!\n",
            "[nltk_data] Downloading package wordnet to /root/nltk_data...\n",
            "[nltk_data]   Package wordnet is already up-to-date!\n",
            "[nltk_data] Downloading package punkt_tab to /root/nltk_data...\n",
            "[nltk_data]   Package punkt_tab is already up-to-date!\n"
          ]
        },
        {
          "output_type": "execute_result",
          "data": {
            "text/plain": [
              "True"
            ]
          },
          "metadata": {},
          "execution_count": 9
        }
      ],
      "source": [
        "# Importar librerías necesarias\n",
        "import pandas as pd\n",
        "import numpy as np\n",
        "import matplotlib.pyplot as plt\n",
        "from datetime import datetime\n",
        "import seaborn as sns\n",
        "from collections import Counter\n",
        "\n",
        "# Para procesamiento de texto\n",
        "import nltk\n",
        "from nltk.tokenize import word_tokenize\n",
        "from nltk.corpus import stopwords\n",
        "from nltk.stem import WordNetLemmatizer\n",
        "import re\n",
        "\n",
        "# Para modelado de tópicos\n",
        "from gensim.models import LdaSeqModel\n",
        "from gensim.corpora import Dictionary\n",
        "\n",
        "# Configuración inicial\n",
        "plt.rcParams.update({\n",
        "    'figure.figsize': (12, 6),\n",
        "    'axes.grid': True,\n",
        "    'grid.alpha': 0.3,\n",
        "    'axes.spines.top': False,\n",
        "    'axes.spines.right': False\n",
        "})\n",
        "\n",
        "# Descargar recursos necesarios de NLTK\n",
        "nltk.download('punkt')\n",
        "nltk.download('stopwords')\n",
        "nltk.download('wordnet')\n",
        "nltk.download('punkt_tab')"
      ]
    },
    {
      "cell_type": "code",
      "source": [
        "import json\n",
        "import pandas as pd\n",
        "\n",
        "rows = []\n",
        "with open(\"News_Category_Dataset_v3.json\", \"r\") as f:\n",
        "    for line in f:\n",
        "        try:\n",
        "            rows.append(json.loads(line))\n",
        "        except json.JSONDecodeError:\n",
        "            continue  # ignora líneas con errores\n",
        "\n",
        "df = pd.DataFrame(rows)\n",
        "print(f\"Cargadas {len(df)} líneas válidas\")\n"
      ],
      "metadata": {
        "id": "sYbDhtqESkHC",
        "outputId": "d87cdf6b-f738-4bd5-a49e-68f9255047bf",
        "colab": {
          "base_uri": "https://localhost:8080/"
        }
      },
      "execution_count": 11,
      "outputs": [
        {
          "output_type": "stream",
          "name": "stdout",
          "text": [
            "Cargadas 209527 líneas válidas\n"
          ]
        }
      ]
    },
    {
      "cell_type": "code",
      "source": [
        "# Tomar un subset manejable (200 noticias de 2015-2016)\n",
        "mask = (df['date'] >= '2015-01-01') & (df['date'] <= '2016-12-31')\n",
        "df = df[mask].sample(n=200, random_state=42)\n",
        "\n",
        "# Convertir fechas a datetime y ordenar\n",
        "df['date'] = pd.to_datetime(df['date'])\n",
        "df = df.sort_values('date')\n",
        "\n",
        "print(\"Dimensiones del dataset:\", df.shape)\n",
        "print(\"\\nRango temporal:\", df['date'].min(), \"-\", df['date'].max())\n",
        "print(\"\\nCategorías disponibles:\", df['category'].unique())"
      ],
      "metadata": {
        "colab": {
          "base_uri": "https://localhost:8080/"
        },
        "id": "cHlT8u1jKT3E",
        "outputId": "9cb6e9e8-8de9-41dd-ac4d-428dedecad5d"
      },
      "execution_count": 12,
      "outputs": [
        {
          "output_type": "stream",
          "name": "stdout",
          "text": [
            "Dimensiones del dataset: (200, 6)\n",
            "\n",
            "Rango temporal: 2015-01-08 00:00:00 - 2016-12-30 00:00:00\n",
            "\n",
            "Categorías disponibles: ['BUSINESS' 'POLITICS' 'PARENTS' 'GREEN' 'ARTS' 'STYLE' 'GOOD NEWS'\n",
            " 'QUEER VOICES' 'FIFTY' 'WORLDPOST' 'HEALTHY LIVING' 'WEIRD NEWS'\n",
            " 'ENTERTAINMENT' 'COMEDY' 'SPORTS' 'CRIME' 'WOMEN' 'TASTE' 'IMPACT'\n",
            " 'BLACK VOICES' 'EDUCATION' 'TRAVEL' 'RELIGION' 'THE WORLDPOST' 'MEDIA'\n",
            " 'SCIENCE' 'TECH' 'ARTS & CULTURE' 'LATINO VOICES']\n"
          ]
        }
      ]
    },
    {
      "cell_type": "code",
      "source": [
        "# Visualización de distribución temporal\n",
        "plt.figure(figsize=(12, 6))\n",
        "df['date'].dt.to_period('M').value_counts().sort_index().plot(kind='bar')\n",
        "plt.title('Distribución de Artículos por Mes')\n",
        "plt.xlabel('Mes')\n",
        "plt.ylabel('Número de Artículos')\n",
        "plt.xticks(rotation=45)\n",
        "plt.tight_layout()\n",
        "plt.show()"
      ],
      "metadata": {
        "colab": {
          "base_uri": "https://localhost:8080/",
          "height": 607
        },
        "id": "sYuqH88tNCDs",
        "outputId": "052bf101-fa11-4ee3-86db-aa4526b63034"
      },
      "execution_count": 13,
      "outputs": [
        {
          "output_type": "display_data",
          "data": {
            "text/plain": [
              "<Figure size 1200x600 with 1 Axes>"
            ],
            "image/png": "[encoded data removed]"
          },
          "metadata": {}
        }
      ]
    },
    {
      "cell_type": "code",
      "source": [
        "def preprocess_text(text):\n",
        "    \"\"\"\n",
        "    Preprocesa el texto para análisis de tópicos\n",
        "    \"\"\"\n",
        "    # Inicializar herramientas\n",
        "    stop_words = set(stopwords.words('english'))\n",
        "    lemmatizer = WordNetLemmatizer()\n",
        "\n",
        "    # Convertir a minúsculas\n",
        "    text = text.lower()\n",
        "\n",
        "    # Eliminar caracteres especiales\n",
        "    text = re.sub(r'[^a-zA-Z\\s]', '', text)\n",
        "\n",
        "    # Tokenizar\n",
        "    tokens = word_tokenize(text)\n",
        "\n",
        "    # Eliminar stopwords y lematizar\n",
        "    tokens = [lemmatizer.lemmatize(token) for token in tokens\n",
        "             if token not in stop_words and len(token) > 2]\n",
        "\n",
        "    return tokens\n",
        "\n",
        "# Combinar título y descripción para el análisis\n",
        "df['text'] = df['headline'] + ' ' + df['short_description']\n",
        "\n",
        "# Aplicar preprocesamiento\n",
        "df['processed_text'] = df['text'].apply(preprocess_text)\n",
        "\n",
        "# Verificar el preprocesamiento\n",
        "print(\"\\nEjemplo de preprocesamiento:\")\n",
        "print(\"Original:\", df['text'].iloc[0])\n",
        "print(\"Procesado:\", df['processed_text'].iloc[0])"
      ],
      "metadata": {
        "colab": {
          "base_uri": "https://localhost:8080/"
        },
        "id": "fuHWro3lNGQD",
        "outputId": "686fa25c-3acf-4b02-e9f2-02be0797f2e3"
      },
      "execution_count": 14,
      "outputs": [
        {
          "output_type": "stream",
          "name": "stdout",
          "text": [
            "\n",
            "Ejemplo de preprocesamiento:\n",
            "Original: 32 Data Breaches Larger Than Sony's in the Past Year The Sony Hack was not even one of the ten largest hacks of 2014. Though large, it actually only ranks as the 33rd largest of the year in terms of number of records breached. EBay actually suffered the largest data breach of 2014 (and the second largest since 2005) with more than 150 million records compromised.\n",
            "Procesado: ['data', 'breach', 'larger', 'sonys', 'past', 'year', 'sony', 'hack', 'even', 'one', 'ten', 'largest', 'hack', 'though', 'large', 'actually', 'rank', 'largest', 'year', 'term', 'number', 'record', 'breached', 'ebay', 'actually', 'suffered', 'largest', 'data', 'breach', 'second', 'largest', 'since', 'million', 'record', 'compromised']\n"
          ]
        }
      ]
    },
    {
      "cell_type": "code",
      "source": [
        "# Crear diccionario\n",
        "dictionary = Dictionary(df['processed_text'])\n",
        "\n",
        "# Filtrar términos poco frecuentes o muy comunes\n",
        "dictionary.filter_extremes(no_below=5, no_above=0.5)\n",
        "print(\"\\nTamaño del vocabulario:\", len(dictionary))\n",
        "\n",
        "# Crear corpus\n",
        "corpus = [dictionary.doc2bow(doc) for doc in df['processed_text']]\n",
        "\n",
        "# Preparar time_slices (documentos por mes)\n",
        "df['month'] = df['date'].dt.to_period('M')\n",
        "time_slices = df.groupby('month').size().tolist()\n",
        "print(\"\\nNúmero de periodos temporales:\", len(time_slices))\n"
      ],
      "metadata": {
        "colab": {
          "base_uri": "https://localhost:8080/"
        },
        "id": "dq8ERiBcNauY",
        "outputId": "ab3a2d2b-67f1-4e9b-8dfe-411bbb995b0a"
      },
      "execution_count": 15,
      "outputs": [
        {
          "output_type": "stream",
          "name": "stdout",
          "text": [
            "\n",
            "Tamaño del vocabulario: 71\n",
            "\n",
            "Número de periodos temporales: 24\n"
          ]
        }
      ]
    },
    {
      "cell_type": "code",
      "source": [
        "# Configurar y entrenar modelo\n",
        "num_topics = 10  # Número de tópicos a detectar\n",
        "chain_variance = 0.400  # Controla la suavidad de la evolución temporal\n",
        "\n",
        "dtm = LdaSeqModel(\n",
        "    corpus=corpus,\n",
        "    time_slice=time_slices,\n",
        "    num_topics=num_topics,\n",
        "    id2word=dictionary,\n",
        "    chain_variance=chain_variance,\n",
        "    passes=10\n",
        ")\n"
      ],
      "metadata": {
        "colab": {
          "base_uri": "https://localhost:8080/"
        },
        "id": "bqXdA96BNfGG",
        "outputId": "80649477-3493-4a3d-b2ab-f32c71a0fd44"
      },
      "execution_count": 18,
      "outputs": [
        {
          "output_type": "stream",
          "name": "stderr",
          "text": [
            "/usr/local/lib/python3.12/dist-packages/gensim/models/ldaseqmodel.py:298: RuntimeWarning: divide by zero encountered in scalar divide\n",
            "  convergence = np.fabs((bound - old_bound) / old_bound)\n"
          ]
        }
      ]
    },
    {
      "cell_type": "code",
      "source": [
        "def print_topic_evolution(model, periods=None):\n",
        "    \"\"\"\n",
        "    Imprime la evolución de tópicos a lo largo del tiempo\n",
        "    \"\"\"\n",
        "    num_time_slices = len(time_slices)\n",
        "    for t in range(num_time_slices):\n",
        "        print(f\"\\nPeríodo {t}:\")\n",
        "        for topic in range(model.num_topics):\n",
        "            # La nueva sintaxis no usa el parámetro 'topics'\n",
        "            top_terms = model.print_topics(time=t)[topic]\n",
        "            print(f\"Tópico {topic}: {top_terms[:5]}\")\n",
        "\n",
        "# Mostrar evolución de tópicos\n",
        "print_topic_evolution(dtm)"
      ],
      "metadata": {
        "colab": {
          "base_uri": "https://localhost:8080/"
        },
        "id": "ip9rBH_WNkgJ",
        "outputId": "aed7f1f9-1faf-4880-93f3-96bdfaf3b206"
      },
      "execution_count": 19,
      "outputs": [
        {
          "output_type": "stream",
          "name": "stdout",
          "text": [
            "\n",
            "Período 0:\n",
            "Tópico 0: [('political', np.float64(0.09153671298190408)), ('new', np.float64(0.07854441835766096)), ('last', np.float64(0.07529872982888605)), ('attack', np.float64(0.044065828943834214)), ('group', np.float64(0.03417292989318745))]\n",
            "Tópico 1: [('pay', np.float64(0.18332593285934992)), ('killed', np.float64(0.09425084343067597)), ('trump', np.float64(0.06730981920480188)), ('people', np.float64(0.058031055784369644)), ('donald', np.float64(0.044738599503138604))]\n",
            "Tópico 2: [('race', np.float64(0.09913743684325553)), ('hillary', np.float64(0.07099155815459682)), ('clinton', np.float64(0.06882259736225123)), ('trump', np.float64(0.0469259744814983)), ('donald', np.float64(0.039202603896592435))]\n",
            "Tópico 3: [('president', np.float64(0.2951451647343975)), ('home', np.float64(0.2785381507459288)), ('woman', np.float64(0.09938020941991117)), ('black', np.float64(0.07273526873474798)), ('need', np.float64(0.06699649106945677))]\n",
            "Tópico 4: [('day', np.float64(0.3405043358952744)), ('get', np.float64(0.06403402932820484)), ('life', np.float64(0.039489015856217766)), ('question', np.float64(0.031560740679034444)), ('time', np.float64(0.023838744199638013))]\n",
            "Tópico 5: [('something', np.float64(0.21289505667267186)), ('would', np.float64(0.10098205457431651)), ('youre', np.float64(0.09297385754002713)), ('get', np.float64(0.08593055892859824)), ('obama', np.float64(0.048618102360195814))]\n",
            "Tópico 6: [('said', np.float64(0.48435028949969466)), ('first', np.float64(0.1566000900060178)), ('million', np.float64(0.12815310344517558)), ('around', np.float64(0.05895073120466245)), ('woman', np.float64(0.012085071613061467))]\n",
            "Tópico 7: [('time', np.float64(0.1734673726204151)), ('would', np.float64(0.06676250168727191)), ('right', np.float64(0.06631242407985662)), ('say', np.float64(0.03166559478594715)), ('one', np.float64(0.02941182899966698))]\n",
            "Tópico 8: [('one', np.float64(0.22164594731999712)), ('find', np.float64(0.16349409350346297)), ('story', np.float64(0.044351749884053895)), ('many', np.float64(0.03583564023513559)), ('need', np.float64(0.028147837531028598))]\n",
            "Tópico 9: [('year', np.float64(0.2561794150915336)), ('series', np.float64(0.14036511863193418)), ('one', np.float64(0.13947008583239248)), ('work', np.float64(0.04377566887628885)), ('make', np.float64(0.036909061166544535))]\n",
            "\n",
            "Período 1:\n",
            "Tópico 0: [('political', np.float64(0.09152566284943255)), ('new', np.float64(0.07851520116436354)), ('last', np.float64(0.07527246712044092)), ('attack', np.float64(0.04402532226901845)), ('group', np.float64(0.03419431249445924))]\n",
            "Tópico 1: [('pay', np.float64(0.18342920354108)), ('killed', np.float64(0.0942405579936018)), ('trump', np.float64(0.06728181513766543)), ('people', np.float64(0.05800003844550026)), ('donald', np.float64(0.04470121343191104))]\n",
            "Tópico 2: [('race', np.float64(0.0991434773989166)), ('hillary', np.float64(0.07097368283907284)), ('clinton', np.float64(0.06880423765726391)), ('trump', np.float64(0.04689562612410595)), ('donald', np.float64(0.03917190590827073))]\n",
            "Tópico 3: [('president', np.float64(0.29532952492896236)), ('home', np.float64(0.2787565999713083)), ('woman', np.float64(0.09936095310523844)), ('black', np.float64(0.0726839628048008)), ('need', np.float64(0.06693544831701499))]\n",
            "Tópico 4: [('day', np.float64(0.34088336713440426)), ('get', np.float64(0.06396548685907207)), ('life', np.float64(0.03944256571652869)), ('question', np.float64(0.031515151734687503)), ('time', np.float64(0.023838186841369277))]\n",
            "Tópico 5: [('something', np.float64(0.21306032772369005)), ('would', np.float64(0.10097804998142328)), ('youre', np.float64(0.09297394307210927)), ('get', np.float64(0.08591199833847293)), ('obama', np.float64(0.048580263392002776))]\n",
            "Tópico 6: [('said', np.float64(0.42506126612924)), ('first', np.float64(0.17964349526251663)), ('million', np.float64(0.14532435998042145)), ('around', np.float64(0.06498260156242988)), ('woman', np.float64(0.013009067902677803))]\n",
            "Tópico 7: [('time', np.float64(0.14586768256735924)), ('would', np.float64(0.07363473385309931)), ('right', np.float64(0.07307250227408421)), ('say', np.float64(0.0334489492888074)), ('one', np.float64(0.029964996721828487))]\n",
            "Tópico 8: [('find', np.float64(0.19013620524856592)), ('one', np.float64(0.18106923033265776)), ('story', np.float64(0.046833410494128085)), ('many', np.float64(0.03657447857105085)), ('need', np.float64(0.028725261311416193))]\n",
            "Tópico 9: [('year', np.float64(0.20980466516218896)), ('series', np.float64(0.19362490567265614)), ('one', np.float64(0.128705638847473)), ('work', np.float64(0.04783452766054117)), ('make', np.float64(0.03966652545764886))]\n",
            "\n",
            "Período 2:\n",
            "Tópico 0: [('political', np.float64(0.0956382734213576)), ('new', np.float64(0.08131739351287245)), ('last', np.float64(0.07779479480458634)), ('attack', np.float64(0.04455200270584247)), ('group', np.float64(0.03369162151995139))]\n",
            "Tópico 1: [('pay', np.float64(0.1834363244370794)), ('killed', np.float64(0.09418066955963077)), ('trump', np.float64(0.06721890549872117)), ('people', np.float64(0.05794020827065933)), ('donald', np.float64(0.044640461802554106))]\n",
            "Tópico 2: [('race', np.float64(0.09908968696906564)), ('hillary', np.float64(0.0709138839325442)), ('clinton', np.float64(0.06874610825178866)), ('trump', np.float64(0.04683822211344919)), ('donald', np.float64(0.039119878541947886))]\n",
            "Tópico 3: [('president', np.float64(0.29544846196964863)), ('home', np.float64(0.2789431478040209)), ('woman', np.float64(0.09933340781960355)), ('black', np.float64(0.07261883875546381)), ('need', np.float64(0.06685524842595161))]\n",
            "Tópico 4: [('day', np.float64(0.3410964444727858)), ('get', np.float64(0.06385687227686529)), ('life', np.float64(0.03937812161774041)), ('question', np.float64(0.03145673790237594)), ('time', np.float64(0.023843022184224436))]\n",
            "Tópico 5: [('something', np.float64(0.17288983403925817)), ('youre', np.float64(0.11892936102264184)), ('get', np.float64(0.10806034159019175)), ('would', np.float64(0.08826004071152452)), ('obama', np.float64(0.03785823751383768))]\n",
            "Tópico 6: [('said', np.float64(0.3676686505949053)), ('first', np.float64(0.20306409708981057)), ('million', np.float64(0.16238686951788364)), ('around', np.float64(0.07058979613967205)), ('woman', np.float64(0.013807200358971563))]\n",
            "Tópico 7: [('right', np.float64(0.12935663305699266)), ('time', np.float64(0.09795473259348264)), ('would', np.float64(0.05885308373463946)), ('say', np.float64(0.04331762482918911)), ('one', np.float64(0.029816157337043205))]\n",
            "Tópico 8: [('find', np.float64(0.17128549738017332)), ('one', np.float64(0.16733271212402928)), ('story', np.float64(0.05201940297186128)), ('many', np.float64(0.03830522700516237)), ('need', np.float64(0.030083293907226315))]\n",
            "Tópico 9: [('series', np.float64(0.18813410000555267)), ('year', np.float64(0.18644627259334715)), ('one', np.float64(0.10958694720063644)), ('work', np.float64(0.06119714516570106)), ('make', np.float64(0.04910390200502354))]\n",
            "\n",
            "Período 3:\n",
            "Tópico 0: [('political', np.float64(0.09985131061227569)), ('new', np.float64(0.08415497360506864)), ('last', np.float64(0.08034444603503331)), ('attack', np.float64(0.04505037564740023)), ('group', np.float64(0.033179778681928285))]\n",
            "Tópico 1: [('pay', np.float64(0.183408739311866)), ('killed', np.float64(0.09410062760524726)), ('trump', np.float64(0.0671427776863481)), ('people', np.float64(0.057870002409247)), ('donald', np.float64(0.044570598112253286))]\n",
            "Tópico 2: [('race', np.float64(0.10190683123055837)), ('hillary', np.float64(0.07209348062891012)), ('clinton', np.float64(0.06982950111934037)), ('trump', np.float64(0.04714382198974416)), ('donald', np.float64(0.03925109814382989))]\n",
            "Tópico 3: [('president', np.float64(0.38480181649990064)), ('home', np.float64(0.16120368044243283)), ('woman', np.float64(0.11053819824264985)), ('black', np.float64(0.07906222002658214)), ('need', np.float64(0.07241689752382476))]\n",
            "Tópico 4: [('day', np.float64(0.29832774980215643)), ('get', np.float64(0.06919048482708191)), ('life', np.float64(0.042311140292904996)), ('question', np.float64(0.033701981950631794)), ('time', np.float64(0.025312024199296124))]\n",
            "Tópico 5: [('something', np.float64(0.16726014076918708)), ('youre', np.float64(0.13108492358031887)), ('get', np.float64(0.10977396153039914)), ('would', np.float64(0.08253585035078291)), ('court', np.float64(0.04750759118511932))]\n",
            "Tópico 6: [('said', np.float64(0.31369003253788524)), ('first', np.float64(0.226335799598817)), ('million', np.float64(0.1789201098025389)), ('around', np.float64(0.07561833380217388)), ('woman', np.float64(0.014451984285455608))]\n",
            "Tópico 7: [('right', np.float64(0.12975029368111837)), ('time', np.float64(0.07847920165881263)), ('say', np.float64(0.06118833179056877)), ('would', np.float64(0.052611372920851995)), ('one', np.float64(0.030149695521157153))]\n",
            "Tópico 8: [('find', np.float64(0.1952277791829035)), ('one', np.float64(0.1303264883270289)), ('story', np.float64(0.060408507289604466)), ('many', np.float64(0.03860284639014588)), ('need', np.float64(0.030316488875265727))]\n",
            "Tópico 9: [('series', np.float64(0.18022937628285435)), ('year', np.float64(0.16332954902975785)), ('one', np.float64(0.0919763484675072)), ('work', np.float64(0.07718054977441742)), ('make', np.float64(0.05992231165314258))]\n",
            "\n",
            "Período 4:\n",
            "Tópico 0: [('new', np.float64(0.08852171885884288)), ('last', np.float64(0.0828108465927073)), ('political', np.float64(0.07659046803339851)), ('attack', np.float64(0.057259133440531934)), ('police', np.float64(0.03858338116170708))]\n",
            "Tópico 1: [('pay', np.float64(0.21348622714567309)), ('killed', np.float64(0.0983552773514081)), ('trump', np.float64(0.06791325709819045)), ('people', np.float64(0.057882649725940476)), ('donald', np.float64(0.04385834997362909))]\n",
            "Tópico 2: [('race', np.float64(0.1280978994761275)), ('hillary', np.float64(0.08241380786659117)), ('clinton', np.float64(0.07925178810149355)), ('trump', np.float64(0.049758984358893525)), ('donald', np.float64(0.040396510664611446))]\n",
            "Tópico 3: [('president', np.float64(0.29395973956726296)), ('woman', np.float64(0.1586030487972921)), ('home', np.float64(0.12939226020153574)), ('black', np.float64(0.10601248192604862)), ('need', np.float64(0.09565331884339029))]\n",
            "Tópico 4: [('day', np.float64(0.24834197282029508)), ('get', np.float64(0.09467370211446353)), ('life', np.float64(0.051568132054285426)), ('question', np.float64(0.039574095874859896)), ('time', np.float64(0.025739221187723524))]\n",
            "Tópico 5: [('something', np.float64(0.16086455449256282)), ('youre', np.float64(0.14365333012720208)), ('get', np.float64(0.11086281904711288)), ('would', np.float64(0.07673353179754332)), ('court', np.float64(0.06127786570230212))]\n",
            "Tópico 6: [('said', np.float64(0.26423436751728063)), ('first', np.float64(0.24899394467496258)), ('million', np.float64(0.1945862336816574)), ('around', np.float64(0.07996085933967069)), ('woman', np.float64(0.014930278812991544))]\n",
            "Tópico 7: [('right', np.float64(0.13079516855374276)), ('time', np.float64(0.07877364655620447)), ('say', np.float64(0.06900698819816287)), ('would', np.float64(0.03904481370084706)), ('one', np.float64(0.030346682961005424))]\n",
            "Tópico 8: [('find', np.float64(0.21966057755058072)), ('one', np.float64(0.10019510352614767)), ('story', np.float64(0.0692566073335379)), ('many', np.float64(0.038406506592381866)), ('need', np.float64(0.030162067870638784))]\n",
            "Tópico 9: [('series', np.float64(0.19065312710677146)), ('year', np.float64(0.1558515331268199)), ('one', np.float64(0.07941766597269116)), ('make', np.float64(0.07332818344079853)), ('work', np.float64(0.06633850264307518))]\n",
            "\n",
            "Período 5:\n",
            "Tópico 0: [('new', np.float64(0.09217711550483842)), ('last', np.float64(0.08449578917788338)), ('attack', np.float64(0.07205078341572177)), ('political', np.float64(0.058155565430668195)), ('police', np.float64(0.045340116292701016))]\n",
            "Tópico 1: [('pay', np.float64(0.19193476274606786)), ('killed', np.float64(0.11264114250179005)), ('trump', np.float64(0.07433189869141048)), ('people', np.float64(0.0623929269671736)), ('donald', np.float64(0.04624586429741996))]\n",
            "Tópico 2: [('race', np.float64(0.15874970809950897)), ('hillary', np.float64(0.09288576771511156)), ('clinton', np.float64(0.08868072133145527)), ('trump', np.float64(0.05178058239627433)), ('donald', np.float64(0.04099233079932475))]\n",
            "Tópico 3: [('president', np.float64(0.22379176736412407)), ('woman', np.float64(0.1826714503244958)), ('black', np.float64(0.1565244139925143)), ('home', np.float64(0.11870585510104456)), ('need', np.float64(0.09171270244384788))]\n",
            "Tópico 4: [('day', np.float64(0.17049042264411143)), ('get', np.float64(0.139881753075494)), ('life', np.float64(0.06558409138087673)), ('question', np.float64(0.04802361185074554)), ('time', np.float64(0.026202598282860923))]\n",
            "Tópico 5: [('something', np.float64(0.16752213409620453)), ('get', np.float64(0.11882318337187331)), ('youre', np.float64(0.11757672441368665)), ('court', np.float64(0.08224096264437696)), ('would', np.float64(0.07468859388005335))]\n",
            "Tópico 6: [('first', np.float64(0.2990167778080325)), ('said', np.float64(0.2444212305476729)), ('million', np.float64(0.15318225663949722)), ('around', np.float64(0.08638031078986239)), ('woman', np.float64(0.015266557874607291))]\n",
            "Tópico 7: [('right', np.float64(0.1265805373223176)), ('say', np.float64(0.09374254963035974)), ('time', np.float64(0.06559320917131439)), ('would', np.float64(0.03209858072541693)), ('one', np.float64(0.030329564181118086))]\n",
            "Tópico 8: [('find', np.float64(0.2447964008354917)), ('one', np.float64(0.08962115370934302)), ('story', np.float64(0.08682936256772494)), ('many', np.float64(0.03638692256345662)), ('need', np.float64(0.028575922593515563))]\n",
            "Tópico 9: [('series', np.float64(0.19977624146334721)), ('year', np.float64(0.14732989938517665)), ('make', np.float64(0.08889923371194355)), ('obama', np.float64(0.07547005249828793)), ('one', np.float64(0.06793525284586238))]\n",
            "\n",
            "Período 6:\n",
            "Tópico 0: [('new', np.float64(0.09506437785235242)), ('attack', np.float64(0.08979542250324629)), ('last', np.float64(0.08538637902151182)), ('police', np.float64(0.052761883596813414)), ('political', np.float64(0.04373331306718066))]\n",
            "Tópico 1: [('pay', np.float64(0.17159654708126001)), ('killed', np.float64(0.12830523148187517)), ('trump', np.float64(0.08090970325789097)), ('people', np.float64(0.06688568146759848)), ('donald', np.float64(0.04849564625604889))]\n",
            "Tópico 2: [('race', np.float64(0.14757843856867045)), ('hillary', np.float64(0.11179634649095886)), ('clinton', np.float64(0.10578283870246206)), ('trump', np.float64(0.056559140075250376)), ('donald', np.float64(0.04346619936533037))]\n",
            "Tópico 3: [('president', np.float64(0.20374055783129813)), ('black', np.float64(0.1779514680010882)), ('woman', np.float64(0.1659730727298323)), ('home', np.float64(0.11987005001979072)), ('need', np.float64(0.09473680695237696))]\n",
            "Tópico 4: [('day', np.float64(0.1367547256722729)), ('life', np.float64(0.10393683306095884)), ('get', np.float64(0.09839772188698083)), ('question', np.float64(0.06863749566083792)), ('time', np.float64(0.02694213179918208))]\n",
            "Tópico 5: [('something', np.float64(0.17213443863890476)), ('get', np.float64(0.12566798720062955)), ('court', np.float64(0.1089129517883395)), ('youre', np.float64(0.09496670363216705)), ('would', np.float64(0.07173685805550908))]\n",
            "Tópico 6: [('first', np.float64(0.28580979101841175)), ('said', np.float64(0.2557010380234097)), ('million', np.float64(0.13153912491108752)), ('around', np.float64(0.09915966812688369)), ('woman', np.float64(0.016025947971135723))]\n",
            "Tópico 7: [('right', np.float64(0.16448808041868082)), ('say', np.float64(0.10452772085523433)), ('time', np.float64(0.061809416008948015)), ('one', np.float64(0.02855018357613889)), ('like', np.float64(0.02855012088350742))]\n",
            "Tópico 8: [('find', np.float64(0.23881666320842934)), ('one', np.float64(0.09141821754265443)), ('story', np.float64(0.08698989658713265)), ('many', np.float64(0.036640171706139354)), ('need', np.float64(0.02877476978770592))]\n",
            "Tópico 9: [('series', np.float64(0.15941155760208495)), ('year', np.float64(0.1518483140200784)), ('make', np.float64(0.11474745037528603)), ('obama', np.float64(0.0949448286970752)), ('one', np.float64(0.06134522999431775))]\n",
            "\n",
            "Período 7:\n",
            "Tópico 0: [('new', np.float64(0.11791345701879112)), ('attack', np.float64(0.09057051349931884)), ('last', np.float64(0.06908250834191161)), ('police', np.float64(0.06799411504383354)), ('political', np.float64(0.03579237160559523))]\n",
            "Tópico 1: [('killed', np.float64(0.15796792838235893)), ('pay', np.float64(0.11612018881769405)), ('trump', np.float64(0.09306820375546798)), ('people', np.float64(0.07527543821973841)), ('donald', np.float64(0.05292240294662869))]\n",
            "Tópico 2: [('race', np.float64(0.13562597407312688)), ('hillary', np.float64(0.1330190916267675)), ('clinton', np.float64(0.12474343550999535)), ('trump', np.float64(0.06107339907620492)), ('donald', np.float64(0.04556523876613859))]\n",
            "Tópico 3: [('black', np.float64(0.2009286723593321)), ('president', np.float64(0.1842082303302195)), ('woman', np.float64(0.14979708009332113)), ('home', np.float64(0.12023908003496567)), ('need', np.float64(0.09717892719763488))]\n",
            "Tópico 4: [('life', np.float64(0.15678265786062273)), ('day', np.float64(0.10440789753926746)), ('question', np.float64(0.09337023930273354)), ('get', np.float64(0.06588090380572166)), ('time', np.float64(0.02636385066419526))]\n",
            "Tópico 5: [('court', np.float64(0.15311920802268106)), ('get', np.float64(0.1420434693996009)), ('something', np.float64(0.12909647282029074)), ('youre', np.float64(0.08097585594861222)), ('would', np.float64(0.07206824696110166))]\n",
            "Tópico 6: [('first', np.float64(0.2713870312952352)), ('said', np.float64(0.26580662520515386)), ('around', np.float64(0.11309591684967216)), ('million', np.float64(0.1122053498056115)), ('woman', np.float64(0.016709566597476515))]\n",
            "Tópico 7: [('right', np.float64(0.16689049224389035)), ('say', np.float64(0.12940924193490735)), ('time', np.float64(0.06250227665653545)), ('one', np.float64(0.027445437268671193)), ('like', np.float64(0.02744537700178523))]\n",
            "Tópico 8: [('find', np.float64(0.2329324561652634)), ('one', np.float64(0.09322857306404403)), ('story', np.float64(0.08713640256441746)), ('many', np.float64(0.03688732622505308)), ('need', np.float64(0.028968852450232264))]\n",
            "Tópico 9: [('make', np.float64(0.15440562351663215)), ('series', np.float64(0.13486420855816722)), ('obama', np.float64(0.12356211321021981)), ('year', np.float64(0.11486105027364717)), ('one', np.float64(0.05659153189987006))]\n",
            "\n",
            "Período 8:\n",
            "Tópico 0: [('new', np.float64(0.11991733450818987)), ('attack', np.float64(0.10694179050097617)), ('police', np.float64(0.06633538739444744)), ('last', np.float64(0.06323817189975853)), ('political', np.float64(0.03141983069103609))]\n",
            "Tópico 1: [('killed', np.float64(0.1465431066196442)), ('trump', np.float64(0.11398999908771802)), ('people', np.float64(0.08905720953905841)), ('pay', np.float64(0.08505305850204066)), ('donald', np.float64(0.059776760906433725))]\n",
            "Tópico 2: [('hillary', np.float64(0.15633954140988915)), ('clinton', np.float64(0.14531162638473624)), ('race', np.float64(0.12312310658515903)), ('trump', np.float64(0.06514458531848862)), ('donald', np.float64(0.047186012122700544))]\n",
            "Tópico 3: [('black', np.float64(0.22533519414124326)), ('president', np.float64(0.1654004842458597)), ('woman', np.float64(0.1342874373468687)), ('home', np.float64(0.119812075704219)), ('need', np.float64(0.09899014186855322))]\n",
            "Tópico 4: [('life', np.float64(0.1767324989764453)), ('question', np.float64(0.134608100837036)), ('day', np.float64(0.08522682490782832)), ('get', np.float64(0.04573067057709257)), ('time', np.float64(0.02536968513637194))]\n",
            "Tópico 5: [('court', np.float64(0.2082608511404906)), ('get', np.float64(0.15532956883332263)), ('something', np.float64(0.09365985854516315)), ('would', np.float64(0.0700473747559807)), ('youre', np.float64(0.06679745903558312))]\n",
            "Tópico 6: [('first', np.float64(0.2965868238712036)), ('said', np.float64(0.21508487731738546)), ('around', np.float64(0.1373215521138987)), ('million', np.float64(0.10181435364203864)), ('woman', np.float64(0.017531943787768494))]\n",
            "Tópico 7: [('right', np.float64(0.1680843218736339)), ('say', np.float64(0.15906177737487914)), ('time', np.float64(0.06274947460620495)), ('one', np.float64(0.026192820875340864)), ('like', np.float64(0.02619276335899434))]\n",
            "Tópico 8: [('find', np.float64(0.22715748654284665)), ('one', np.float64(0.09504814528800137)), ('story', np.float64(0.08727412281710918)), ('many', np.float64(0.037127528634399505)), ('need', np.float64(0.029157484608423753))]\n",
            "Tópico 9: [('series', np.float64(0.1602567500543683)), ('make', np.float64(0.13742759644968447)), ('year', np.float64(0.11630160675893543)), ('obama', np.float64(0.09877467451499035)), ('one', np.float64(0.06076181706543079))]\n",
            "\n",
            "Período 9:\n",
            "Tópico 0: [('new', np.float64(0.16022092314676326)), ('police', np.float64(0.07482022799046646)), ('attack', np.float64(0.0722722589473109)), ('last', np.float64(0.0664142920971989)), ('group', np.float64(0.03009933703747144))]\n",
            "Tópico 1: [('killed', np.float64(0.10457820403355364)), ('people', np.float64(0.10059599380185755)), ('trump', np.float64(0.09676904903881717)), ('pay', np.float64(0.08760775271556381)), ('want', np.float64(0.06344390043987136))]\n",
            "Tópico 2: [('hillary', np.float64(0.1814056490331848)), ('clinton', np.float64(0.16711803083937798)), ('race', np.float64(0.11034751268609776)), ('trump', np.float64(0.06860238134524928)), ('donald', np.float64(0.048244771038483306))]\n",
            "Tópico 3: [('black', np.float64(0.263513506512304)), ('home', np.float64(0.150370882684726)), ('president', np.float64(0.13731434279637808)), ('woman', np.float64(0.10455760142396732)), ('need', np.float64(0.08164877795212847))]\n",
            "Tópico 4: [('life', np.float64(0.2244611595761055)), ('question', np.float64(0.13026957637004705)), ('day', np.float64(0.06068953562931444)), ('get', np.float64(0.036852481970291284)), ('time', np.float64(0.024915980497467568))]\n",
            "Tópico 5: [('court', np.float64(0.27373472068841775)), ('get', np.float64(0.16415227258893156)), ('would', np.float64(0.06579720924770432)), ('something', np.float64(0.06566024471946577)), ('youre', np.float64(0.053248347364962006))]\n",
            "Tópico 6: [('first', np.float64(0.2955008480181356)), ('said', np.float64(0.20585779733821727)), ('around', np.float64(0.13726319089861364)), ('million', np.float64(0.10001063053375235)), ('woman', np.float64(0.018388642725828342))]\n",
            "Tópico 7: [('say', np.float64(0.19387758643710973)), ('right', np.float64(0.16788233394257412)), ('time', np.float64(0.062472577773776815)), ('one', np.float64(0.02478719176462622)), ('like', np.float64(0.02478713733485329))]\n",
            "Tópico 8: [('find', np.float64(0.2215008335476604)), ('one', np.float64(0.09687501008500352)), ('story', np.float64(0.08740020847855355)), ('many', np.float64(0.037360535668079176)), ('need', np.float64(0.029340469900297487))]\n",
            "Tópico 9: [('series', np.float64(0.18808517949121537)), ('make', np.float64(0.12081653412536882)), ('year', np.float64(0.1163078900898619)), ('obama', np.float64(0.07798903059027627)), ('one', np.float64(0.06443576541871952))]\n",
            "\n",
            "Período 10:\n",
            "Tópico 0: [('new', np.float64(0.13588403901494991)), ('police', np.float64(0.0974362657816805)), ('last', np.float64(0.07948293412978882)), ('attack', np.float64(0.05614230999929584)), ('group', np.float64(0.030330511105142854))]\n",
            "Tópico 1: [('people', np.float64(0.11093217611941567)), ('pay', np.float64(0.08808847729380984)), ('want', np.float64(0.08480771258120987)), ('trump', np.float64(0.08019364380965073)), ('killed', np.float64(0.0728592059130419))]\n",
            "Tópico 2: [('hillary', np.float64(0.1735892095421381)), ('clinton', np.float64(0.15670035917337805)), ('race', np.float64(0.11494792836588977)), ('trump', np.float64(0.0812168969169822)), ('donald', np.float64(0.0545610880292599))]\n",
            "Tópico 3: [('black', np.float64(0.2947865979165334)), ('home', np.float64(0.13246216198176328)), ('president', np.float64(0.11268834028833312)), ('woman', np.float64(0.10913749464453144)), ('need', np.float64(0.08450117062945582))]\n",
            "Tópico 4: [('life', np.float64(0.2297215422281412)), ('question', np.float64(0.12090925532141068)), ('day', np.float64(0.05233457384266051)), ('get', np.float64(0.03395934423939392)), ('time', np.float64(0.025614178897214353))]\n",
            "Tópico 5: [('court', np.float64(0.3475485822332013)), ('get', np.float64(0.167577282800144)), ('would', np.float64(0.059704375616112144)), ('something', np.float64(0.04445821454962264)), ('youre', np.float64(0.04100313309529652))]\n",
            "Tópico 6: [('first', np.float64(0.23723259057383475)), ('said', np.float64(0.22404406238655802)), ('around', np.float64(0.15090172292811616)), ('million', np.float64(0.1060350933868025)), ('woman', np.float64(0.019825352756032814))]\n",
            "Tópico 7: [('say', np.float64(0.2145344856758848)), ('right', np.float64(0.1472440607511753)), ('time', np.float64(0.07050821639085063)), ('one', np.float64(0.02448509705369315)), ('like', np.float64(0.02448504328727566))]\n",
            "Tópico 8: [('find', np.float64(0.2159517964506794)), ('one', np.float64(0.09871476449404473)), ('story', np.float64(0.08751200995046209)), ('many', np.float64(0.03758684756109792)), ('need', np.float64(0.029518198926557535))]\n",
            "Tópico 9: [('series', np.float64(0.17036160218926769)), ('year', np.float64(0.1270294017826268)), ('make', np.float64(0.11632624948715904)), ('one', np.float64(0.07231934754128606)), ('obama', np.float64(0.0657385432752538))]\n",
            "\n",
            "Período 11:\n",
            "Tópico 0: [('police', np.float64(0.12477905986532296)), ('new', np.float64(0.11335787530030093)), ('last', np.float64(0.09357913210744245)), ('attack', np.float64(0.04290767956836601)), ('group', np.float64(0.030058717666180665))]\n",
            "Tópico 1: [('pay', np.float64(0.10857538434556012)), ('people', np.float64(0.10619217054612108)), ('trump', np.float64(0.07994280123323994)), ('want', np.float64(0.06193455763847671)), ('donald', np.float64(0.06125246018321395))]\n",
            "Tópico 2: [('hillary', np.float64(0.1650348071077747)), ('clinton', np.float64(0.1459855588017577)), ('race', np.float64(0.11896126067395174)), ('trump', np.float64(0.09552774087255383)), ('donald', np.float64(0.06130799054958583))]\n",
            "Tópico 3: [('black', np.float64(0.2846674026339202)), ('home', np.float64(0.12973893442733808)), ('woman', np.float64(0.12408800524591303)), ('president', np.float64(0.10102861347993858)), ('need', np.float64(0.09318761184469938))]\n",
            "Tópico 4: [('life', np.float64(0.222108503787296)), ('question', np.float64(0.13288462792514114)), ('day', np.float64(0.047889768358810335)), ('get', np.float64(0.03224161211237216)), ('time', np.float64(0.0256960759221237))]\n",
            "Tópico 5: [('court', np.float64(0.36464299463753436)), ('get', np.float64(0.1620889451008756)), ('would', np.float64(0.06440239833947958)), ('tax', np.float64(0.04522070017221971)), ('youre', np.float64(0.03648349790200747))]\n",
            "Tópico 6: [('first', np.float64(0.2124969815377715)), ('said', np.float64(0.18141340364103736)), ('around', np.float64(0.17884207774836983)), ('million', np.float64(0.1190068069303317)), ('woman', np.float64(0.021686687486251587))]\n",
            "Tópico 7: [('say', np.float64(0.23601120901233152)), ('right', np.float64(0.12836689496408457)), ('time', np.float64(0.07909554028685842)), ('one', np.float64(0.02404401604789809)), ('like', np.float64(0.02404396325003924))]\n",
            "Tópico 8: [('find', np.float64(0.16640817097052002)), ('one', np.float64(0.11042247086525672)), ('story', np.float64(0.09562805982329724)), ('many', np.float64(0.039455549453028864)), ('need', np.float64(0.03098575200687949))]\n",
            "Tópico 9: [('series', np.float64(0.16416405195016587)), ('year', np.float64(0.14322752872847386)), ('make', np.float64(0.11478585039106232)), ('one', np.float64(0.08069403032133002)), ('obama', np.float64(0.05486410771432937))]\n",
            "\n",
            "Período 12:\n",
            "Tópico 0: [('police', np.float64(0.15708154353386727)), ('last', np.float64(0.108326471069088)), ('new', np.float64(0.09299998939207259)), ('attack', np.float64(0.03224413861103738)), ('group', np.float64(0.02928952346787119))]\n",
            "Tópico 1: [('people', np.float64(0.11380192390511225)), ('pay', np.float64(0.10091747044121288)), ('trump', np.float64(0.0863646153253952)), ('donald', np.float64(0.07061984068012209)), ('killed', np.float64(0.052296714016642896))]\n",
            "Tópico 2: [('hillary', np.float64(0.15582046755844509)), ('clinton', np.float64(0.13506742624110826)), ('race', np.float64(0.12226043655403257)), ('trump', np.float64(0.11158076357142258)), ('donald', np.float64(0.06841542728624368))]\n",
            "Tópico 3: [('black', np.float64(0.3017819857834079)), ('woman', np.float64(0.13731500512540268)), ('home', np.float64(0.12595109994952647)), ('need', np.float64(0.09052663824825534)), ('president', np.float64(0.08387414285241594))]\n",
            "Tópico 4: [('life', np.float64(0.2143488609069777)), ('question', np.float64(0.14579118399556126)), ('day', np.float64(0.043739391171201576)), ('get', np.float64(0.030551289869851707)), ('time', np.float64(0.025727638650128164))]\n",
            "Tópico 5: [('court', np.float64(0.31830179654210355)), ('get', np.float64(0.17875537882982118)), ('would', np.float64(0.07614990192383704)), ('tax', np.float64(0.05855220361751957)), ('obama', np.float64(0.03642873918213629))]\n",
            "Tópico 6: [('around', np.float64(0.187329085916805)), ('first', np.float64(0.17766268436970242)), ('million', np.float64(0.16030967005685)), ('said', np.float64(0.13733075968627964)), ('woman', np.float64(0.023736080499424335))]\n",
            "Tópico 7: [('say', np.float64(0.2581451708620911)), ('right', np.float64(0.1112685536957044)), ('time', np.float64(0.08819062791794038)), ('one', np.float64(0.023471629987535582)), ('like', np.float64(0.02347157844656832))]\n",
            "Tópico 8: [('one', np.float64(0.1634858977202745)), ('find', np.float64(0.1359542014294518)), ('story', np.float64(0.08839642769053373)), ('many', np.float64(0.03848877442521337)), ('need', np.float64(0.030226511281751))]\n",
            "Tópico 9: [('year', np.float64(0.1605665109631682)), ('series', np.float64(0.15724619844420112)), ('make', np.float64(0.11261939936754142)), ('one', np.float64(0.08951374655227601)), ('work', np.float64(0.05672090631722925))]\n",
            "\n",
            "Período 13:\n",
            "Tópico 0: [('police', np.float64(0.14637820529010587)), ('last', np.float64(0.12120538273536613)), ('new', np.float64(0.10298138517686717)), ('political', np.float64(0.03059037913355617)), ('group', np.float64(0.028829951763309148))]\n",
            "Tópico 1: [('people', np.float64(0.1210967110939742)), ('pay', np.float64(0.0931204721316921)), ('trump', np.float64(0.09262416404879317)), ('donald', np.float64(0.08082631939065252)), ('killed', np.float64(0.045243468462632726))]\n",
            "Tópico 2: [('hillary', np.float64(0.14605308280039947)), ('trump', np.float64(0.12937558316489875)), ('race', np.float64(0.12473044512863579)), ('clinton', np.float64(0.12405729352989013)), ('donald', np.float64(0.07579206260277806))]\n",
            "Tópico 3: [('black', np.float64(0.31812344362374184)), ('woman', np.float64(0.15111794084552171)), ('home', np.float64(0.12159810437511305)), ('need', np.float64(0.08743670981021613)), ('president', np.float64(0.06923263659537907))]\n",
            "Tópico 4: [('life', np.float64(0.20645415071322948)), ('question', np.float64(0.15965618141307622)), ('day', np.float64(0.03987112432074379)), ('get', np.float64(0.028891805733467016)), ('time', np.float64(0.025707509873235865))]\n",
            "Tópico 5: [('court', np.float64(0.273626074836691)), ('get', np.float64(0.19416281702755026)), ('would', np.float64(0.08868410988420312)), ('tax', np.float64(0.07466758525617485)), ('obama', np.float64(0.04151354136848777))]\n",
            "Tópico 6: [('around', np.float64(0.21341366759061695)), ('first', np.float64(0.15659780824004474)), ('said', np.float64(0.14854472627412124)), ('million', np.float64(0.1008116322962406)), ('woman', np.float64(0.026780129921136746))]\n",
            "Tópico 7: [('say', np.float64(0.305366694194003)), ('right', np.float64(0.11518250239308007)), ('time', np.float64(0.07510251999630838)), ('one', np.float64(0.021841715705864975)), ('like', np.float64(0.02184166774399912))]\n",
            "Tópico 8: [('one', np.float64(0.1338476290728882)), ('find', np.float64(0.12455083438438443)), ('story', np.float64(0.1146849750381566)), ('many', np.float64(0.03941639935596788)), ('need', np.float64(0.03095500581537554))]\n",
            "Tópico 9: [('year', np.float64(0.19455269970033517)), ('make', np.float64(0.11716253521721563)), ('series', np.float64(0.1098704037593029)), ('one', np.float64(0.10432855401656069)), ('work', np.float64(0.061316569476705114))]\n",
            "\n",
            "Período 14:\n",
            "Tópico 0: [('police', np.float64(0.13581339099952267)), ('last', np.float64(0.13505325249980163)), ('new', np.float64(0.11353159095396954)), ('political', np.float64(0.03273358994968431)), ('group', np.float64(0.028248765059738504))]\n",
            "Tópico 1: [('people', np.float64(0.15506690414694121)), ('pay', np.float64(0.09889934107405966)), ('trump', np.float64(0.07657370035249073)), ('donald', np.float64(0.06997591870691358)), ('killed', np.float64(0.04173873928821015))]\n",
            "Tópico 2: [('trump', np.float64(0.14066341450513148)), ('hillary', np.float64(0.13359161117778548)), ('race', np.float64(0.11798183899796727)), ('clinton', np.float64(0.10546506119109397)), ('new', np.float64(0.08864942237421322))]\n",
            "Tópico 3: [('black', np.float64(0.33358665812509697)), ('woman', np.float64(0.1654447211716161)), ('home', np.float64(0.11679314916028577)), ('need', np.float64(0.08399742985416149)), ('president', np.float64(0.05684020143786301))]\n",
            "Tópico 4: [('life', np.float64(0.198444923377927)), ('question', np.float64(0.17446973958851544)), ('day', np.float64(0.03627429818257953)), ('get', np.float64(0.027264956805854567)), ('time', np.float64(0.025635610301519864))]\n",
            "Tópico 5: [('court', np.float64(0.23157963468659978)), ('get', np.float64(0.2076615334815944)), ('would', np.float64(0.10169920449519647)), ('tax', np.float64(0.09375793001731687)), ('obama', np.float64(0.04657174580858669))]\n",
            "Tópico 6: [('around', np.float64(0.18360442384318537)), ('said', np.float64(0.1709153250133232)), ('first', np.float64(0.1472476693352145)), ('million', np.float64(0.06623052075050778)), ('woman', np.float64(0.030394488954217022))]\n",
            "Tópico 7: [('say', np.float64(0.35648637182227877)), ('right', np.float64(0.11765261958139724)), ('time', np.float64(0.06311682200574391)), ('one', np.float64(0.020054797891459468)), ('like', np.float64(0.02005475385345695))]\n",
            "Tópico 8: [('story', np.float64(0.14665836673760585)), ('find', np.float64(0.11247839654533923)), ('one', np.float64(0.1080019791725917)), ('many', np.float64(0.039790218399382495)), ('need', np.float64(0.03124857826902208))]\n",
            "Tópico 9: [('year', np.float64(0.16961710016028844)), ('make', np.float64(0.16661975075355928)), ('work', np.float64(0.08089230127953055)), ('one', np.float64(0.07320949123173838)), ('series', np.float64(0.06932067263144512))]\n",
            "\n",
            "Período 15:\n",
            "Tópico 0: [('new', np.float64(0.1560830792388429)), ('last', np.float64(0.131389506971198)), ('police', np.float64(0.11016289124142074)), ('political', np.float64(0.03716987721506407)), ('group', np.float64(0.027507113314738485))]\n",
            "Tópico 1: [('people', np.float64(0.19145586576951149)), ('pay', np.float64(0.08676309485029483)), ('trump', np.float64(0.0739547312223396)), ('donald', np.float64(0.06967140171221987)), ('killed', np.float64(0.04139844494130977))]\n",
            "Tópico 2: [('hillary', np.float64(0.12789400896434194)), ('new', np.float64(0.12059638371747419)), ('race', np.float64(0.11615897950690433)), ('trump', np.float64(0.11230445317253165)), ('york', np.float64(0.10783047207130272))]\n",
            "Tópico 3: [('black', np.float64(0.2856045568611339)), ('woman', np.float64(0.20454101964095409)), ('home', np.float64(0.1241631198953199)), ('need', np.float64(0.08809104299756217)), ('president', np.float64(0.050374249356774016))]\n",
            "Tópico 4: [('life', np.float64(0.21396870950231464)), ('question', np.float64(0.14366323968829134)), ('day', np.float64(0.034627326176444435)), ('get', np.float64(0.02688551808418238)), ('time', np.float64(0.026423004425621305))]\n",
            "Tópico 5: [('get', np.float64(0.30319635871106837)), ('court', np.float64(0.19056532545368401)), ('would', np.float64(0.12855502370384364)), ('tax', np.float64(0.05739228095120656)), ('obama', np.float64(0.03887911209723452))]\n",
            "Tópico 6: [('said', np.float64(0.16876318393325968)), ('first', np.float64(0.16124382942001053)), ('around', np.float64(0.14258176071365075)), ('million', np.float64(0.05467030203262449)), ('woman', np.float64(0.033260868896751096))]\n",
            "Tópico 7: [('say', np.float64(0.4104826914217255)), ('right', np.float64(0.11848124585909264)), ('time', np.float64(0.05231272475650288)), ('one', np.float64(0.018160049015435976)), ('like', np.float64(0.01816000913808143))]\n",
            "Tópico 8: [('story', np.float64(0.1847393949982475)), ('find', np.float64(0.10006571188975937)), ('one', np.float64(0.08584251621497498)), ('many', np.float64(0.039569654786152826)), ('need', np.float64(0.031075362331053877))]\n",
            "Tópico 9: [('year', np.float64(0.22320538268679957)), ('make', np.float64(0.15943227193704104)), ('one', np.float64(0.05920819953836451)), ('work', np.float64(0.05645336060516727)), ('want', np.float64(0.050884873959921695))]\n",
            "\n",
            "Período 16:\n",
            "Tópico 0: [('new', np.float64(0.2099185097605121)), ('last', np.float64(0.1250907366121108)), ('police', np.float64(0.0874152827120622)), ('political', np.float64(0.04129382969865572)), ('group', np.float64(0.02619778291267981))]\n",
            "Tópico 1: [('people', np.float64(0.20053844115339692)), ('pay', np.float64(0.08473051566678304)), ('trump', np.float64(0.07825380487899453)), ('donald', np.float64(0.07560146930044351)), ('killed', np.float64(0.0432246134609111))]\n",
            "Tópico 2: [('trump', np.float64(0.1470260197651192)), ('new', np.float64(0.12724010434950955)), ('york', np.float64(0.10449981661290723)), ('hillary', np.float64(0.09621717247664967)), ('race', np.float64(0.08555292282094402))]\n",
            "Tópico 3: [('black', np.float64(0.21779963142214956)), ('woman', np.float64(0.2110320014256285)), ('home', np.float64(0.1535908818375853)), ('need', np.float64(0.10438930992221097)), ('president', np.float64(0.048929128597599916))]\n",
            "Tópico 4: [('life', np.float64(0.22902395084840407)), ('question', np.float64(0.11743972780431221)), ('day', np.float64(0.032820655845485186)), ('time', np.float64(0.027039434972222286)), ('call', np.float64(0.026911829375844198))]\n",
            "Tópico 5: [('get', np.float64(0.23841132911179796)), ('court', np.float64(0.1973966871818093)), ('would', np.float64(0.17549209449455674)), ('tax', np.float64(0.0477940792136879)), ('obama', np.float64(0.043106588322319984))]\n",
            "Tópico 6: [('said', np.float64(0.1881040247546719)), ('first', np.float64(0.13280293720850025)), ('around', np.float64(0.12240904936487049)), ('million', np.float64(0.04648744020857192)), ('woman', np.float64(0.03589625825615701))]\n",
            "Tópico 7: [('say', np.float64(0.41604226005517875)), ('right', np.float64(0.1325741697039809)), ('time', np.float64(0.04709544639988511)), ('one', np.float64(0.01754468955715381)), ('like', np.float64(0.01754465103105698))]\n",
            "Tópico 8: [('story', np.float64(0.22906650357281394)), ('find', np.float64(0.08763227180554964)), ('one', np.float64(0.06716644899895226)), ('many', np.float64(0.038738660100450635)), ('need', np.float64(0.030422754635401277))]\n",
            "Tópico 9: [('year', np.float64(0.19412572042470624)), ('make', np.float64(0.1378226943528229)), ('want', np.float64(0.07991008234105185)), ('one', np.float64(0.056641747931148546)), ('obama', np.float64(0.04922682399622323))]\n",
            "\n",
            "Período 17:\n",
            "Tópico 0: [('new', np.float64(0.19589943603804522)), ('last', np.float64(0.15619145548359142)), ('police', np.float64(0.08478329097775089)), ('political', np.float64(0.034475020431913396)), ('group', np.float64(0.02588861648126061))]\n",
            "Tópico 1: [('people', np.float64(0.16943473348481308)), ('pay', np.float64(0.09075153988100795)), ('trump', np.float64(0.0903434105015044)), ('donald', np.float64(0.08931635788676273)), ('killed', np.float64(0.04788958593399252))]\n",
            "Tópico 2: [('trump', np.float64(0.1847234323992411)), ('new', np.float64(0.1288333577318074)), ('donald', np.float64(0.09898392440275074)), ('york', np.float64(0.09719270592434685)), ('time', np.float64(0.09122396922365687))]\n",
            "Tópico 3: [('woman', np.float64(0.24184060529735882)), ('black', np.float64(0.18551531427416657)), ('home', np.float64(0.13512217851933578)), ('need', np.float64(0.12616265186465517)), ('president', np.float64(0.04636926950120104))]\n",
            "Tópico 4: [('life', np.float64(0.2595065954200532)), ('question', np.float64(0.09722456186176331)), ('day', np.float64(0.03045311474907265)), ('time', np.float64(0.02673260089220953)), ('call', np.float64(0.02660644331959601))]\n",
            "Tópico 5: [('would', np.float64(0.23156911380129966)), ('court', np.float64(0.1976463534129239)), ('get', np.float64(0.1812259054332282)), ('obama', np.float64(0.04619749814771082)), ('tax', np.float64(0.03846138003749621))]\n",
            "Tópico 6: [('said', np.float64(0.18788429172731966)), ('first', np.float64(0.12974898127746645)), ('around', np.float64(0.12245863941898587)), ('million', np.float64(0.04040020075263648)), ('woman', np.float64(0.036551462412225406))]\n",
            "Tópico 7: [('say', np.float64(0.5190280660898489)), ('right', np.float64(0.09760024136945417)), ('time', np.float64(0.03885234188670667)), ('one', np.float64(0.014956890221742162)), ('like', np.float64(0.014956857378151554))]\n",
            "Tópico 8: [('story', np.float64(0.27937094587031436)), ('find', np.float64(0.07549013370292981)), ('one', np.float64(0.051699127802298364)), ('many', np.float64(0.03731178231620242)), ('need', np.float64(0.029302180182876506))]\n",
            "Tópico 9: [('year', np.float64(0.22886342998743595)), ('make', np.float64(0.14431126798430166)), ('want', np.float64(0.06081010645761609)), ('one', np.float64(0.05577614094607976)), ('obama', np.float64(0.0405234756311419))]\n",
            "\n",
            "Período 18:\n",
            "Tópico 0: [('new', np.float64(0.23427813718712784)), ('last', np.float64(0.1593802351167127)), ('police', np.float64(0.08829510498960894)), ('political', np.float64(0.028544297455170023)), ('group', np.float64(0.02401024227406886))]\n",
            "Tópico 1: [('people', np.float64(0.14170977026172912)), ('donald', np.float64(0.10442331952507736)), ('trump', np.float64(0.10322043704205042)), ('pay', np.float64(0.09621010518908661)), ('killed', np.float64(0.052523956315542034))]\n",
            "Tópico 2: [('trump', np.float64(0.24768557512626804)), ('donald', np.float64(0.12698656624947355)), ('new', np.float64(0.10732413746644254)), ('clinton', np.float64(0.08512771463679512)), ('hillary', np.float64(0.06878642864877255))]\n",
            "Tópico 3: [('woman', np.float64(0.2727814730294059)), ('black', np.float64(0.15549940834520112)), ('need', np.float64(0.15003588199864443)), ('home', np.float64(0.11698877841171083)), ('president', np.float64(0.04324289947121531))]\n",
            "Tópico 4: [('life', np.float64(0.24204029559849188)), ('question', np.float64(0.08864041886745508)), ('day', np.float64(0.03024185237308791)), ('time', np.float64(0.02792599268804904)), ('call', np.float64(0.027794203212526694))]\n",
            "Tópico 5: [('would', np.float64(0.25606285409641333)), ('get', np.float64(0.15497981607832598)), ('court', np.float64(0.1473760825007683)), ('obama', np.float64(0.05799008030234497)), ('youre', np.float64(0.04483885897528226))]\n",
            "Tópico 6: [('said', np.float64(0.18747187398808307)), ('first', np.float64(0.12663668583747292)), ('around', np.float64(0.1223943413620797)), ('woman', np.float64(0.03717888634332509)), ('million', np.float64(0.03507259123614239))]\n",
            "Tópico 7: [('say', np.float64(0.5884140000787362)), ('right', np.float64(0.07716683161655016)), ('time', np.float64(0.03243537404442812)), ('one', np.float64(0.01311421002414674)), ('like', np.float64(0.013114181226867442))]\n",
            "Tópico 8: [('story', np.float64(0.2581050668632742)), ('find', np.float64(0.07910162705154372)), ('one', np.float64(0.04660336772023577)), ('many', np.float64(0.038742192050964165)), ('need', np.float64(0.030425528389146504))]\n",
            "Tópico 9: [('year', np.float64(0.3243420172365031)), ('make', np.float64(0.11119666731729073)), ('one', np.float64(0.054500930629678354)), ('want', np.float64(0.04617892925061178)), ('obama', np.float64(0.03255689751376634))]\n",
            "\n",
            "Período 19:\n",
            "Tópico 0: [('new', np.float64(0.26784065995031786)), ('last', np.float64(0.14390640114167422)), ('police', np.float64(0.07377093121579613)), ('political', np.float64(0.02632823375896402)), ('group', np.float64(0.023970795296282252))]\n",
            "Tópico 1: [('donald', np.float64(0.12084393218297504)), ('people', np.float64(0.11735603423036976)), ('trump', np.float64(0.11673760129799264)), ('pay', np.float64(0.10100880168173296)), ('killed', np.float64(0.05703704803414448))]\n",
            "Tópico 2: [('trump', np.float64(0.27746535275273865)), ('donald', np.float64(0.123572921302372)), ('clinton', np.float64(0.11030911337480734)), ('new', np.float64(0.0991194612251369)), ('hillary', np.float64(0.07317216288876717))]\n",
            "Tópico 3: [('woman', np.float64(0.3028730314265685)), ('need', np.float64(0.17560174441314724)), ('black', np.float64(0.12828410331940016)), ('home', np.float64(0.09969628981546841)), ('president', np.float64(0.039691226345765))]\n",
            "Tópico 4: [('life', np.float64(0.25130215329680566)), ('question', np.float64(0.08173350826473373)), ('day', np.float64(0.029263067830889267)), ('time', np.float64(0.027894780002253407)), ('call', np.float64(0.027763137826892596))]\n",
            "Tópico 5: [('would', np.float64(0.22365354140572663)), ('get', np.float64(0.14595686710868963)), ('court', np.float64(0.12048474790441259)), ('obama', np.float64(0.07337300067884378)), ('youre', np.float64(0.06002397389975096))]\n",
            "Tópico 6: [('said', np.float64(0.22413584335646347)), ('first', np.float64(0.09584756859961181)), ('around', np.float64(0.09328306252809337)), ('woman', np.float64(0.03900876344657558)), ('million', np.float64(0.0323017198360372))]\n",
            "Tópico 7: [('say', np.float64(0.6541581666261642)), ('right', np.float64(0.05981232704453435)), ('time', np.float64(0.02654656310693948)), ('one', np.float64(0.011271881685060254)), ('like', np.float64(0.011271856933319613))]\n",
            "Tópico 8: [('story', np.float64(0.23766603943374356)), ('find', np.float64(0.08259815032450489)), ('one', np.float64(0.04187532273282268)), ('many', np.float64(0.040104736323936394)), ('need', np.float64(0.03149557959800992))]\n",
            "Tópico 9: [('year', np.float64(0.3349016149188637)), ('make', np.float64(0.10525955652609716)), ('one', np.float64(0.06118186598481029)), ('want', np.float64(0.03988865192179573)), ('obama', np.float64(0.02928010098111817))]\n",
            "\n",
            "Período 20:\n",
            "Tópico 0: [('new', np.float64(0.3035044228415779)), ('last', np.float64(0.12883274049749208)), ('police', np.float64(0.061101254840641356)), ('political', np.float64(0.024067527066141993)), ('group', np.float64(0.023718250626074033))]\n",
            "Tópico 1: [('pay', np.float64(0.13962485821959775)), ('donald', np.float64(0.13055561461937842)), ('trump', np.float64(0.12183907341711288)), ('people', np.float64(0.0898213723757638)), ('killed', np.float64(0.04835518968755807))]\n",
            "Tópico 2: [('trump', np.float64(0.3092758259342119)), ('donald', np.float64(0.13953114513467899)), ('clinton', np.float64(0.10880534639712108)), ('new', np.float64(0.10213047266143108)), ('hillary', np.float64(0.08331646169874507))]\n",
            "Tópico 3: [('woman', np.float64(0.37558018082170175)), ('need', np.float64(0.14622737593492902)), ('black', np.float64(0.11023376427272921)), ('home', np.float64(0.08748827371443285)), ('president', np.float64(0.03662445518413029))]\n",
            "Tópico 4: [('life', np.float64(0.2606653271131411)), ('question', np.float64(0.07528721467662586)), ('day', np.float64(0.028292129721796667)), ('time', np.float64(0.027838372696103505)), ('call', np.float64(0.027706996720382192))]\n",
            "Tópico 5: [('would', np.float64(0.20541624246674747)), ('get', np.float64(0.14040897128153945)), ('court', np.float64(0.09965247660411511)), ('obama', np.float64(0.09346922925428829)), ('youre', np.float64(0.05496243961593131))]\n",
            "Tópico 6: [('said', np.float64(0.2330447645708495)), ('first', np.float64(0.08069464656147214)), ('around', np.float64(0.07884273320982124)), ('woman', np.float64(0.04057931715679274)), ('million', np.float64(0.030664380422386246))]\n",
            "Tópico 7: [('say', np.float64(0.6841539848553847)), ('right', np.float64(0.05129189742885456)), ('time', np.float64(0.02371680958447742)), ('one', np.float64(0.010464372870346858)), ('like', np.float64(0.010464349891801625))]\n",
            "Tópico 8: [('story', np.float64(0.21817169633911793)), ('find', np.float64(0.08596281970955974)), ('many', np.float64(0.04139362542423002)), ('one', np.float64(0.0375060972111528)), ('need', np.float64(0.03250778695711485))]\n",
            "Tópico 9: [('year', np.float64(0.25681226955633757)), ('make', np.float64(0.12375724828036204)), ('one', np.float64(0.08081837220243772)), ('want', np.float64(0.03948674882115102)), ('obama', np.float64(0.029792018021380293))]\n",
            "\n",
            "Período 21:\n",
            "Tópico 0: [('new', np.float64(0.29998541271433954)), ('last', np.float64(0.1309599919836862)), ('police', np.float64(0.05458983700134008)), ('group', np.float64(0.024174734892292323)), ('political', np.float64(0.023080620055652427))]\n",
            "Tópico 1: [('pay', np.float64(0.14973535729828377)), ('donald', np.float64(0.1422123756006875)), ('trump', np.float64(0.13472034449671969)), ('people', np.float64(0.07499710477849496)), ('killed', np.float64(0.04302860448373122))]\n",
            "Tópico 2: [('trump', np.float64(0.4189820096951091)), ('donald', np.float64(0.14509490716385126)), ('clinton', np.float64(0.07796902104686261)), ('new', np.float64(0.07388348377804621)), ('hillary', np.float64(0.06201124518727524))]\n",
            "Tópico 3: [('woman', np.float64(0.4534904629441389)), ('need', np.float64(0.11856586357416501)), ('black', np.float64(0.09223560189916188)), ('home', np.float64(0.07475788353646279)), ('president', np.float64(0.03290723820901146))]\n",
            "Tópico 4: [('life', np.float64(0.29041740087796764)), ('question', np.float64(0.06915259608369025)), ('time', np.float64(0.026888485218043493)), ('day', np.float64(0.026776186525941357)), ('call', np.float64(0.026761591989772068))]\n",
            "Tópico 5: [('would', np.float64(0.1860742376256664)), ('get', np.float64(0.13320914747905144)), ('obama', np.float64(0.11741552669461902)), ('court', np.float64(0.08127447806644791)), ('youre', np.float64(0.049618454550327734))]\n",
            "Tópico 6: [('said', np.float64(0.24087968035922228)), ('first', np.float64(0.06753388515501882)), ('around', np.float64(0.06624437569779867)), ('woman', np.float64(0.041961830644091584)), ('million', np.float64(0.028939639870276233))]\n",
            "Tópico 7: [('say', np.float64(0.712601311713066)), ('right', np.float64(0.04379211786989502)), ('time', np.float64(0.021090702105090467)), ('one', np.float64(0.00967053889904934)), ('like', np.float64(0.009670517663671139))]\n",
            "Tópico 8: [('story', np.float64(0.23182962568201285)), ('find', np.float64(0.10513577622262742)), ('many', np.float64(0.039518732428364484)), ('one', np.float64(0.03449530510700001)), ('need', np.float64(0.031035371302381636))]\n",
            "Tópico 9: [('year', np.float64(0.31033904836001514)), ('make', np.float64(0.11166119676974956)), ('one', np.float64(0.07390869720907234)), ('want', np.float64(0.03654856965243226)), ('obama', np.float64(0.02769947788535878))]\n",
            "\n",
            "Período 22:\n",
            "Tópico 0: [('new', np.float64(0.296222788642285)), ('last', np.float64(0.1330219240745612)), ('police', np.float64(0.04873060984691117)), ('group', np.float64(0.024613384785773587)), ('political', np.float64(0.022113290741935535))]\n",
            "Tópico 1: [('pay', np.float64(0.14965375228033476)), ('donald', np.float64(0.14228251710667142)), ('trump', np.float64(0.13478251843125943)), ('people', np.float64(0.0749935917226611)), ('killed', np.float64(0.04302340806550661))]\n",
            "Tópico 2: [('trump', np.float64(0.5323235248389703)), ('donald', np.float64(0.1415258329970537)), ('clinton', np.float64(0.052409891753835765)), ('new', np.float64(0.05012845009597993)), ('hillary', np.float64(0.04328918340278713))]\n",
            "Tópico 3: [('woman', np.float64(0.4533830687552836)), ('need', np.float64(0.11858144891486669)), ('black', np.float64(0.09223708169831817)), ('home', np.float64(0.07475966001597761)), ('president', np.float64(0.03290697842983988))]\n",
            "Tópico 4: [('life', np.float64(0.3219959983142112)), ('question', np.float64(0.06321059850348304)), ('time', np.float64(0.025849966743482177)), ('call', np.float64(0.02572797453364938)), ('day', np.float64(0.025224809264052527))]\n",
            "Tópico 5: [('get', np.float64(0.1493341879088389)), ('would', np.float64(0.1422720501655954)), ('obama', np.float64(0.12112864008847349)), ('court', np.float64(0.07359009584773235)), ('youre', np.float64(0.047871331518461596))]\n",
            "Tópico 6: [('said', np.float64(0.2767056731517738)), ('first', np.float64(0.06181435194149329)), ('around', np.float64(0.06068755609202465)), ('woman', np.float64(0.040354930965290074)), ('million', np.float64(0.027229150901254415))]\n",
            "Tópico 7: [('say', np.float64(0.7479595213102765)), ('right', np.float64(0.03760060248961939)), ('time', np.float64(0.018347133671647083)), ('one', np.float64(0.008522860672636506)), ('like', np.float64(0.008522841957426154))]\n",
            "Tópico 8: [('story', np.float64(0.244648824674593)), ('find', np.float64(0.12769777776693955)), ('many', np.float64(0.03748180472152751)), ('one', np.float64(0.0315113005292821)), ('need', np.float64(0.029435704414942816))]\n",
            "Tópico 9: [('year', np.float64(0.3693739008140923)), ('make', np.float64(0.09923793769065972)), ('one', np.float64(0.06656792821812003)), ('want', np.float64(0.03333581992881474)), ('obama', np.float64(0.02536640831466728))]\n",
            "\n",
            "Período 23:\n",
            "Tópico 0: [('new', np.float64(0.29714463021397386)), ('last', np.float64(0.15772505358029004)), ('police', np.float64(0.04437347180688828)), ('group', np.float64(0.0236426113787915)), ('see', np.float64(0.020726980010964926))]\n",
            "Tópico 1: [('pay', np.float64(0.14961667222982417)), ('donald', np.float64(0.1423158905932473)), ('trump', np.float64(0.13481223121692165)), ('people', np.float64(0.0749907408114494)), ('killed', np.float64(0.04302084374241432))]\n",
            "Tópico 2: [('trump', np.float64(0.5198312047848773)), ('donald', np.float64(0.1637856782757666)), ('clinton', np.float64(0.048861956612210496)), ('new', np.float64(0.046884698349972366)), ('hillary', np.float64(0.04088007464265955))]\n",
            "Tópico 3: [('woman', np.float64(0.45331893860793493)), ('need', np.float64(0.1185923841909281)), ('black', np.float64(0.09223880484224768)), ('home', np.float64(0.0747610543645654)), ('president', np.float64(0.032907138505037556))]\n",
            "Tópico 4: [('life', np.float64(0.3220419279479533)), ('question', np.float64(0.06320995895244755)), ('time', np.float64(0.025848634383289496)), ('call', np.float64(0.025726648461184644)), ('day', np.float64(0.025221770162740277))]\n",
            "Tópico 5: [('get', np.float64(0.14931403575734184)), ('would', np.float64(0.14226874414395352)), ('obama', np.float64(0.12109613306003111)), ('court', np.float64(0.07358403563782316)), ('youre', np.float64(0.04787711941718851))]\n",
            "Tópico 6: [('said', np.float64(0.2767042764273603)), ('first', np.float64(0.0618151691868502)), ('around', np.float64(0.060687406776886776)), ('woman', np.float64(0.040355050233820855)), ('million', np.float64(0.027228290959415133))]\n",
            "Tópico 7: [('say', np.float64(0.7803778942545482)), ('right', np.float64(0.03207831119209267)), ('time', np.float64(0.015858477153815442)), ('one', np.float64(0.007462604136950648)), ('like', np.float64(0.00746258774994028))]\n",
            "Tópico 8: [('story', np.float64(0.24470763197395048)), ('find', np.float64(0.127740625218571)), ('many', np.float64(0.03747529651429242)), ('one', np.float64(0.03151308172741926)), ('need', np.float64(0.029430593303929213))]\n",
            "Tópico 9: [('year', np.float64(0.3694494335320208)), ('make', np.float64(0.09924086492402127)), ('one', np.float64(0.06657473686078023)), ('want', np.float64(0.033331329364889986)), ('obama', np.float64(0.025372057455988938))]\n"
          ]
        }
      ]
    },
    {
      "cell_type": "markdown",
      "source": [
        "# 8. EJERCICIOS PROPUESTOS\n",
        "# -----------------------\n",
        "\n",
        "\"\"\"\n",
        "1. Ajuste de Parámetros:\n",
        "   - Modifica num_topics y observa los cambios\n",
        "   - Experimenta con diferentes chain_variance\n",
        "   - Prueba diferentes granularidades temporales\n",
        "\n",
        "2. Análisis Temporal:\n",
        "   - ¿Cómo cambian los tópicos mes a mes?\n",
        "   - ¿Hay eventos específicos que afecten los tópicos?\n",
        "   - ¿Qué categorías son más estables/variables?\n",
        "\n",
        "3. Visualizaciones Adicionales:\n",
        "   - Crea un heatmap de evolución temporal\n",
        "   - Visualiza la similitud entre tópicos\n",
        "   - Grafica la evolución de categorías específicas\n",
        "\n",
        "4. Preprocesamiento:\n",
        "   - Añade/elimina stopwords\n",
        "   - Incluye bigramas\n",
        "   - Modifica los filtros de frecuencia\n",
        "\"\"\""
      ],
      "metadata": {
        "id": "L5-MYuUnN0w-"
      }
    },
    {
      "cell_type": "code",
      "source": [
        "# Guardar el modelo\n",
        "dtm.save('dtm_model')\n",
        "\n",
        "# Exportar tópicos por periodo a un CSV\n",
        "topics_over_time = {}\n",
        "num_time_slices = len(time_slices)\n",
        "\n",
        "for t in range(num_time_slices):\n",
        "    # Obtener tópicos para este período\n",
        "    topics = dtm.print_topics(time=t)\n",
        "\n",
        "    # Guardar cada tópico\n",
        "    period_topics = {}\n",
        "    for topic_id, topic_terms in enumerate(topics):\n",
        "        period_topics[f'Topic_{topic_id}'] = topic_terms[1]  # topic_terms[1] contiene los términos\n",
        "\n",
        "    topics_over_time[t] = period_topics\n",
        "\n",
        "# Convertir a DataFrame\n",
        "topics_df = pd.DataFrame.from_dict(topics_over_time, orient='index')\n",
        "\n",
        "# Guardar en CSV\n",
        "topics_df.to_csv('topics_evolution.csv')\n",
        "\n",
        "print(\"\\nResultados guardados:\")\n",
        "print(\"- Modelo: dtm_model\")\n",
        "print(\"- Evolución de tópicos: topics_evolution.csv\")"
      ],
      "metadata": {
        "colab": {
          "base_uri": "https://localhost:8080/"
        },
        "id": "ZV6Qt85WN7Fl",
        "outputId": "8f821c06-ad0a-4fa9-b24e-792c4b29aa78"
      },
      "execution_count": null,
      "outputs": [
        {
          "output_type": "stream",
          "name": "stdout",
          "text": [
            "\n",
            "Resultados guardados:\n",
            "- Modelo: dtm_model\n",
            "- Evolución de tópicos: topics_evolution.csv\n"
          ]
        }
      ]
    }
  ]
}