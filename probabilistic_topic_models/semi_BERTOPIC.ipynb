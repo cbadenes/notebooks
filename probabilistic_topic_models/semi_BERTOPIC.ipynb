{
  "nbformat": 4,
  "nbformat_minor": 0,
  "metadata": {
    "colab": {
      "name": "semi-BERTOPIC.ipynb",
      "provenance": [],
      "collapsed_sections": [
        "1zsao3VWUqQR",
        "9cVdbCPbXqkc",
        "tBpaEpR_Xsic",
        "n7o0QISpYweK",
        "f5wWGtsUZBAN"
      ],
      "authorship_tag": "ABX9TyO7yd/8QiA19z9N8Z1876V4",
      "include_colab_link": true
    },
    "kernelspec": {
      "name": "python3",
      "display_name": "Python 3"
    },
    "language_info": {
      "name": "python"
    },
    "accelerator": "GPU"
  },
  "cells": [
    {
      "cell_type": "markdown",
      "metadata": {
        "id": "view-in-github",
        "colab_type": "text"
      },
      "source": [
        "<a href=\"https://colab.research.google.com/github/cbadenes/notebooks/blob/main/probabilistic_topic_models/semi_BERTOPIC.ipynb\" target=\"_parent\"><img src=\"https://colab.research.google.com/assets/colab-badge.svg\" alt=\"Open In Colab\"/></a>"
      ]
    },
    {
      "cell_type": "markdown",
      "source": [
        "Notebook based on code retrieved from [MaartenGr/BERTopic](https://github.com/MaartenGr/BERTopic)\n",
        "\n",
        "Remember to enable GPU by `Runtime>Change runtime type>Hardware accelerator (GPU)`"
      ],
      "metadata": {
        "id": "Co8MUJNmPXge"
      }
    },
    {
      "cell_type": "code",
      "source": [
        "!pip install bertopic"
      ],
      "metadata": {
        "id": "wTGjqGhRO0gN"
      },
      "execution_count": null,
      "outputs": []
    },
    {
      "cell_type": "markdown",
      "source": [
        "We use the popular [20 Newsgroups](http://qwone.com/~jason/20Newsgroups/) dataset which contains roughly 18000 newsgroups posts that each is assigned to one of 20 categories. Using this dataset we can try to extract its corresponding topic model whilst taking its underlying categories into account."
      ],
      "metadata": {
        "id": "WMZqL_e-OYue"
      }
    },
    {
      "cell_type": "code",
      "execution_count": null,
      "metadata": {
        "id": "n0ezYyLlOQIf"
      },
      "outputs": [],
      "source": [
        "from bertopic import BERTopic\n",
        "from sklearn.datasets import fetch_20newsgroups\n",
        "\n",
        "data = fetch_20newsgroups(subset='all',  remove=('headers', 'footers', 'quotes'))\n",
        "docs = data[\"data\"]\n",
        "categories = data[\"target\"]\n",
        "category_names = data[\"target_names\"]\n",
        "classes = [data[\"target_names\"][i] for i in data[\"target\"]]\n",
        "for idx, val in enumerate(category_names):\n",
        "    print(idx, val)"
      ]
    },
    {
      "cell_type": "markdown",
      "source": [
        "Each document is put into one of the previous categories:"
      ],
      "metadata": {
        "id": "OD6LICXdQgGj"
      }
    },
    {
      "cell_type": "code",
      "source": [
        "print(\"Document:\",docs[0])\n",
        "print(\"Category:\",categories[0] )\n",
        "print(\"Label:\",category_names[categories[0]])"
      ],
      "metadata": {
        "id": "6EJ0KueQQg7K"
      },
      "execution_count": null,
      "outputs": []
    },
    {
      "cell_type": "markdown",
      "source": [
        "\n",
        "\n",
        "For this example, imagine we only use the labels of categories that are related to computers and we want to create a topic model using semi-supervised modeling:"
      ],
      "metadata": {
        "id": "VbLpZG2GP8Tr"
      }
    },
    {
      "cell_type": "code",
      "source": [
        "labels_to_add = ['comp.graphics', 'comp.os.ms-windows.misc',\n",
        "              'comp.sys.ibm.pc.hardware', 'comp.sys.mac.hardware',\n",
        "              'comp.windows.x',]\n",
        "indices = [category_names.index(label) for label in labels_to_add]\n",
        "new_categories = [label if label in indices else -1 for label in categories]\n",
        "print(new_categories[:10],\"..\")"
      ],
      "metadata": {
        "id": "Z4wBBSBEQH9v"
      },
      "execution_count": null,
      "outputs": []
    },
    {
      "cell_type": "markdown",
      "source": [
        "`new_categories` contains many -1 values since we do not know all the categories."
      ],
      "metadata": {
        "id": "Gyu9npxjSqyh"
      }
    },
    {
      "cell_type": "code",
      "source": [
        "print(\"Document:\",docs[0])\n",
        "print(\"Category:\",new_categories[0] )"
      ],
      "metadata": {
        "id": "yr6npsJRSjVd"
      },
      "execution_count": null,
      "outputs": []
    },
    {
      "cell_type": "markdown",
      "source": [
        "Next, we use those newly constructed labels to create a  semi-supervised topic model:"
      ],
      "metadata": {
        "id": "ZebjB07wSvCJ"
      }
    },
    {
      "cell_type": "code",
      "source": [
        "from sklearn.feature_extraction.text import CountVectorizer\n",
        "\n",
        "vectorizer_model = CountVectorizer(stop_words=\"english\", \n",
        "                                   min_df=10)\n",
        "\n",
        "topic_model = BERTopic(calculate_probabilities=True, vectorizer_model=vectorizer_model, low_memory=True, verbose=True)\n",
        "topics, _ = topic_model.fit_transform(docs, y=new_categories)"
      ],
      "metadata": {
        "id": "wTEvHK6aVWQH"
      },
      "execution_count": null,
      "outputs": []
    },
    {
      "cell_type": "markdown",
      "source": [
        "## Extracting Topics"
      ],
      "metadata": {
        "id": "ZClF8Ov0XNiV"
      }
    },
    {
      "cell_type": "markdown",
      "source": [
        "After fitting our model, we can start by looking at the results. Typically, we look at the most frequent topics first as they best represent the collection of documents."
      ],
      "metadata": {
        "id": "EVDy04zuUJVB"
      }
    },
    {
      "cell_type": "code",
      "source": [
        "topic_model.get_topic_info().head(10)"
      ],
      "metadata": {
        "id": "Sz0k1gA5US4c"
      },
      "execution_count": null,
      "outputs": []
    },
    {
      "cell_type": "markdown",
      "source": [
        "-1 refers to all outliers and should typically be ignored. \n",
        "\n",
        "The topics that were created mostly make sense. There are some clearly defined topics but also some topics that seem mostly derived from other topics. We can visualize this by extracting the topic representations per class and see if our unsupervised model closely resembles this.\n",
        "\n",
        "NOTE: You can hover over the bars to see the representation per class!!"
      ],
      "metadata": {
        "id": "k_76mcGcUX2Z"
      }
    },
    {
      "cell_type": "code",
      "source": [
        "topics_per_class = topic_model.topics_per_class(docs, topics, classes=classes)\n",
        "fig_unsupervised = topic_model.visualize_topics_per_class(topics_per_class, top_n_topics=10)\n",
        "fig_unsupervised"
      ],
      "metadata": {
        "id": "9ve17C8XUnv0"
      },
      "execution_count": null,
      "outputs": []
    },
    {
      "cell_type": "markdown",
      "source": [
        "NOTE: BERTopic is stocastich which mmeans that the topics might differ across runs. This is mostly due to the stocastisch nature of UMAP.\n",
        "\n"
      ],
      "metadata": {
        "id": "Uy_SMz_CXfZT"
      }
    },
    {
      "cell_type": "markdown",
      "source": [
        "## Visualization"
      ],
      "metadata": {
        "id": "1zsao3VWUqQR"
      }
    },
    {
      "cell_type": "markdown",
      "source": [
        "### Visualize Topics"
      ],
      "metadata": {
        "id": "9cVdbCPbXqkc"
      }
    },
    {
      "cell_type": "markdown",
      "source": [
        "After having trained our BERTopic model, we can iteratively go through perhaps a hundred topic to get a good understanding of the topics that were extract. However, that takes quite some time and lacks a global representation. Instead, we can visualize the topics that were generated in a way very similar to LDAvis:"
      ],
      "metadata": {
        "id": "Uz-lUNqgXkvR"
      }
    },
    {
      "cell_type": "code",
      "source": [
        "topic_model.visualize_topics()"
      ],
      "metadata": {
        "id": "trsZZ26zXmfQ"
      },
      "execution_count": null,
      "outputs": []
    },
    {
      "cell_type": "markdown",
      "source": [
        "### Visualize Topic Probabilities\n",
        "\n",
        "The variable probabilities that is returned from transform() or fit_transform() can be used to understand how confident BERTopic is that certain topics can be found in a document.\n",
        "\n",
        "To visualize the distributions, we simply call:"
      ],
      "metadata": {
        "id": "tBpaEpR_Xsic"
      }
    },
    {
      "cell_type": "code",
      "source": [
        "topic_model.visualize_distribution(probs[200], min_probability=0.015)"
      ],
      "metadata": {
        "id": "ZIdn-joNXxiP"
      },
      "execution_count": null,
      "outputs": []
    },
    {
      "cell_type": "markdown",
      "source": [
        "### Visualize Topic Hierarchy\n",
        "\n",
        "The topics that were created can be hierarchically reduced. In order to understand the potential hierarchical structure of the topics, we can use scipy.cluster.hierarchy to create clusters and visualize how they relate to one another. This might help selecting an appropriate nr_topics when reducing the number of topics that you have created."
      ],
      "metadata": {
        "id": "n7o0QISpYweK"
      }
    },
    {
      "cell_type": "code",
      "source": [
        "topic_model.visualize_hierarchy(top_n_topics=50)"
      ],
      "metadata": {
        "id": "pPWQpJ1uY3-D"
      },
      "execution_count": null,
      "outputs": []
    },
    {
      "cell_type": "markdown",
      "source": [
        "### Visualize Terms\n",
        "\n",
        "We can visualize the selected terms for a few topics by creating bar charts out of the c-TF-IDF scores for each topic representation. Insights can be gained from the relative c-TF-IDF scores between and within topics. Moreover, you can easily compare topic representations to each other."
      ],
      "metadata": {
        "id": "f5wWGtsUZBAN"
      }
    },
    {
      "cell_type": "code",
      "source": [
        "topic_model.visualize_barchart(top_n_topics=5)"
      ],
      "metadata": {
        "id": "A-_KkJP3ZEnN"
      },
      "execution_count": null,
      "outputs": []
    }
  ]
}