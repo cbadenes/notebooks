{
  "nbformat": 4,
  "nbformat_minor": 0,
  "metadata": {
    "colab": {
      "name": "TBFY-Crosslingual-SearchAPI.ipynb",
      "provenance": [],
      "collapsed_sections": [],
      "include_colab_link": true
    },
    "kernelspec": {
      "name": "python3",
      "display_name": "Python 3"
    }
  },
  "cells": [
    {
      "cell_type": "markdown",
      "metadata": {
        "id": "view-in-github",
        "colab_type": "text"
      },
      "source": [
        "<a href=\"https://colab.research.google.com/github/cbadenes/notebooks/blob/main/probabilistic_topic_models/TBFY_Crosslingual_SearchAPI.ipynb\" target=\"_parent\"><img src=\"https://colab.research.google.com/assets/colab-badge.svg\" alt=\"Open In Colab\"/></a>"
      ]
    },
    {
      "cell_type": "markdown",
      "metadata": {
        "id": "MnkQdbyMPsW2"
      },
      "source": [
        "A **cross-lingual search API** for exploring public contracts in the European Union"
      ]
    },
    {
      "cell_type": "markdown",
      "metadata": {
        "id": "eVT8pqcPS7Hv"
      },
      "source": [
        "# Why?\n",
        "\n",
        "[TheyBuyForYou](https://theybuyforyou.eu/) collects, annotates and organizes large amounts of public procurement data in the European Union.\n",
        "\n",
        "Let's explore its content through a set of questions!"
      ]
    },
    {
      "cell_type": "markdown",
      "metadata": {
        "id": "ke21DSinTg-V"
      },
      "source": [
        "## What types of documents are available?"
      ]
    },
    {
      "cell_type": "code",
      "metadata": {
        "colab": {
          "base_uri": "https://localhost:8080/",
          "height": 264
        },
        "id": "pwhy-VflUiRm",
        "outputId": "53f56266-69b1-4b3a-ec5b-b8761fb8e7a1"
      },
      "source": [
        "import requests\n",
        "import pandas as pd\n",
        "import matplotlib.pyplot as plt\n",
        "\n",
        "params = {\n",
        "    \"facet.field\":\"source_s\",\n",
        "    \"facet\":\"on\",\n",
        "    \"q\":\"*:*\"\n",
        "}\n",
        "\n",
        "url=\"http://librairy.linkeddata.es/data/tbfy/select\"\n",
        "resp = requests.get(url=url, params=params)\n",
        "data = resp.json()\n",
        "data_types = data['facet_counts']['facet_fields']['source_s']\n",
        "\n",
        "data_sources = [lang for lang in data_types if isinstance(lang, str)][:-1]\n",
        "frequencies = [freq for freq in data_types if isinstance(freq, int)][:-1]\n",
        "\n",
        "#df = pd.DataFrame(frequencies, index=data_sources, columns=['x'])\n",
        " \n",
        "#df.plot(kind='pie', subplots=True, figsize=(5, 5))\n",
        "\n",
        "\n",
        "plt.pie(frequencies, labels=data_sources,\n",
        "        startangle=90,\n",
        "        explode = (0, 0.1),\n",
        "        autopct = '%1.2f%%')\n",
        "\n",
        "plt.axis('equal') \n",
        "plt.title('Sources')\n",
        "plt.show()"
      ],
      "execution_count": 4,
      "outputs": [
        {
          "output_type": "display_data",
          "data": {
            "image/png": "[encoded data removed]",
            "text/plain": [
              "<Figure size 432x288 with 1 Axes>"
            ]
          },
          "metadata": {}
        }
      ]
    },
    {
      "cell_type": "markdown",
      "metadata": {
        "id": "ocW2dGX0f2wM"
      },
      "source": [
        "## What are they about?"
      ]
    },
    {
      "cell_type": "code",
      "metadata": {
        "colab": {
          "base_uri": "https://localhost:8080/",
          "height": 175
        },
        "id": "0-9DqA6Kf8Qc",
        "outputId": "bc60a721-3491-44a9-e14f-d92146dccff2"
      },
      "source": [
        "!pip install wordcloud\n",
        "from wordcloud import WordCloud, STOPWORDS\n",
        "import requests\n",
        "import matplotlib.pyplot as plt\n",
        "import numpy as np\n",
        "\n",
        "def retrieve_texts(source):\n",
        "  params = {\n",
        "    \"start\":\"0\",\n",
        "    \"rows\":\"100\",\n",
        "    \"fl\":\"txt_t\",\n",
        "    \"q\":\"lang_s:en & source_s:\"+source\n",
        "  }\n",
        "  url=\"http://librairy.linkeddata.es/data/tbfy/select\"\n",
        "  resp = requests.get(url=url, params=params)\n",
        "  data = resp.json()\n",
        "  texts = [txt['txt_t'] for txt in data['response']['docs'] ]\n",
        "  text = ' '.join(texts)\n",
        "  return text\n",
        "\n",
        "\n",
        "plt.figure()\n",
        "\n",
        "plt.subplot(1, 2, 1).set_title(\"Tender\")\n",
        "plt.plot()\n",
        "plt.imshow(WordCloud(max_font_size=50, max_words=100, background_color=\"white\",stopwords = set(STOPWORDS)).generate(retrieve_texts(\"tender\")), interpolation=\"bilinear\")\n",
        "plt.axis(\"off\")\n",
        "\n",
        "plt.subplot(1, 2, 2).set_title(\"JRC\")\n",
        "plt.plot()\n",
        "plt.imshow(WordCloud(max_font_size=50, max_words=100, background_color=\"white\",stopwords = set(STOPWORDS)).generate(retrieve_texts(\"jrc\")), interpolation=\"bilinear\")\n",
        "plt.axis(\"off\")\n",
        "\n",
        "plt.show()"
      ],
      "execution_count": 5,
      "outputs": [
        {
          "output_type": "stream",
          "name": "stdout",
          "text": [
            "Requirement already satisfied: wordcloud in /usr/local/lib/python3.7/dist-packages (1.5.0)\n",
            "Requirement already satisfied: pillow in /usr/local/lib/python3.7/dist-packages (from wordcloud) (7.1.2)\n",
            "Requirement already satisfied: numpy>=1.6.1 in /usr/local/lib/python3.7/dist-packages (from wordcloud) (1.21.5)\n"
          ]
        },
        {
          "output_type": "display_data",
          "data": {
            "image/png": "[encoded data removed]",
            "text/plain": [
              "<Figure size 432x288 with 2 Axes>"
            ]
          },
          "metadata": {
            "needs_background": "light"
          }
        }
      ]
    },
    {
      "cell_type": "markdown",
      "metadata": {
        "id": "bNyjJjq3Ui5h"
      },
      "source": [
        "## How many different languages are there?"
      ]
    },
    {
      "cell_type": "code",
      "metadata": {
        "id": "RGJOBiJzU2mC"
      },
      "source": [
        "import requests\n",
        "import matplotlib.pyplot as plt\n",
        "import numpy as np\n",
        "\n",
        "params = {\n",
        "    \"facet.field\":\"lang_s\",\n",
        "    \"facet\":\"on\",\n",
        "    \"q\":\"*:*\"\n",
        "}\n",
        "\n",
        "url=\"http://librairy.linkeddata.es/data/tbfy/select\"\n",
        "resp = requests.get(url=url, params=params)\n",
        "data = resp.json()\n",
        "language_data = data['facet_counts']['facet_fields']['lang_s']\n",
        "\n",
        "languages = [lang for lang in language_data if isinstance(lang, str)]\n",
        "y_pos = np.arange(len(languages))\n",
        "frequencies = [freq for freq in language_data if isinstance(freq, int)]\n",
        "plt.bar(y_pos, frequencies, align='center', alpha=0.5)\n",
        "\n",
        "plt.xticks(y_pos, languages)\n",
        "plt.ylabel('#Docs')\n",
        "plt.title('Languages')\n",
        "plt.rcParams[\"figure.figsize\"] = [200, 5]\n"
      ],
      "execution_count": null,
      "outputs": []
    },
    {
      "cell_type": "markdown",
      "metadata": {
        "id": "wtIA__QUdrla"
      },
      "source": [
        "## Are these texts long?"
      ]
    },
    {
      "cell_type": "code",
      "metadata": {
        "colab": {
          "base_uri": "https://localhost:8080/",
          "height": 319
        },
        "id": "SO-MM0uLdvdP",
        "outputId": "7615279e-0b21-4abc-8600-d965818ac614"
      },
      "source": [
        "import requests\n",
        "import matplotlib.pyplot as plt\n",
        "import numpy as np\n",
        "\n",
        "params = {\n",
        "    \"facet.range\":\"size_i\",\n",
        "    \"facet.range.start\":\"0\",\n",
        "    \"facet.range.end\":\"3001\",\n",
        "    \"facet.range.gap\":\"100\",\n",
        "    \"facet\":\"on\",\n",
        "    \"q\":\"*:*\"\n",
        "}\n",
        "\n",
        "url=\"http://librairy.linkeddata.es/data/tbfy/select\"\n",
        "resp = requests.get(url=url, params=params)\n",
        "data = resp.json()\n",
        "facet_data = data['facet_counts']['facet_ranges']['size_i']['counts']\n",
        "\n",
        "sizes = [size for size in facet_data if isinstance(size, str)]\n",
        "y_pos = np.arange(len(sizes))\n",
        "frequencies = [freq for freq in facet_data if isinstance(freq, int)]\n",
        "plt.bar(y_pos, frequencies, align='center', alpha=0.5)\n",
        "\n",
        "plt.xticks(y_pos, sizes)\n",
        "plt.ylabel('#Docs')\n",
        "plt.title('#Characters')\n",
        "plt.rcParams[\"figure.figsize\"] = [20, 5]"
      ],
      "execution_count": 7,
      "outputs": [
        {
          "output_type": "display_data",
          "data": {
            "image/png": "[encoded data removed]",
            "text/plain": [
              "<Figure size 1440x360 with 1 Axes>"
            ]
          },
          "metadata": {
            "needs_background": "light"
          }
        }
      ]
    },
    {
      "cell_type": "markdown",
      "metadata": {
        "id": "Otbiu9WVd7Pf"
      },
      "source": [
        "# What does **SearchAPI** offer me?"
      ]
    },
    {
      "cell_type": "markdown",
      "metadata": {
        "id": "n6qr1Yk8qUWd"
      },
      "source": [
        "**SearchAPI** finds *similar texts* regardless of the *language*. \n",
        "\n",
        "So if we consider **organizations** and **contracts** rather than only texts, SearchAPI helps us **find organizations that have participated in contracts related to a given description**."
      ]
    },
    {
      "cell_type": "code",
      "metadata": {
        "id": "DD_iyPRYWIXu",
        "colab": {
          "base_uri": "https://localhost:8080/"
        },
        "cellView": "form",
        "outputId": "f0f2850b-d16d-4dba-b46d-80f73142a29d"
      },
      "source": [
        "#@title Enter a description \n",
        "\n",
        "text = 'Food consumption data are essential for assessing how exposed people are to potential risks in the food chain.' #@param {type:\"string\"}\n",
        "\n",
        "print(\"reference text updated\")"
      ],
      "execution_count": 8,
      "outputs": [
        {
          "output_type": "stream",
          "name": "stdout",
          "text": [
            "reference text updated\n"
          ]
        }
      ]
    },
    {
      "cell_type": "markdown",
      "metadata": {
        "id": "wxW9_risfqlh"
      },
      "source": [
        "## Texts related across languages"
      ]
    },
    {
      "cell_type": "markdown",
      "metadata": {
        "id": "Aw0bQG5xfxMn"
      },
      "source": [
        "We can use the [Search API](https://github.com/TBFY/search-API) service to search for tenders related to that procurement text:"
      ]
    },
    {
      "cell_type": "code",
      "metadata": {
        "id": "LrPegcXii3Ic",
        "colab": {
          "base_uri": "https://localhost:8080/"
        },
        "outputId": "21fde36d-cea8-4f0c-de01-43da588a1249"
      },
      "source": [
        "import requests\n",
        "\n",
        "def retrieve_documents(request):\n",
        "  base_url = 'https://tbfy.librairy.linkeddata.es/search-api'\n",
        "  resp = requests.post(base_url+'/items', json=request)\n",
        "  if resp.status_code != 200:\n",
        "    # This means something went wrong.\n",
        "    print('POST /items/ {}'.format(resp.status_code))\n",
        "    pass\n",
        "  return resp.json()    \n",
        "  \n",
        "\n",
        "def search_documents(request):\n",
        "  i=1\n",
        "  for document in retrieve_documents(request):\n",
        "    print('[{}] {}'.format(i, document))\n",
        "    i+=1  \n",
        "\n",
        "request = {\"source\": \"tender\", \"size\": \"10\", \"text\" : text }\n",
        "search_documents(request)"
      ],
      "execution_count": 9,
      "outputs": [
        {
          "output_type": "stream",
          "name": "stdout",
          "text": [
            "[1] {'id': 'ocds-0c46vo-0133-183447-2020_183447-2020_td', 'name': 'DIN 18353 Estricharbeiten', 'score': 2888.64453125}\n",
            "[2] {'id': 'ocds-0c46vo-0133-045906-2020_045906-2020_td', 'name': 'Achat de denrées alimentaires pour la restauration scolaire de Vezin-le-Coquet', 'score': 2888.64453125}\n",
            "[3] {'id': 'ocds-0c46vo-0117-163236_163236', 'name': 'The development of a branding strategy for the Kilkenny Food Strategy 2020- 2025', 'score': 2888.64453125}\n",
            "[4] {'id': 'ocds-0c46vo-0117-160742_160742', 'name': 'Feasibility study on development pathway for a Food Verification & Certification System for the Kilkenny region.', 'score': 2888.64453125}\n",
            "[5] {'id': 'ocds-0c46vo-0022-NOV317039_NOV317039', 'name': 'tFood Hygiene Inspections', 'score': 2888.64453125}\n",
            "[6] {'id': 'ocds-0c46vo-0022-FEB327117_FEB327117', 'name': 'Food Hygene Inspections', 'score': 2888.64453125}\n",
            "[7] {'id': 'ocds-0c46vo-0020-sandwellmbc_2832_sandwellmbc_2832', 'name': 'Quotation for Official Food Control Inspectons 2019/20', 'score': 2888.64453125}\n",
            "[8] {'id': 'ocds-0c46vo-0005-43200_43200', 'name': 'FS307029 - Future Consumer – Food and Generation Z', 'score': 2888.64453125}\n",
            "[9] {'id': 'ocds-0c46vo-0005-42790_42790', 'name': 'Repatriating EU Food Safety Regulation: Assessing the Impact on UK Business', 'score': 2888.64453125}\n",
            "[10] {'id': 'ocds-0c46vo-0005-41454_41454', 'name': 'Rapid Evidence Assessment to understand Consumer Attitudes and Behaviours', 'score': 2888.64453125}\n"
          ]
        }
      ]
    },
    {
      "cell_type": "markdown",
      "metadata": {
        "id": "UZsMKLalkdd5"
      },
      "source": [
        "The above search was tuned to retrieve documents describing tenders (i.e `source = tender`, that are related to a given text (i.e. `text='procurement_text'`), and only the top 10 were retrieved (i.e. `size=10`).\n",
        "\n",
        "Each search result contains the document identifier, the name and a numerical value to illustrate the level of relationship to the reference text (e.g. `'score': 2794.13`).\n",
        "\n",
        "The search service can be currently filtered by the following parameters: `size`, `source`, `terms`, `name` and `lang`. **All of them can be freely combined.**"
      ]
    },
    {
      "cell_type": "markdown",
      "metadata": {
        "id": "f8tNmTFAmorz"
      },
      "source": [
        "#### Filtering by language"
      ]
    },
    {
      "cell_type": "markdown",
      "metadata": {
        "id": "dog3IZr-mqvv"
      },
      "source": [
        "The language parameter `lang` follows the [ISO 639-1 Code](https://www.iso.org/iso-639-language-codes.html). The service currently supports the following languages: English (`en`), Spanish (`es`), French(`fr`), Italian(`it`) and Portuguese(`pt`).\n",
        "\n",
        "Let's now search for related documents written in Spanish:"
      ]
    },
    {
      "cell_type": "code",
      "metadata": {
        "id": "EPEg_80VmI_1",
        "colab": {
          "base_uri": "https://localhost:8080/"
        },
        "outputId": "7a1ee88b-9795-4f8e-b0b3-715418a2cdfa"
      },
      "source": [
        "request = {\"source\": \"tender\", \"size\": \"10\", \"text\" : text, \"lang\": \"es\" }\n",
        "search_documents(request)"
      ],
      "execution_count": 10,
      "outputs": [
        {
          "output_type": "stream",
          "name": "stdout",
          "text": [
            "[1] {'id': 'ocds-0c46vo-0321-612544_612544', 'name': 'AMT-2019-0060:Servizo  de desenvolvemento, mantemento evolutivo e soporte dun sistema de información de xestión de prestación de servizos  da Axencia Galega de Calidade Alimentaria (AGACAL)', 'score': 2819.64599609375}\n",
            "[2] {'id': 'ocds-0c46vo-0133-594378-2019_594378-2019_td', 'name': 'Suministro agregado de material fungible para el soporte nutricional enteral para los centros del Institut Català de la Salut complementario', 'score': 2819.64599609375}\n",
            "[3] {'id': 'ocds-0c46vo-0133-509546-2019_509546-2019_td', 'name': 'Suministro de viveres con destino al Hospital de Barbastro', 'score': 2819.64599609375}\n",
            "[4] {'id': 'ocds-0c46vo-0133-260820-2019_260820-2019_td', 'name': 'Suministro de productos farmacéuticos para la fluidoterapia, soluciones para nutriciones parenterales y soluciones de irrigación', 'score': 2819.64599609375}\n",
            "[5] {'id': 'ocds-0c46vo-0133-253105-2019_253105-2019_td', 'name': 'Contrato de servicio de catering en las escuelas infantiles municipales de Almuñécar', 'score': 2819.64599609375}\n",
            "[6] {'id': 'ocds-0c46vo-0133-231669-2019_231669-2019_td', 'name': 'Contrato AM suministro (CCA. 6L3LVFR)', 'score': 2819.64599609375}\n",
            "[7] {'id': 'ocds-0c46vo-0133-022081-2019_022081-2019_td', 'name': 'Servicio de monitores y acompañamiento pedagógico y nutricional para el fomento de la alimentación saludable en la campaña escolar «5 al día» y en el campus de verano «Refréscate con 5 al día»', 'score': 2819.64599609375}\n",
            "[8] {'id': 'ocds-0c46vo-0133-450655-2019_450655-2019_td', 'name': 'Servicios de traducción de documentos para la Agencia Española de Seguridad Alimentaria y Nutrición (AESAN)', 'score': 2710.498291015625}\n",
            "[9] {'id': 'ocds-0c46vo-0133-051810-2020_051810-2020_td', 'name': 'Servicios de traducción de documentos para la Agencia Española de Seguridad Alimentaria y Nutrición (AESAN)', 'score': 347.2894592285156}\n",
            "[10] {'id': 'ocds-0c46vo-0133-272967-2019_272967-2019_td', 'name': 'Servicio de máquinas expendedoras con productos saludables y criterios de carácter medioambiental, para el Área de Salud de Cáceres', 'score': 344.8933410644531}\n"
          ]
        }
      ]
    },
    {
      "cell_type": "markdown",
      "metadata": {
        "id": "fsmWBWi1oP1j"
      },
      "source": [
        "#### Filtering by source"
      ]
    },
    {
      "cell_type": "markdown",
      "metadata": {
        "id": "xaRhxzkjoTTM"
      },
      "source": [
        "Currently, both the tender descriptions retrieved from the TBFY Knowledge-Graph (i.e. `source=tender`) and the legal texts published in the JRC-Acquis dataset (i.e. `source=jrc`) are available through the web service . \n",
        "\n",
        "If the `source` parameter is missing, no filtering is done:"
      ]
    },
    {
      "cell_type": "code",
      "metadata": {
        "id": "0NnDwetWpNAy",
        "colab": {
          "base_uri": "https://localhost:8080/"
        },
        "outputId": "c98e9279-320d-4db5-a381-5b45db987b81"
      },
      "source": [
        "request = {\"size\": \"10\", \"text\" : text }\n",
        "search_documents(request)"
      ],
      "execution_count": 11,
      "outputs": [
        {
          "output_type": "stream",
          "name": "stdout",
          "text": [
            "[1] {'id': 'jrc52006AG0002-en', 'name': 'Common Position (EC) No 2/2006 of  8 December 2005  adopted by the Council, acting in accordance with the procedure referred to in Article 251 of the Treaty establishing the European Community, with a view to adopting a regulation of the European Parliament and of the Council on the addition of vitamins and minerals and of certain other substances to foods', 'score': 2888.64453125}\n",
            "[2] {'id': 'jrc32004L0001-en', 'name': 'Commission Directive 2004/1/EC of 6 January 2004 amending Directive 2002/72/EC as regards the suspension of the use of azodicarbonamide as blowing agent (Text with EEA relevance)', 'score': 2888.64453125}\n",
            "[3] {'id': 'jrc32003L0114-en', 'name': 'Directive 2003/114/EC of the European Parliament and of the Council of 22 December 2003 amending Directive 95/2/EC on food additives other than colours and sweeteners', 'score': 2888.64453125}\n",
            "[4] {'id': 'jrc32002L0046-en', 'name': 'Directive 2002/46/EC of the European Parliament and of the Council of 10 June 2002 on the approximation of the laws of the Member States relating to food supplements (Text with EEA relevance)', 'score': 2888.64453125}\n",
            "[5] {'id': 'jrc32002L0016-en', 'name': 'Commission Directive 2002/16/EC of 20 February 2002 on the use of certain epoxy derivatives in materials and articles intended to come into contact with foodstuffs (Text with EEA relevance)', 'score': 2888.64453125}\n",
            "[6] {'id': 'jrc32001L0015-en', 'name': 'Commission Directive 2001/15/EC of 15 February 2001 on substances that may be added for specific nutritional purposes in foods for particular nutritional uses (Text with EEA relevance)', 'score': 2888.64453125}\n",
            "[7] {'id': 'jrc31999L0041-en', 'name': 'Directive 1999/41/EC of the European Parliament and of the Council of 7 June 1999 amending Directive 89/398/EEC on the approximation of the laws of the Member States relating to foodstuffs intended for particular nutritional uses', 'score': 2888.64453125}\n",
            "[8] {'id': 'jrc31996L0083-en', 'name': 'Directive 96/83/EC of the European Parliament and of the Council of 19 December 1996 amending Directive 94/35/EC on sweeteners for use in foodstuffs', 'score': 2888.64453125}\n",
            "[9] {'id': 'jrc31995L0045-en', 'name': 'Commission Directive 95/45/EC of 26 July 1995 laying down specific purity criteria concerning colours for use in foodstuffs', 'score': 2888.64453125}\n",
            "[10] {'id': 'jrc31995L0031-en', 'name': 'Commission Directive 95/31/EC of 5 July 1995 laying down specific criteria of purity concerning sweeteners for use in foodstuffs', 'score': 2888.64453125}\n"
          ]
        }
      ]
    },
    {
      "cell_type": "markdown",
      "metadata": {
        "id": "m_zaY4h9rHPM"
      },
      "source": [
        "We can search through tenders (i.e. `source=tender`):"
      ]
    },
    {
      "cell_type": "code",
      "metadata": {
        "id": "4vKxiQ9ErT-k",
        "colab": {
          "base_uri": "https://localhost:8080/"
        },
        "outputId": "e826b337-fee6-41a3-9fba-1b394d7e87f8"
      },
      "source": [
        "request = {\"source\":\"tender\", \"size\": \"10\", \"text\" : text }\n",
        "search_documents(request)"
      ],
      "execution_count": 12,
      "outputs": [
        {
          "output_type": "stream",
          "name": "stdout",
          "text": [
            "[1] {'id': 'ocds-0c46vo-0133-183447-2020_183447-2020_td', 'name': 'DIN 18353 Estricharbeiten', 'score': 2888.64453125}\n",
            "[2] {'id': 'ocds-0c46vo-0133-045906-2020_045906-2020_td', 'name': 'Achat de denrées alimentaires pour la restauration scolaire de Vezin-le-Coquet', 'score': 2888.64453125}\n",
            "[3] {'id': 'ocds-0c46vo-0117-163236_163236', 'name': 'The development of a branding strategy for the Kilkenny Food Strategy 2020- 2025', 'score': 2888.64453125}\n",
            "[4] {'id': 'ocds-0c46vo-0117-160742_160742', 'name': 'Feasibility study on development pathway for a Food Verification & Certification System for the Kilkenny region.', 'score': 2888.64453125}\n",
            "[5] {'id': 'ocds-0c46vo-0022-NOV317039_NOV317039', 'name': 'tFood Hygiene Inspections', 'score': 2888.64453125}\n",
            "[6] {'id': 'ocds-0c46vo-0022-FEB327117_FEB327117', 'name': 'Food Hygene Inspections', 'score': 2888.64453125}\n",
            "[7] {'id': 'ocds-0c46vo-0020-sandwellmbc_2832_sandwellmbc_2832', 'name': 'Quotation for Official Food Control Inspectons 2019/20', 'score': 2888.64453125}\n",
            "[8] {'id': 'ocds-0c46vo-0005-43200_43200', 'name': 'FS307029 - Future Consumer – Food and Generation Z', 'score': 2888.64453125}\n",
            "[9] {'id': 'ocds-0c46vo-0005-42790_42790', 'name': 'Repatriating EU Food Safety Regulation: Assessing the Impact on UK Business', 'score': 2888.64453125}\n",
            "[10] {'id': 'ocds-0c46vo-0005-41454_41454', 'name': 'Rapid Evidence Assessment to understand Consumer Attitudes and Behaviours', 'score': 2888.64453125}\n"
          ]
        }
      ]
    },
    {
      "cell_type": "markdown",
      "metadata": {
        "id": "haEv_FLArYdk"
      },
      "source": [
        "Or among European Union legal texts (i.e `source=jrc`):"
      ]
    },
    {
      "cell_type": "code",
      "metadata": {
        "id": "F56HIIAyrg64",
        "colab": {
          "base_uri": "https://localhost:8080/"
        },
        "outputId": "91bfb92b-ed6f-4ef4-9808-bacc593d740e"
      },
      "source": [
        "request = {\"source\":\"jrc\", \"size\": \"10\", \"text\" : text }\n",
        "search_documents(request)"
      ],
      "execution_count": 13,
      "outputs": [
        {
          "output_type": "stream",
          "name": "stdout",
          "text": [
            "[1] {'id': 'jrc52006AG0002-en', 'name': 'Common Position (EC) No 2/2006 of  8 December 2005  adopted by the Council, acting in accordance with the procedure referred to in Article 251 of the Treaty establishing the European Community, with a view to adopting a regulation of the European Parliament and of the Council on the addition of vitamins and minerals and of certain other substances to foods', 'score': 2888.64453125}\n",
            "[2] {'id': 'jrc32004L0001-en', 'name': 'Commission Directive 2004/1/EC of 6 January 2004 amending Directive 2002/72/EC as regards the suspension of the use of azodicarbonamide as blowing agent (Text with EEA relevance)', 'score': 2888.64453125}\n",
            "[3] {'id': 'jrc32003L0114-en', 'name': 'Directive 2003/114/EC of the European Parliament and of the Council of 22 December 2003 amending Directive 95/2/EC on food additives other than colours and sweeteners', 'score': 2888.64453125}\n",
            "[4] {'id': 'jrc32002L0046-en', 'name': 'Directive 2002/46/EC of the European Parliament and of the Council of 10 June 2002 on the approximation of the laws of the Member States relating to food supplements (Text with EEA relevance)', 'score': 2888.64453125}\n",
            "[5] {'id': 'jrc32002L0016-en', 'name': 'Commission Directive 2002/16/EC of 20 February 2002 on the use of certain epoxy derivatives in materials and articles intended to come into contact with foodstuffs (Text with EEA relevance)', 'score': 2888.64453125}\n",
            "[6] {'id': 'jrc32001L0015-en', 'name': 'Commission Directive 2001/15/EC of 15 February 2001 on substances that may be added for specific nutritional purposes in foods for particular nutritional uses (Text with EEA relevance)', 'score': 2888.64453125}\n",
            "[7] {'id': 'jrc31999L0041-en', 'name': 'Directive 1999/41/EC of the European Parliament and of the Council of 7 June 1999 amending Directive 89/398/EEC on the approximation of the laws of the Member States relating to foodstuffs intended for particular nutritional uses', 'score': 2888.64453125}\n",
            "[8] {'id': 'jrc31996L0083-en', 'name': 'Directive 96/83/EC of the European Parliament and of the Council of 19 December 1996 amending Directive 94/35/EC on sweeteners for use in foodstuffs', 'score': 2888.64453125}\n",
            "[9] {'id': 'jrc31995L0045-en', 'name': 'Commission Directive 95/45/EC of 26 July 1995 laying down specific purity criteria concerning colours for use in foodstuffs', 'score': 2888.64453125}\n",
            "[10] {'id': 'jrc31995L0031-en', 'name': 'Commission Directive 95/31/EC of 5 July 1995 laying down specific criteria of purity concerning sweeteners for use in foodstuffs', 'score': 2888.64453125}\n"
          ]
        }
      ]
    },
    {
      "cell_type": "markdown",
      "metadata": {
        "id": "9Q3_Y47yruUk"
      },
      "source": [
        "In any case, the search can also be filtered by a particular language, for example French (i.e. `lang=fr`):"
      ]
    },
    {
      "cell_type": "code",
      "metadata": {
        "id": "Zc6gn87vr39E",
        "colab": {
          "base_uri": "https://localhost:8080/"
        },
        "outputId": "6e321bf3-edc9-4b4f-fbd7-94d0f45957d0"
      },
      "source": [
        "request = {\"lang\": \"fr\", \"source\":\"jrc\", \"size\": \"10\", \"text\" : text }\n",
        "search_documents(request)"
      ],
      "execution_count": 15,
      "outputs": [
        {
          "output_type": "stream",
          "name": "stdout",
          "text": [
            "[1] {'id': 'jrc52005AP0202-fr', 'name': \"Résolution législative du Parlement européen sur la proposition de règlement du Parlement européen et du Conseil concernant l'adjonction de vitamines, de substances minérales et de certaines autres substances aux denrées alimentaires (COM(2003)0671 - C5-0538/2003 - 2003/0262(COD))\", 'score': 2888.64453125}\n",
            "[2] {'id': 'jrc32005L0079-fr', 'name': \"Directive 2005/79/CE de la Commission du 18 novembre 2005 portant modification de la directive 2002/72/CE concernant les matériaux et objets en matière plastique destinés à entrer en contact avec les denrées alimentaires   (Texte présentant de l'intérêt pour l'EEE)\", 'score': 2888.64453125}\n",
            "[3] {'id': 'jrc32004L0077-fr', 'name': \"Directive 2004/77/CE de la Commission du 29 avril 2004 modifiant la directive 94/54/CE en ce qui concerne l'étiquetage de certaines denrées alimentaires contenant de l'acide glycyrrhizinique et son sel d'ammonium (Texte présentant de l'intérêt pour l'EEE)\", 'score': 2888.64453125}\n",
            "[4] {'id': 'jrc32002L0046-fr', 'name': \"Directive 2002/46/CE du Parlement européen et du Conseil du 10 juin 2002 relative au rapprochement des législations des États membres concernant les compléments alimentaires (Texte présentant de l'intérêt pour l'EEE)\", 'score': 2888.64453125}\n",
            "[5] {'id': 'jrc32001L0015-fr', 'name': \"Directive 2001/15/CE de la Commission du 15 février 2001 relative aux substances qui peuvent être ajoutées dans un but nutritionnel spécifique aux denrées alimentaires destinées à une alimentation particulière (Texte présentant de l'intérêt pour l'EEE)\", 'score': 2888.64453125}\n",
            "[6] {'id': 'jrc32000L0051-fr', 'name': \"Directive 2000/51/CE de la Commission du 26 juillet 2000 modifiant la directive 95/31/CE établissant des critères de pureté spécifique pour les édulcorants pouvant être utilisés dans les denrées alimentaires (Texte présentant de l'intérêt pour l'EEE)\", 'score': 2888.64453125}\n",
            "[7] {'id': 'jrc31999L0041-fr', 'name': 'Directive 1999/41/CE du Parlement européen et du Conseil, du 7 juin 1999, modifiant la directive 89/398/CEE relative au rapprochement des législations des États membres concernant les denrées alimentaires destinées à une alimentation particulière', 'score': 2888.64453125}\n",
            "[8] {'id': 'jrc31999L0003-fr', 'name': 'Directive 1999/3/CE du Parlement européen et du Conseil du 22 février 1999 établissant une liste communautaire de denrées et ingrédients alimentaires traités par ionisation', 'score': 2888.64453125}\n",
            "[9] {'id': 'jrc31998L0072-fr', 'name': 'Directive 98/72/CE du Parlement européen et du Conseil du 15 octobre 1998 modifiant la directive 95/2/CE concernant les additifs alimentaires autres que les colorants et les édulcorants', 'score': 2888.64453125}\n",
            "[10] {'id': 'jrc22004D0124-fr', 'name': \"Décision du Comité mixte de l'EEE n°\\xa0124/2004 du 24\\xa0septembre 2004 modifiant l'annexe\\xa0II (Réglementations techniques, normes, essais et certification) de l'accord EEE\", 'score': 2888.64453125}\n"
          ]
        }
      ]
    },
    {
      "cell_type": "markdown",
      "metadata": {
        "id": "X_vR_6tyvvDy"
      },
      "source": [
        "#### Filtering by Terms\n",
        "\n",
        "You can also filter by documents containing certain words. Just add the `terms` parameter with the exact sequence of words you want the documents to contain. Please be careful with upper and lower case. "
      ]
    },
    {
      "cell_type": "code",
      "metadata": {
        "id": "46rRoQd6wF1i",
        "colab": {
          "base_uri": "https://localhost:8080/"
        },
        "outputId": "7b05deb7-d249-4730-a98a-f3246c24e459"
      },
      "source": [
        "request = { \"terms\": \"animal\", \"source\":\"tender\", \"size\": \"10\", \"text\": text}\n",
        "search_documents(request)"
      ],
      "execution_count": 16,
      "outputs": [
        {
          "output_type": "stream",
          "name": "stdout",
          "text": [
            "[1] {'id': 'ocds-0c46vo-0117-146520_146520', 'name': 'Veterinary Services Bantry Area', 'score': 2888.64453125}\n",
            "[2] {'id': 'ocds-0c46vo-0117-151181_151181', 'name': 'Veterinary Services - Bantry Area', 'score': 2822.042236328125}\n",
            "[3] {'id': 'ocds-0c46vo-0005-42369_42369', 'name': 'FSA657 - Literature Reviews', 'score': 2822.042236328125}\n",
            "[4] {'id': 'ocds-0c46vo-0133-269538-2019_269538-2019_td', 'name': 'Yardleys School — Tender for Catering Services', 'score': 2819.64599609375}\n",
            "[5] {'id': 'ocds-0c46vo-0133-266296-2019_266296-2019_td', 'name': 'Waverley School and Waverley Studio College — Tender for Catering Services', 'score': 2819.64599609375}\n",
            "[6] {'id': 'ocds-0c46vo-0133-165744-2020_165744-2020_td', 'name': 'Al-Furqan Primary School — Catering Tender', 'score': 2819.64599609375}\n",
            "[7] {'id': 'ocds-0c46vo-0022-APR330717_APR330717', 'name': 'Al-Furqan Primary School — Catering Tender', 'score': 2819.64599609375}\n",
            "[8] {'id': 'ocds-0c46vo-0020-birminghamcc_1830_birminghamcc_1830', 'name': 'BWCP201905 - Provision of Specialist Zoo Diets and Nutritional Supplements to Birmingham Wildlife Conservation Park', 'score': 2819.64599609375}\n",
            "[9] {'id': 'ocds-0c46vo-0022-AUG306749_AUG306749', 'name': 'Provision of Development Management & Business and Community Protection Software', 'score': 344.8933410644531}\n",
            "[10] {'id': 'ocds-0c46vo-0001-ebea1d03-b698-48d8-a2b9-9fb60abf95b9_ocds-b5fd17-9f637e15-7441-4a02-b8b5-0eeee2e61a98-bwcp201905', 'name': 'BWCP201905 - Provision of Specialist Zoo Diets and Nutritional Supplements to Birmingham Wildlife Conservation Park', 'score': 344.8933410644531}\n"
          ]
        }
      ]
    },
    {
      "cell_type": "markdown",
      "metadata": {
        "id": "rWo1Z-cCw3f9"
      },
      "source": [
        "#### Filtering by Name"
      ]
    },
    {
      "cell_type": "markdown",
      "metadata": {
        "id": "gD6Zm2GGx97p"
      },
      "source": [
        "You can also filter by document name, or part of the name. Again, be careful with upper and lower case.  Just use the `name` parameter\n",
        "\n",
        "The special character `*` expresses any word in that position. So if you want its name to start with `Security` the filter should be `name=Security*`:\n"
      ]
    },
    {
      "cell_type": "code",
      "metadata": {
        "id": "0sW_Wm0-yG9k",
        "colab": {
          "base_uri": "https://localhost:8080/"
        },
        "outputId": "a60f14e3-1ab1-4145-fd82-aee024ce8a48"
      },
      "source": [
        "request = { \"name\" : \"*Certification*\", \"source\":\"tender\", \"size\": \"10\", \"text\": text}\n",
        "search_documents(request)"
      ],
      "execution_count": 17,
      "outputs": [
        {
          "output_type": "stream",
          "name": "stdout",
          "text": [
            "[1] {'id': 'ocds-0c46vo-0117-160742_160742', 'name': 'Feasibility study on development pathway for a Food Verification & Certification System for the Kilkenny region.', 'score': 2888.64453125}\n"
          ]
        }
      ]
    },
    {
      "cell_type": "markdown",
      "metadata": {
        "id": "itptWW0R0fKv"
      },
      "source": [
        "## Browse the TBFY Knowledge Graph"
      ]
    },
    {
      "cell_type": "markdown",
      "metadata": {
        "id": "rN7JKxdN0qK3"
      },
      "source": [
        "The **ID** field returned by **SearchAPI** for each **document** corresponds to the **identifier** used by the **KG**\n",
        "\n",
        "Once we have the list of related documents, we can directly use their `id` and `source` attributes to read the resource in the Knowledge-Graph.\n"
      ]
    },
    {
      "cell_type": "code",
      "metadata": {
        "id": "uUVM8CkP1aB9",
        "colab": {
          "base_uri": "https://localhost:8080/"
        },
        "outputId": "88434d73-667c-436d-9032-d4df24a5a338"
      },
      "source": [
        "def retrieve_tenders(request):\n",
        "  documents = retrieve_documents(request)\n",
        "  tenders = []\n",
        "  for document in documents:\n",
        "    id = document['id']\n",
        "    tender = requests.get('https://tbfy.librairy.linkeddata.es/kg-api/tender/'+id).json()\n",
        "    tenders.append(tender)\n",
        "  return tenders\n",
        "\n",
        "def search_tenders(request):\n",
        "  tenders = retrieve_tenders(request)\n",
        "  i=1\n",
        "  for tender in tenders:\n",
        "    status = \"unknown\"\n",
        "    title = \"unknown\"\n",
        "    id = \"unknown\"\n",
        "    if ('status' in tender):\n",
        "        status = tender['status']\n",
        "    if ('title' in tender):        \n",
        "        title = tender['title']\n",
        "    if ('id' in tender):\n",
        "      id = tender['id']\n",
        "    print('[{}] [{}] \"{} ({})\"'.format(i,status, title, id))    \n",
        "    i+=1\n",
        "\n",
        "print(\"Search for tenders in KG is ready\")"
      ],
      "execution_count": 18,
      "outputs": [
        {
          "output_type": "stream",
          "name": "stdout",
          "text": [
            "Search for tenders in KG is ready\n"
          ]
        }
      ]
    },
    {
      "cell_type": "markdown",
      "metadata": {
        "id": "xLOrNF8T08pB"
      },
      "source": [
        "#### Reading tenders from KG"
      ]
    },
    {
      "cell_type": "markdown",
      "metadata": {
        "id": "s2dkF9w82W4n"
      },
      "source": [
        "We can easily read the `status` of the **tenders** in the KG from the **documents** found in the **Search-API**:"
      ]
    },
    {
      "cell_type": "code",
      "metadata": {
        "id": "53lvmnZf2Y61",
        "colab": {
          "base_uri": "https://localhost:8080/",
          "height": 294
        },
        "outputId": "9df28ef1-162a-4020-af32-b80108a98902"
      },
      "source": [
        "search_tenders({ \"source\":\"tender\",\"size\": \"10\", \"text\": text})"
      ],
      "execution_count": 20,
      "outputs": [
        {
          "output_type": "error",
          "ename": "JSONDecodeError",
          "evalue": "ignored",
          "traceback": [
            "\u001b[0;31m---------------------------------------------------------------------------\u001b[0m",
            "\u001b[0;31mJSONDecodeError\u001b[0m                           Traceback (most recent call last)",
            "\u001b[0;32m<ipython-input-20-dd95b442bedd>\u001b[0m in \u001b[0;36m<module>\u001b[0;34m()\u001b[0m\n\u001b[0;32m----> 1\u001b[0;31m \u001b[0msearch_tenders\u001b[0m\u001b[0;34m(\u001b[0m\u001b[0;34m{\u001b[0m \u001b[0;34m\"source\"\u001b[0m\u001b[0;34m:\u001b[0m\u001b[0;34m\"tender\"\u001b[0m\u001b[0;34m,\u001b[0m\u001b[0;34m\"size\"\u001b[0m\u001b[0;34m:\u001b[0m \u001b[0;34m\"10\"\u001b[0m\u001b[0;34m,\u001b[0m \u001b[0;34m\"text\"\u001b[0m\u001b[0;34m:\u001b[0m \u001b[0mtext\u001b[0m\u001b[0;34m}\u001b[0m\u001b[0;34m)\u001b[0m\u001b[0;34m\u001b[0m\u001b[0;34m\u001b[0m\u001b[0m\n\u001b[0m",
            "\u001b[0;32m<ipython-input-18-0e0d94ac8f01>\u001b[0m in \u001b[0;36msearch_tenders\u001b[0;34m(request)\u001b[0m\n\u001b[1;32m      9\u001b[0m \u001b[0;34m\u001b[0m\u001b[0m\n\u001b[1;32m     10\u001b[0m \u001b[0;32mdef\u001b[0m \u001b[0msearch_tenders\u001b[0m\u001b[0;34m(\u001b[0m\u001b[0mrequest\u001b[0m\u001b[0;34m)\u001b[0m\u001b[0;34m:\u001b[0m\u001b[0;34m\u001b[0m\u001b[0;34m\u001b[0m\u001b[0m\n\u001b[0;32m---> 11\u001b[0;31m   \u001b[0mtenders\u001b[0m \u001b[0;34m=\u001b[0m \u001b[0mretrieve_tenders\u001b[0m\u001b[0;34m(\u001b[0m\u001b[0mrequest\u001b[0m\u001b[0;34m)\u001b[0m\u001b[0;34m\u001b[0m\u001b[0;34m\u001b[0m\u001b[0m\n\u001b[0m\u001b[1;32m     12\u001b[0m   \u001b[0mi\u001b[0m\u001b[0;34m=\u001b[0m\u001b[0;36m1\u001b[0m\u001b[0;34m\u001b[0m\u001b[0;34m\u001b[0m\u001b[0m\n\u001b[1;32m     13\u001b[0m   \u001b[0;32mfor\u001b[0m \u001b[0mtender\u001b[0m \u001b[0;32min\u001b[0m \u001b[0mtenders\u001b[0m\u001b[0;34m:\u001b[0m\u001b[0;34m\u001b[0m\u001b[0;34m\u001b[0m\u001b[0m\n",
            "\u001b[0;32m<ipython-input-18-0e0d94ac8f01>\u001b[0m in \u001b[0;36mretrieve_tenders\u001b[0;34m(request)\u001b[0m\n\u001b[1;32m      4\u001b[0m   \u001b[0;32mfor\u001b[0m \u001b[0mdocument\u001b[0m \u001b[0;32min\u001b[0m \u001b[0mdocuments\u001b[0m\u001b[0;34m:\u001b[0m\u001b[0;34m\u001b[0m\u001b[0;34m\u001b[0m\u001b[0m\n\u001b[1;32m      5\u001b[0m     \u001b[0mid\u001b[0m \u001b[0;34m=\u001b[0m \u001b[0mdocument\u001b[0m\u001b[0;34m[\u001b[0m\u001b[0;34m'id'\u001b[0m\u001b[0;34m]\u001b[0m\u001b[0;34m\u001b[0m\u001b[0;34m\u001b[0m\u001b[0m\n\u001b[0;32m----> 6\u001b[0;31m     \u001b[0mtender\u001b[0m \u001b[0;34m=\u001b[0m \u001b[0mrequests\u001b[0m\u001b[0;34m.\u001b[0m\u001b[0mget\u001b[0m\u001b[0;34m(\u001b[0m\u001b[0;34m'https://tbfy.librairy.linkeddata.es/kg-api/tender/'\u001b[0m\u001b[0;34m+\u001b[0m\u001b[0mid\u001b[0m\u001b[0;34m)\u001b[0m\u001b[0;34m.\u001b[0m\u001b[0mjson\u001b[0m\u001b[0;34m(\u001b[0m\u001b[0;34m)\u001b[0m\u001b[0;34m\u001b[0m\u001b[0;34m\u001b[0m\u001b[0m\n\u001b[0m\u001b[1;32m      7\u001b[0m     \u001b[0mtenders\u001b[0m\u001b[0;34m.\u001b[0m\u001b[0mappend\u001b[0m\u001b[0;34m(\u001b[0m\u001b[0mtender\u001b[0m\u001b[0;34m)\u001b[0m\u001b[0;34m\u001b[0m\u001b[0;34m\u001b[0m\u001b[0m\n\u001b[1;32m      8\u001b[0m   \u001b[0;32mreturn\u001b[0m \u001b[0mtenders\u001b[0m\u001b[0;34m\u001b[0m\u001b[0;34m\u001b[0m\u001b[0m\n",
            "\u001b[0;32m/usr/local/lib/python3.7/dist-packages/requests/models.py\u001b[0m in \u001b[0;36mjson\u001b[0;34m(self, **kwargs)\u001b[0m\n\u001b[1;32m    896\u001b[0m                     \u001b[0;31m# used.\u001b[0m\u001b[0;34m\u001b[0m\u001b[0;34m\u001b[0m\u001b[0;34m\u001b[0m\u001b[0m\n\u001b[1;32m    897\u001b[0m                     \u001b[0;32mpass\u001b[0m\u001b[0;34m\u001b[0m\u001b[0;34m\u001b[0m\u001b[0m\n\u001b[0;32m--> 898\u001b[0;31m         \u001b[0;32mreturn\u001b[0m \u001b[0mcomplexjson\u001b[0m\u001b[0;34m.\u001b[0m\u001b[0mloads\u001b[0m\u001b[0;34m(\u001b[0m\u001b[0mself\u001b[0m\u001b[0;34m.\u001b[0m\u001b[0mtext\u001b[0m\u001b[0;34m,\u001b[0m \u001b[0;34m**\u001b[0m\u001b[0mkwargs\u001b[0m\u001b[0;34m)\u001b[0m\u001b[0;34m\u001b[0m\u001b[0;34m\u001b[0m\u001b[0m\n\u001b[0m\u001b[1;32m    899\u001b[0m \u001b[0;34m\u001b[0m\u001b[0m\n\u001b[1;32m    900\u001b[0m     \u001b[0;34m@\u001b[0m\u001b[0mproperty\u001b[0m\u001b[0;34m\u001b[0m\u001b[0;34m\u001b[0m\u001b[0m\n",
            "\u001b[0;32m/usr/lib/python3.7/json/__init__.py\u001b[0m in \u001b[0;36mloads\u001b[0;34m(s, encoding, cls, object_hook, parse_float, parse_int, parse_constant, object_pairs_hook, **kw)\u001b[0m\n\u001b[1;32m    346\u001b[0m             \u001b[0mparse_int\u001b[0m \u001b[0;32mis\u001b[0m \u001b[0;32mNone\u001b[0m \u001b[0;32mand\u001b[0m \u001b[0mparse_float\u001b[0m \u001b[0;32mis\u001b[0m \u001b[0;32mNone\u001b[0m \u001b[0;32mand\u001b[0m\u001b[0;34m\u001b[0m\u001b[0;34m\u001b[0m\u001b[0m\n\u001b[1;32m    347\u001b[0m             parse_constant is None and object_pairs_hook is None and not kw):\n\u001b[0;32m--> 348\u001b[0;31m         \u001b[0;32mreturn\u001b[0m \u001b[0m_default_decoder\u001b[0m\u001b[0;34m.\u001b[0m\u001b[0mdecode\u001b[0m\u001b[0;34m(\u001b[0m\u001b[0ms\u001b[0m\u001b[0;34m)\u001b[0m\u001b[0;34m\u001b[0m\u001b[0;34m\u001b[0m\u001b[0m\n\u001b[0m\u001b[1;32m    349\u001b[0m     \u001b[0;32mif\u001b[0m \u001b[0mcls\u001b[0m \u001b[0;32mis\u001b[0m \u001b[0;32mNone\u001b[0m\u001b[0;34m:\u001b[0m\u001b[0;34m\u001b[0m\u001b[0;34m\u001b[0m\u001b[0m\n\u001b[1;32m    350\u001b[0m         \u001b[0mcls\u001b[0m \u001b[0;34m=\u001b[0m \u001b[0mJSONDecoder\u001b[0m\u001b[0;34m\u001b[0m\u001b[0;34m\u001b[0m\u001b[0m\n",
            "\u001b[0;32m/usr/lib/python3.7/json/decoder.py\u001b[0m in \u001b[0;36mdecode\u001b[0;34m(self, s, _w)\u001b[0m\n\u001b[1;32m    335\u001b[0m \u001b[0;34m\u001b[0m\u001b[0m\n\u001b[1;32m    336\u001b[0m         \"\"\"\n\u001b[0;32m--> 337\u001b[0;31m         \u001b[0mobj\u001b[0m\u001b[0;34m,\u001b[0m \u001b[0mend\u001b[0m \u001b[0;34m=\u001b[0m \u001b[0mself\u001b[0m\u001b[0;34m.\u001b[0m\u001b[0mraw_decode\u001b[0m\u001b[0;34m(\u001b[0m\u001b[0ms\u001b[0m\u001b[0;34m,\u001b[0m \u001b[0midx\u001b[0m\u001b[0;34m=\u001b[0m\u001b[0m_w\u001b[0m\u001b[0;34m(\u001b[0m\u001b[0ms\u001b[0m\u001b[0;34m,\u001b[0m \u001b[0;36m0\u001b[0m\u001b[0;34m)\u001b[0m\u001b[0;34m.\u001b[0m\u001b[0mend\u001b[0m\u001b[0;34m(\u001b[0m\u001b[0;34m)\u001b[0m\u001b[0;34m)\u001b[0m\u001b[0;34m\u001b[0m\u001b[0;34m\u001b[0m\u001b[0m\n\u001b[0m\u001b[1;32m    338\u001b[0m         \u001b[0mend\u001b[0m \u001b[0;34m=\u001b[0m \u001b[0m_w\u001b[0m\u001b[0;34m(\u001b[0m\u001b[0ms\u001b[0m\u001b[0;34m,\u001b[0m \u001b[0mend\u001b[0m\u001b[0;34m)\u001b[0m\u001b[0;34m.\u001b[0m\u001b[0mend\u001b[0m\u001b[0;34m(\u001b[0m\u001b[0;34m)\u001b[0m\u001b[0;34m\u001b[0m\u001b[0;34m\u001b[0m\u001b[0m\n\u001b[1;32m    339\u001b[0m         \u001b[0;32mif\u001b[0m \u001b[0mend\u001b[0m \u001b[0;34m!=\u001b[0m \u001b[0mlen\u001b[0m\u001b[0;34m(\u001b[0m\u001b[0ms\u001b[0m\u001b[0;34m)\u001b[0m\u001b[0;34m:\u001b[0m\u001b[0;34m\u001b[0m\u001b[0;34m\u001b[0m\u001b[0m\n",
            "\u001b[0;32m/usr/lib/python3.7/json/decoder.py\u001b[0m in \u001b[0;36mraw_decode\u001b[0;34m(self, s, idx)\u001b[0m\n\u001b[1;32m    353\u001b[0m             \u001b[0mobj\u001b[0m\u001b[0;34m,\u001b[0m \u001b[0mend\u001b[0m \u001b[0;34m=\u001b[0m \u001b[0mself\u001b[0m\u001b[0;34m.\u001b[0m\u001b[0mscan_once\u001b[0m\u001b[0;34m(\u001b[0m\u001b[0ms\u001b[0m\u001b[0;34m,\u001b[0m \u001b[0midx\u001b[0m\u001b[0;34m)\u001b[0m\u001b[0;34m\u001b[0m\u001b[0;34m\u001b[0m\u001b[0m\n\u001b[1;32m    354\u001b[0m         \u001b[0;32mexcept\u001b[0m \u001b[0mStopIteration\u001b[0m \u001b[0;32mas\u001b[0m \u001b[0merr\u001b[0m\u001b[0;34m:\u001b[0m\u001b[0;34m\u001b[0m\u001b[0;34m\u001b[0m\u001b[0m\n\u001b[0;32m--> 355\u001b[0;31m             \u001b[0;32mraise\u001b[0m \u001b[0mJSONDecodeError\u001b[0m\u001b[0;34m(\u001b[0m\u001b[0;34m\"Expecting value\"\u001b[0m\u001b[0;34m,\u001b[0m \u001b[0ms\u001b[0m\u001b[0;34m,\u001b[0m \u001b[0merr\u001b[0m\u001b[0;34m.\u001b[0m\u001b[0mvalue\u001b[0m\u001b[0;34m)\u001b[0m \u001b[0;32mfrom\u001b[0m \u001b[0;32mNone\u001b[0m\u001b[0;34m\u001b[0m\u001b[0;34m\u001b[0m\u001b[0m\n\u001b[0m\u001b[1;32m    356\u001b[0m         \u001b[0;32mreturn\u001b[0m \u001b[0mobj\u001b[0m\u001b[0;34m,\u001b[0m \u001b[0mend\u001b[0m\u001b[0;34m\u001b[0m\u001b[0;34m\u001b[0m\u001b[0m\n",
            "\u001b[0;31mJSONDecodeError\u001b[0m: Expecting value: line 1 column 1 (char 0)"
          ]
        }
      ]
    },
    {
      "cell_type": "markdown",
      "metadata": {
        "id": "cckMdwZhwFdH"
      },
      "source": [
        "We can **combine** the above **filters** to *improve* searches:"
      ]
    },
    {
      "cell_type": "code",
      "metadata": {
        "id": "qXf96ReEwGwi"
      },
      "source": [
        "search_tenders({ \"lang\":\"es\", \"source\":\"tender\",\"size\": \"10\", \"text\": text})"
      ],
      "execution_count": null,
      "outputs": []
    },
    {
      "cell_type": "markdown",
      "metadata": {
        "id": "Sb9Xt-Nf1F2U"
      },
      "source": [
        "#### Reading suppliers of related tenders"
      ]
    },
    {
      "cell_type": "code",
      "metadata": {
        "id": "2xgK_XZk1c61"
      },
      "source": [
        "def get_contracting_process(tender_id):\n",
        "  resp = requests.get('https://tbfy.librairy.linkeddata.es/kg-api/tender/'+tender_id+\"/contractingProcess\")\n",
        "  if resp.status_code != 200:\n",
        "    # This means something went wrong.\n",
        "    print('GET /tender/contracting_process {}'.format(resp.status_code))\n",
        "    pass\n",
        "  return resp.json() \n",
        "\n",
        "def get_buyer(contracting_process_id):\n",
        "  resp = requests.get('https://tbfy.librairy.linkeddata.es/kg-api/contractingProcess/'+contracting_process_id+\"/buyer\")\n",
        "  if resp.status_code != 200:\n",
        "    # This means something went wrong.\n",
        "    print('GET /contracting_process {}'.format(resp.status_code))\n",
        "    pass\n",
        "  return resp.json() \n",
        "\n",
        "def search_buyers(request):\n",
        "  tenders = retrieve_tenders(request)\n",
        "  i = 1\n",
        "  for tender in tenders:\n",
        "    if ('id' not in tender):\n",
        "        continue\n",
        "    contracting_processes = get_contracting_process(tender['id'])\n",
        "    for contracting_process in contracting_processes:\n",
        "      buyers = get_buyer(contracting_process['id'])\n",
        "      print(buyers)\n",
        "      for buyer in buyers:\n",
        "        #print(buyer)\n",
        "        if buyer.get('organisation'):\n",
        "          print('[{}] {} {}'.format(i,buyer['legalName'], buyer['organisation']))\n",
        "    i+=1\n",
        "\n",
        "print(\"KG links are ready\")"
      ],
      "execution_count": null,
      "outputs": []
    },
    {
      "cell_type": "markdown",
      "metadata": {
        "id": "EPDUczZ91KoY"
      },
      "source": [
        "Explore the **KG** to identify the **buyers** that have participated in the **tenders** related to our *reference text*:"
      ]
    },
    {
      "cell_type": "code",
      "metadata": {
        "id": "8tPaNZA42maO"
      },
      "source": [
        "request = { \"source\":\"tender\",\"size\": \"20\", \"text\": text}\n",
        "search_buyers(request)"
      ],
      "execution_count": null,
      "outputs": []
    },
    {
      "cell_type": "markdown",
      "metadata": {
        "id": "b6OWS2Iz895m"
      },
      "source": [
        "And they can be **filtered** through any of the filters seen above, for example by **language**:"
      ]
    },
    {
      "cell_type": "code",
      "metadata": {
        "id": "IGDsp_Qs9DMt"
      },
      "source": [
        "request = { \"lang\":\"es\", \"source\":\"tender\",\"size\": \"10\", \"text\": text}\n",
        "search_buyers(request)"
      ],
      "execution_count": null,
      "outputs": []
    }
  ]
}