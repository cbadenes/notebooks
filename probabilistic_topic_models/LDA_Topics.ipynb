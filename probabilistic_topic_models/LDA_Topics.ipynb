{
  "nbformat": 4,
  "nbformat_minor": 0,
  "metadata": {
    "colab": {
      "name": "LDA-Topics.ipynb",
      "provenance": [],
      "include_colab_link": true
    },
    "kernelspec": {
      "name": "python3",
      "display_name": "Python 3"
    }
  },
  "cells": [
    {
      "cell_type": "markdown",
      "metadata": {
        "id": "view-in-github",
        "colab_type": "text"
      },
      "source": [
        "<a href=\"https://colab.research.google.com/github/cbadenes/notebooks/blob/main/probabilistic_topic_models/LDA_Topics.ipynb\" target=\"_parent\"><img src=\"https://colab.research.google.com/assets/colab-badge.svg\" alt=\"Open In Colab\"/></a>"
      ]
    },
    {
      "cell_type": "markdown",
      "metadata": {
        "id": "AVx3oh5JCi_F"
      },
      "source": [
        "This Notebook serves as an introduction to **Probabilistic Topic Models**. \n",
        "\n",
        "Textual data is loaded from a Google Sheet and topics derived from LDA will be generated. \n",
        "\n",
        "First we need to obtain credentials from our Google Account to access the corpus hosted on Google Drive."
      ]
    },
    {
      "cell_type": "code",
      "metadata": {
        "id": "UcubynMaDbzt"
      },
      "source": [
        "!pip install --upgrade -q gspread\n",
        "\n",
        "from sklearn.feature_extraction.text import TfidfVectorizer, CountVectorizer\n",
        "from sklearn.decomposition import NMF, LatentDirichletAllocation\n",
        "import numpy as np\n",
        "import warnings\n",
        "warnings.filterwarnings('ignore')"
      ],
      "execution_count": 6,
      "outputs": []
    },
    {
      "cell_type": "markdown",
      "metadata": {
        "id": "eBOg8tF0dBC1"
      },
      "source": [
        "### Loading Data\n",
        "\n",
        "[CORDIS](https://cordis.europa.eu/projects/en) is the primary source of results from EU-funded projects since 1990. \n",
        "\n",
        "We used a [sample stored in a spreadsheet](https://goo.gl/dG8eVF) with 100 such projects. Save a copy in your `Google Colab/` folder at Google Drive.\n",
        "\n",
        "A dataframe will be created from the training google sheet:\n"
      ]
    },
    {
      "cell_type": "code",
      "metadata": {
        "id": "VXu9rcR2Dmz7",
        "colab": {
          "base_uri": "https://localhost:8080/",
          "height": 439
        },
        "outputId": "447d7b12-ae6f-434b-afd3-bc7e47c36c40"
      },
      "source": [
        "from google.colab import data_table\n",
        "data_table.enable_dataframe_formatter()\n",
        "\n",
        "from google.colab import auth\n",
        "auth.authenticate_user()\n",
        "\n",
        "import gspread\n",
        "from google.auth import default\n",
        "creds, _ = default()\n",
        "\n",
        "gc = gspread.authorize(creds)\n",
        "\n",
        "# name of the spreadsheet with texts (e.g.'texts_nlp')\n",
        "corpus = 'texts_nlp'\n",
        "\n",
        "worksheet = gc.open(corpus).sheet1\n",
        "\n",
        "# get_all_values gives a list of rows.\n",
        "rows = worksheet.get_all_values()\n",
        "            \n",
        "# Convert to a DataFrame and render.\n",
        "import pandas as pd\n",
        "dataset_df = pd.DataFrame.from_records(rows[1:], columns=[\"ID\",\"TITLE\",\"DESCRIPTION\"])\n",
        "data_table.DataTable(dataset_df, include_index=False, num_rows_per_page=5)\n"
      ],
      "execution_count": 7,
      "outputs": [
        {
          "output_type": "execute_result",
          "data": {
            "text/html": [
              "<div>\n",
              "<style scoped>\n",
              "    .dataframe tbody tr th:only-of-type {\n",
              "        vertical-align: middle;\n",
              "    }\n",
              "\n",
              "    .dataframe tbody tr th {\n",
              "        vertical-align: top;\n",
              "    }\n",
              "\n",
              "    .dataframe thead th {\n",
              "        text-align: right;\n",
              "    }\n",
              "</style>\n",
              "<table border=\"1\" class=\"dataframe\">\n",
              "  <thead>\n",
              "    <tr style=\"text-align: right;\">\n",
              "      <th></th>\n",
              "      <th>ID</th>\n",
              "      <th>TITLE</th>\n",
              "      <th>DESCRIPTION</th>\n",
              "    </tr>\n",
              "  </thead>\n",
              "  <tbody>\n",
              "    <tr>\n",
              "      <th>0</th>\n",
              "      <td>EU100000</td>\n",
              "      <td>Visual object population codes  relating human...</td>\n",
              "      <td>representation brain-activity datum acquire re...</td>\n",
              "    </tr>\n",
              "    <tr>\n",
              "      <th>1</th>\n",
              "      <td>EU100001</td>\n",
              "      <td>New Opportunities for Research Funding Agency ...</td>\n",
              "      <td>norface action research funding agency norface...</td>\n",
              "    </tr>\n",
              "    <tr>\n",
              "      <th>2</th>\n",
              "      <td>EU100002</td>\n",
              "      <td>USA and Europe Cooperation in Mini UAVs</td>\n",
              "      <td>aerial systems have area research year world r...</td>\n",
              "    </tr>\n",
              "    <tr>\n",
              "      <th>3</th>\n",
              "      <td>EU100003</td>\n",
              "      <td>Sustainable Infrastructure for Resilient Urban...</td>\n",
              "      <td>fellowship identify space infrastructure influ...</td>\n",
              "    </tr>\n",
              "    <tr>\n",
              "      <th>4</th>\n",
              "      <td>EU100004</td>\n",
              "      <td>Modelling star formation in the local universe</td>\n",
              "      <td>goal proposal revolutionize understanding star...</td>\n",
              "    </tr>\n",
              "    <tr>\n",
              "      <th>...</th>\n",
              "      <td>...</td>\n",
              "      <td>...</td>\n",
              "      <td>...</td>\n",
              "    </tr>\n",
              "    <tr>\n",
              "      <th>95</th>\n",
              "      <td>EU100097</td>\n",
              "      <td>The Environmental Observation Web and its Serv...</td>\n",
              "      <td>community generate amount observation scale co...</td>\n",
              "    </tr>\n",
              "    <tr>\n",
              "      <th>96</th>\n",
              "      <td>EU100098</td>\n",
              "      <td>Future INternet for Smart ENergY</td>\n",
              "      <td>energy sector have enter period change continu...</td>\n",
              "    </tr>\n",
              "    <tr>\n",
              "      <th>97</th>\n",
              "      <td>EU100099</td>\n",
              "      <td>Smart Food and Agribusiness: Future Internet f...</td>\n",
              "      <td>smartagrifood project address food agribusines...</td>\n",
              "    </tr>\n",
              "    <tr>\n",
              "      <th>98</th>\n",
              "      <td>EU100100</td>\n",
              "      <td>Instant Mobility for Passengers and Goods</td>\n",
              "      <td>mobility project have create concept transport...</td>\n",
              "    </tr>\n",
              "    <tr>\n",
              "      <th>99</th>\n",
              "      <td>EU100101</td>\n",
              "      <td>Provisioning of urban/regional smart services ...</td>\n",
              "      <td>goal outsmart contribute future internet devel...</td>\n",
              "    </tr>\n",
              "  </tbody>\n",
              "</table>\n",
              "<p>100 rows × 3 columns</p>\n",
              "</div>"
            ],
            "application/vnd.google.colaboratory.module+javascript": "\n      import \"https://ssl.gstatic.com/colaboratory/data_table/99dac6621f6ae8c4/data_table.js\";\n\n      window.createDataTable({\n        data: [[\"EU100000\",\n\"Visual object population codes  relating human brains to nonhuman and computational models with representational similarity analysis\",\n\"representation brain-activity datum acquire resonance imaging fmrus cell recording relate brain representation animal model primate brain representation project tackle challenge focus object recognition primate recognition understand problem neuroscience implication computation test model relate content population code primate means technique call similarity analysis core idea characterize give brain representation dissimilarity matrix activity pattern visualize compare dissimilarity matrix contrast exist approach model form component analysis datum match region determine model explain datum fmrus brain region project develop technique provide matlab toolbox community relate brain theory datum study project bridge divide contribute system neuroscience\"],\n [\"EU100001\",\n\"New Opportunities for Research Funding Agency Co-operation in Europe II\",\n\"norface action research funding agency norface stand opportunities research funding agency co-operation europe norface co-ordination action start january have develop partnership network agency fund research science norface co-ordination action september norface-sa partners provide capacity level co-operation exchange commit programme communication enquiry sharing experience action work package proposal work package joint research related activities initiatives involve scoping identify research need view develop research initiative work package exploiting data infrastructure social sciences form part proposal country initiative take improve infrastructure research science discuss initiative develop mechanism exploit datum co-ordinate approach norface have contribution development datum infrastructure science propose era-net norface-ii support action deepen strengthen co-operation base experience gain exist co-operation structure broaden network activity impact order prepare era-net co-ordination action era-net plus\"],\n [\"EU100002\",\n\"USA and Europe Cooperation in Mini UAVs\",\n\"aerial systems have area research year world research centre word work application improve solve problem area centre have take area field focus take specialization make network knowledge project present attempt connect node network contact lead research centre whit experience field connect superpose opportunity strength partner increase member consortium arizona state university robotics laboratory http://robotics have experience design building deploy robot system inventory robot include wing vehicle vehicle capability sense actuation link\\u00f6ping university artificial intelligence integrated computer systems division http://www patdo/aiicssite1 contribute experience quadrotor system navigation software architectures micro-uav universidad polit\\u00e9cnica madrid computer vision group disam es/colibri contribute experience guidance control make opportunity share knowledge expertise work-style test laboratory lead technology facility importance aspect\"],\n [\"EU100003\",\n\"Sustainable Infrastructure for Resilient Urban Environments\",\n\"fellowship identify space infrastructure influence interact impact sustainability vulnerability resilience area future case study city berlin london saint petersburg serve basis analysis interaction urban underground infrastructure environment analysis role city base research result bobylev include assessment structure analysis uuus sustainability indicator team university birmingham provide background analysis development scenario result involvement urban futures project research methodology employ criterion decision analysis information systems tool main work package include collection datum need present datum form indicator volume energy loss network analysis uuus sustainability land indicator modeling indicator performance scenario develop policy recommendation planning adaptation feedback form expert interview case study city authority integrate policy recommendation develop fellowship bobylev researcher area sustainability analysis fellowship allow develop idea team world lead expert\"],\n [\"EU100004\",\n\"Modelling star formation in the local universe\",\n\"goal proposal revolutionize understanding star formation galaxy simulation research star formation have consider contraction cloud star form core gravity have research cloud provide condition star formation determine assumption theory star formation propose research focus scale cloud cloud hydrogen star formation take place galaxy object link scale physics scale physics star formation resource become study medium scale model complex process involve star formation program alma herschel carma start resolve galaxy research involve perform calculation scale interact galaxy compare observation answer question star formation star formation form lifetime\"],\n [\"EU100005\",\n\"Coherent spin manipulation in hybrid nanostructures\",\n\"development device utilize spin degree freedom charge carrier reach limitation semiconductor base technology issue spintronic emphasis fabrication investigation hybrid nanostructure exploit benefit explore carbon base system carbon nanotube graphen propose project design hybrid nanostructure define electron beam lithography develop scheme determine material parameter g-factor spin diffusion length efficiency spin transfer torque transport measurement order explore electron spin dynamics decoherence relaxation application switching element combine storage device quantum base semiconductor spin qbit determine condition spin-transfer nano/micro-circuit method detection spin current experiment help understand control spin state charge carrier field quantum computation state environment host institute possess nanofabrication facility background implementation device fabrication magnetotransport measurement host have pioneer measurement technique determine spin-polarization spin transfer torque system resolution scale junction\"],\n [\"EU100006\",\n\"Stochastic Modeling of Spatially Extended Ecosystems and Ecological and Climate Data Analysis\",\n\"coupling ecosystem climate imply quantify dynamics attempt prevent change environment goal project modeling context climate ecosystem dynamics proposal combine method physics dynamics game theory system study effect noise climate ecosystem dynamics goal project record climate observation build forecasting ensemble adjust climate variable ensemble enable inter-comparison model compound decision method reduce uncertainty climate prediction investigate dynamics vegetation model snake regime presence noise early-warning signal possibility desertification transition series transition state study analyzing datum describe process vegetation mortality drought condition pattern mortality process study relate model model develop test datum expect result research improve understanding climate ecosystem dynamics advance physics research interplay dynamics effect\"],\n [\"EU100007\",\n\"Secure Multiparty Computation in the von Neumann Architecture\",\n\"project design implement machine practice computation convert distribute computation perform assistance trust party protocol require party give output remain existence breakthrough result cryptography result appear problem area tension privacy trust functionality practice technique exist technique involve translate function compute circuit architecture have drawback believe contribute scarcity technique program time implement circuit circuit size depend time program engineer programming constraint circuit design project propose take approach change hardware engineering problem design circuit software engineering write program idea develop computation machine neumann architecture program computer system architecture allow program compile programming language java hope system exist become software engineer know program have time learn language circuit design\"],\n [\"EU100008\",\n\"Infrastructures for Community-Based Data Management\",\n\"structure datum create transmit archive movement context linked data movement promulgate online publication datum follow principle creation resource identifier resource publish publication datum correspond resource inclusion link relate resource resource publication linked data formalism boom foster agency network scientist domain community user query manipulate combine linked data create application datum infrastructure disposal provide support need proposal focus design distribute datum management infrastructure promote distribute manipulation datum research problem tackle problem revolve design implementation storage platform represent query distribute amount linked data problem focus abstraction mechanism integrate linked data posteriorus have publish rest document define research challenge tackle context outline research agenda realize vision follow structure suggest work programme describe career reintegration grant proposal\"],\n [\"EU100009\",\n\"Reducing Environmental Footprint based on Multi-Modal Fleet management System for Eco-Routing and Driver Behaviour Adaptation\",\n\"reduction emission challenge transport sector progress vehicle manufacturing fuel technology technology need address challenge accord assoc. public transport fraction emission city result transport mass transport mean organize transport fleet vehicle have average mileage fuel consumption reduction project focus solution manage fleet reduce footprint reduction collect datum drive behaviour route information emission measurement process analytic enable fleet enhance service follow optimize drive behaviour support decision make enhancement driver education formation policy traffic operation speeding brake base result datum associate pattern emission eco-routing suggest route allow fleet reduce mileage support multi-modality offer support transportation mode enable co-modality reduction follow approach bring expertise community architecture allow scalability fleet combine v2us approach plan exploitation base propose technology provide breakthrough grow market service fleet impact goal\"],\n [\"EU100010\",\n\"Action to Support Photonic Innovation Clusters in Europe\",\n\"enable technology photonic have grow year have become emerge technology economy europe have benefit growth have increase revenue period parallel expansion cluster have emerge today have excess innovation cluster europe cluster have focus growth achieve term growth focus cluster collaboration europe chain photonic driver need cooperation photonic cluster increase effectiveness promote research innovation strengthen economy address challenge aspice aspire advance cause tsurvey innovation cluster platform landscape develop reference guide practice term practice reference guide refer amount effort result service provide cluster platform tprofiling leverage chain challenge photonic technology solution provider healthcare aging society safety security europe citizen tengaging cluster platform representative stakeholder ensure translation reference guide chain profile plan embed practice programme europe cluster outcome deliver reference guide chain matchmaking service series cluster co-ordination workshop\"],\n [\"EU100011\",\n\"Improving therapy and intervention through imaging\",\n\"objective programme design develop validate imaging technology improve performance safety procedure improving therapy surgery planning approach imaging strategy lesion tissue characterization segmentation image fusion technique image guide therapy intervention improvement pursue design integration imaging modality workflow provide technique compensate motion method instrument integrate imaging device therapy outcome concern approach methodology assess predict recovery prognosis therapy surgery scenario consider framework therapy surgery tissue organ therapy workflow propose incorporate technology scenario objective value develop technique methodology assist development therapy procedure improve position partner technology transfer healthcare technology industry improve healthcare citizen provide means therapy surgery increase skill knowledge partner order perform research imply technology project initiative allow exchange scientist research institute recognition imaging engineering\"],\n [\"EU100012\",\n\"Design and manufacturing of smart composite panelsfor wing applications and development of structuralhealth monitoring techniques\",\n\"goal call achieve means approach combine damage propagation mechanism guide wave propagation modeling design optimization methodology find actuators/sensors position order enhance tool sensitivity forecast impact damages result tool family tool develop level programming language drive code code msc/nastran ls-dyna optimization strategy consortium make department structural transportation engineering university padova partner include expertise field simulation describe field structural health monitor approach base guide wave optimization tool production panels supply subcontracting supplier component technique attention dedicate implementation damage detection method base decomposition\"],\n [\"EU100013\",\n\"Numerical and EXperimental shock conTrol on laminar Wing\",\n\"utilization laminar flow technology mean improve eco-efficiency transport aircraft pressure distribution type reduce sweep wing drag rise encounter mach number wing availability shock control technology desire connection aircraft research demonstrate shock control bump means reduce wave drag design condition wing shape consider show performance degradation mach design condition nextwing project aime development shock control bump aspect derivation shape wing pressure distribution reduction sweep effect shaping side flank improvement robustness variation freestream condition objective improve performance wing flight mission scenario reduce wave drag mach goal achieve study flow physics impact property performance design condition project benefit experience partner shock control design availability tool develop year research outcome project result design guideline enable design aircraft configuration\"],\n [\"EU100014\",\n\"NUtrition and microVAScular dynamics in COGnitive health\",\n\"support return lecturer nutrition neuroscience hebrew university jerusalem bring science technology collaboration prospects reintegration enhancement competitiveness research elucidate basis brain aging develop intervention prevent dementia brain disease address question regard mechanism decline hypothesis impairment brain plasticity diet disease mechanism decline building research predict folate deficiency aging limit brain circulation oxygen delivery diminish plasticity impair cognition test hypothesis brain circulation oxygen delivery plasticity impair cognition folate-deficiency aging identify folate pathway regulate brain plasticity approach measure function brain plasticity brain circulation oxygen delivery proprietary spectroscopy system study help delineate role plasticity function establish animal model impairment establish measure health research identify signaling pathway outcome provide insight role factor modify plasticity prevention decline\"],\n [\"EU100015\",\n\"Seismology of Stellar Coronal Oscillations\",\n\"project propose open field seismology seismology technique study wave corona deduce measure plasma parameter solar seismology have make progress decade time export knowledge star oscillation have observe construct observation oscillation case resolution find discriminate observable oscillation mode allow mode identification corona goal project analyse datum corot kepler apply seismology practice project construct allow transfer knowledge host institution host institution achieve attraction scientist research visit hiring student\"],\n [\"EU100016\",\n\"Nice but incompetent? The eldery stereotype in Europe\",\n\"europe population posit number challenge european community issue shed discrimination prevent inclusion people society step identify stereotype uncover mechanism lead research have focus factor neglect context propose research fill investigate impact variable shape stereotype ageism purpose model develop test series study phase project study datum ageism module social survey analyze datum individual come country europe model test equation modeling allow examine predictor study focus people attitude examine outcome variable prejudice contact study concentrate investigate outcome variable experience ageism well-being phase project survey construct investigate impact stereotype issue assess study people country survey other self-esteem willingness engage work assess study field study conduct country observe extent stereotype translate behavior\"],\n [\"EU100017\",\n\"Discovery and Insight with Advanced Models Of  Nanoscale Dimensions\",\n\"generating knowledge material obtain insight property level objective propose advance state modeling complex system provide establish tool allow description system temperature pressure power error generality ease building experience have identify need address need implementation phase system structure theory scaling method accuracy validate complex system need approach extract model structure datum method perform simulation time space accuracy approach generate model intuition patience scientist optimization method algorithm network model have estimate quality feature allow enhancing/correcting approach principle calculation computing enable technology line track record establish method demonstrate potential application example application field include energy production catalysis environment health make tool academia industry benefit community whole\"],\n [\"EU100018\",\n\"Geometry, instability and activity in complex and biological fluids\",\n\"research area matter physics proposal concern flow behaviour fluid polymer colloid emulsion suspension swarm bacterium sperm matrix cell concept research theme waynon-equilibrium dynamics underlie behaviour fluid theme concern phase transition induce apply flow address challenge predict onset characteristic implication transition flow geometry arise focus issue form basis prediction address concept underlie physics concern confinement lead interplay phase transition fluid bulk surface transition wall flow device concern instability stretch flow interact transition shear flow develop unify understanding interact theme turn suspension exist regime activity swimming progress have make predict rule propulsion emergent phenomenon swimmer work date have suspend fluid shortcoming swimming occur fluid forge understanding activity fluid environment phenomenon include band flow link theme cross concept theme\"],\n [\"EU100019\",\n\"The Researchers\\u2019 Night 2011 in the Czech Republic: Science Opens Spaces\",\n\"researcher night czech republic want researcher public role experiment demonstrator moderator musician photographer lecturer partner enter project want play part change attitude researcher welcome opportunity introduce researcher people involve life other show researcher contribute well-being society activity plan event bring researcher cooperate experience activity visitor discover researcher people give result utilize life emphasize need genius become researcher visitor leave event convince career choice make decision life make people upcome event communicate message event non-comer awareness campaign motto science open space plan project role commission support event explain present institution support research\"],\n [\"EU100020\",\n\"The importance of submarine groundwater discharge for the southwestern Baltic Sea\",\n\"submarine groundwater discharge subsurface flow water consider pathway dissolve matter transfer continent study indicate part water enter baltic importance study propose survey baltic measure associate flux nutrient select trace element study allow assessment importance eutrophication ecosystem area investigate order understand reaction determine chemical composition investigate subsurface zone freshwater groundwater estuary research enhance knowledge connection expect result region europe\"],\n [\"EU100021\",\n\"DEVELOPMENT AND ENHANCEMENT OF A STEERING FEEL MODEL FOR SUPER LIGHTWEIGHT STEER-BY-WIRE VEHICLES\",\n\"research development model steering system steer-by-wire vehicle goal explore role force-feedback steer feel transmit wheel handwheel road vehicle emulate enhance steer feel system goal perform drive experiment test collect datum from/to steering system vehicle dynamics investigate role force-feedback vehicle model generate steering feel system develop investigate cooperation information obtain vehicle dynamics design steering feel model regard drive performance enhance steer feel develop steer feel model driver learning algorithm steering\"],\n [\"EU100022\",\n\"International Partnership for Advanced Coatings by Thermal Spraying\",\n\"ipact develop eu-china network surface engineering research unite activity university researcher exchange train technique cover cycle spray research coating process structure application ipact foundation stone collaboration china confront challenge material carbon-emission manufacturing framework\"],\n [\"EU100023\",\n\"Phosphorus dynamics in low-oxygen marine systems: quantifying the nutrient-climate connection in Earth\\u2019s past, present and future\",\n\"phosphorus limit nutrient phytoplankton ocean feedback exist availability production ocean anoxium increase production lead ocean anoxium turn decrease burial efficiency sediment increase availability production ocean feedback play role expansion water zone system contribute development scale anoxium ocean mechanism change burial sediment understand lack chemical tool characterize sediment propose develop method quantify reconstruct dynamics system link carbon cycling earth method base application analysis technique determine burial form mineral-p context sediment analysis technique include mass spectrometry nanosim scanning transmission x-ray microscopy stxm laser couple spectrometry la-icp-m knowledge obtain sediment interpret sediment record period climate change earth history model develop research group elucidate quantify role variation cycle development condition climate change information ability predict consequence input nutrient ocean combine warming\"],\n [\"EU100024\",\n\"Diamond Lasers: Revolutionising Laser Engineering\",\n\"year crystal diamond quality have become time time exploit material laser engineering building work characterise modelling prove material team explore means harness property conductivity order magnitude laser material rigidity resistance stress transparency window raman gain property conductivity diamond have revolutionise laser design date design laser have drive need manage heat diamond remove requirement lead design performance laser programme focus introduce laser gain structure base quality diamond approach examine develop conductivity hybrid structure sandwich slice laser gain material layer diamond raman gain diamond develop performance diamond raman lasers3 exploit colour centre diamond develop suite laser explore doping diamond laser build progress diamond synthesis encompass laser physics material science device engineering programme balance risk reward help position europe world-leader laser engineering laser develop tool sector science imaging energy wind speed sense medicine treat lesion\"],\n [\"EU100025\",\n\"Electrochemistry in fluidic nanodevices: From fundamentals to integrated sensor platforms\",\n\"propose explore frontier electrochemistry nanometer scale develop approach base fabricate nanodevice allow groundbreak experiment range topic include layer structure screening liquid hydrodynamic response macromolecule foundation technique base molecule recognition target integration electronics chip combination bring revolution sense technology scale have take place computing communication focus nanofabricate channel chamber number molecule detect manipulate electrochemistry pair electrode explore capability impedance spectroscopy nanoelectrode frequency combination length scale frequency have remain make electrode form part integrate detection circuit research have character investigator have attempt combine nanofluidic microelectronics electrochemistry test understanding process enable class experiment push limit electrochemistry method likelihood concept application emerge course program\"],\n [\"EU100026\",\n\"Quantitative Graph Games: Theory and Applications\",\n\"theory game play graph provide foundation study problem branch mathematics economics computer science biology field application area computer science verification system system model graph vertex graph represent state system edge represent transition path represent behavior system verification system environment study problem game play graph player represent interact agent game have study objective objective problem verification system behave environment system boolean objective boolean objective correctness specification objective resource-constraint need generalize theory graph game objective express combination objective project focus follow research objective study graph game objective develop theory algorithm class game graph obtain combine objective develop technique abstraction technique allow solution implement handle game graph explore application area demonstrate application graph game discipline develop theory game graph state space objective theory graph game discipline solution expect\"],\n [\"EU100027\",\n\"The Gamma Ray Burst \\u2013 Supernova Connectionand Shock Breakout Physics\",\n\"gamma burst supernova ccsne explosion universe point research reason effort decade question regard physics long grbs ccsne know outcome star collapse case collapse produce know collapse produce explosion grb-sn connection raise question offer opportunity learn type explosion focus propose research connection ccsne physics shock breakout explain proposal shock breakout play role connection develop theory shock breakout addition study propagation star include effect propagation engine emerge project combine calculation simulation project model produce star turn gain insight ccsne research make contribution explosion research explosion shock breakout effort invest field view survey search breakout program provide base interpretation upcome observation\"],\n [\"EU100028\",\n\"Integrated Ground and on-Board system for Support of the Aircraft Safe Take-off and Landing\",\n\"transport system confront challenge system competition fossil fuel reserve diminish lead increase fuel price idea method technology need respond challenge keep europe world leader aviation idea come project launch recover aircraft power idea propose microwave power technology hoist aircraft aircraft carrier type aircraft launch recovery etc. gabriel proposal base system levitation technology enable aircraft take-off landing solution reduce aircraft fuel consumption aircraft weight reduce undercarriage need fuel need carry engine thrust need ground power reduce emission airport noise level reduce noise produce take-off airport capacity increase introduce launch recovery ramp alleviate problem runway capacity europe gabriel investigate system cost levitation develop deploy technology rail transportation research need prove feasibility concept transportation gabriel investigate adapt exist levitation technology redesign aircraft fuselage project study feasibility launch recovery connection operate limit aircraft flight control safety issue study scale test design validate assess feasibility estimate limit take-off landing concept issue emergency landing address project perform cost benefit analysis cover effect fuel savings benefit airport infrastructure power supply gabriel project involve partner country project last month\"],\n [\"EU100029\",\n\"METABOLIC CONTROL OF IMMATURE STROMAL CELL BIOLOGY\",\n\"literature claim status represent mechanism help stem cell fate describe characterize stem cell population investigation have conduct population cell populate compartment tissue stromal/stem cell stromal/stem cell have define precursor support cell property hallmark explain capacity have prompt study potential mechanism govern plasticity fate interaction cell population remain unravel adipose tissue harbour population biology describe objective metabostem project investigate role metabolism biology fate population reside adipose tissue base neuron-astrocyte cancer cell model hypothesize support cell control surround population coupling represent mechanism compartment control stem cell biology niche project integrate field technique analysis characterisation stem cell biology adipose tissue work model metabostem proposal help understanding biology cell adipose tissue condition have consequence manipulate expand\"],\n [\"EU100030\",\n\"Remote Laser Welding System Navigator for Eco & Resilient Automotive Factories\",\n\"navigator develop process navigator configure integrate test validate application remote laser welding assembly address today need change operating condition provision navigator serve enabler energy factory emerge join technology sheet metal assembly benefit front include reduce processing time decrease factory floor footprint reduce impact energy reduction provide process base model introduction product change system limit applicability lack simulation methodology navigate application manufacturing process project address develop process navigator simulation system deal challenge allow manufacturer utilize advantage system obstacle prevent implementation need control part-to-part join operation ensure quality stitch exist assembly system architecture reconfigure provide opportunity evaluate system term feasibility perform require assembly task provide information workstation/cell reconfiguration serve basis robot path plan reduce join process time workstation level efficiency assessment project develop evaluation learn method assess improve performance cost-effectiveness eco-efficiency system\"],\n [\"EU100031\",\n\"EUropean DATa\",\n\"eudat proposal stage realisation vision datum infrastructure eudat consortium include representative stage value chain have evolve deliver knowledge researcher citizen industry society whole include funding agency invest research infrastructure programme research infrastructure operator research community rely availability service datum centre provider connectivity course user rely availability datum service innovator value result research eudat project deliver collaborative data infrastructure capacity capability meeting researcher need design reflect picture datum service requirement research community europe become decade face challenge expansion volume datum generate preserve datum tsunami complexity datum system require provide access user requirement vary discipline micro-system community service build commonality make achieve mass user economy scale achieve ability provide bespoke response evolve need research community strengthen business case community inclusion discipline spectrum endeavour share infrastructure eudat provide opportunity discipline cross-fertilisation idea\"],\n [\"EU100032\",\n\"Multi-Core Execution of Parallelised Hard Real-Time Applications Supporting Analysability\",\n\"engineer design system express need time performance today keep safety criterion breakthrough performance expect parallelise application parmerasa target timing system application processor challenge tackle light timing analysability parallelisation technique application operate system virtualisation synchronisation mechanism guarantee execution time wcet application verification profiling tool memory hierarchy system processor output parmerasa performance improvement wcet legacy application avionic construction machinery domain comparison version execution platform parmerasa processor system software provide isolation task scale core software engineering approach take target execution pattern verification profiling tool develop provide recommendation enhance standard parmerasa impact product transportation system application impact standard introduce execution time predictability feature contribute reinforce position field computing system yield advantage industry avionic construction machinery market\"],\n [\"EU100033\",\n\"EU-INdia Fostering COOPeration in Computing Systems\",\n\"eu-incoop project objective stimulate cooperation computing technology europe india order support europe lead position compute system ensure benefit europe india project intend take consensus building approach bring researcher stakeholder region forum discuss analyse research agenda compute system sequence workshop channel communication establish provider constituency research community propose work eu-incoop design contribute coordination cooperation compute system goal coordination computing systems community project europe india provide forum exchange practice idea issue information research agenda development access visibility requirement perspective opportunity adjust adapt meet cooperation development computing systems roadmap europe india provide channel articulate must need want community positive negative require avoid priority interpretation mapping requirement feedback channel stakeholder community debate impact benefit penalty gain cost simplification complication\"],\n [\"EU100034\",\n\"Trans-Atlantic Research and Education Agenda in System of Systems\",\n\"t-area-sos support action address ict-2011 target outcome analyse research agenda prepare initiative collaboration area system system concept proposal exploit network participant associate base include activity lead ieee incose area explore evolve theme priorite fp7/fp8 programme lead outcome address need exemplar variety sector include aspect energy transport production engineering mainstream discipline management complex system premise proposal engineering include component consideration need issue management system system understand sose emerge discipline deal ultra system include system operate distribute nature exhibit behaviour output support action research agenda create environment development research initiative collaborate enhance exist research programme scene programme output support analysis state level definition research requirement sose thesaurus enable concept share sector discipline creation sose research agenda agree stakeholder initiative embed fp7/fp8 programme proposal increase competitiveness improve impact development management complex system range sector\"],\n [\"EU100035\",\n\"GLObal Robotic telescopes Intelligent Array for e-Science\",\n\"gloria citizen-science network telescope give access research community internet gloria partner offer access grow collection telescope environment telescope continent project nthe gloria partner telescope robotize free/open-source rts2 software maintain gloria member access base astro gloria member provide world telescope montegancedo observatory http://om internet experiment coordinate galaxy http://galaxyzoo nthe challenge involve people world maximise intelligence foster participation astronomy research datum analysis observation e-infrastructure manage method prove site user participate award observe time nglorium e-science network community demonstrate networking e-infrastructure increase quality research ndure project telescope experiment deploy citizen scientist foundation build documentation software community people have grow maintain grow gloria future dissemination effort make draw people scholar network learn astronomy science gloria telescope support fund continue network bear cost maintenance gloria survive future funding donation\"],\n [\"EU100036\",\n\"A network for supporting the coordination of Supercomputing research between Europe and Latin America\",\n\"risc project deepen cooperation europe latin america field performance computing build community involve representation actor researcher policy maker user risc identify need research issue opportunity transition architecture computing spectrum programming paradigm algorithm modelling approach basis formulation strategy research project achieve range activity assess collaboration potential performance computing computational science area region produce green paper high performance computing drivers need latin america actor trend identify opportunity actor actor align policy strategy share disseminate information result focus area number research policy practice actor deal technology application region make exist research research policy practice actor torganise event programme exascale computing actor organising summer schools advanced workshops actor inform initiate research collaboration networking capacity building training component event enhance impact engage industry focus problem problem impact society provide support service select number actor build relationship counterpart target area innovation impact model enhance area life sciences climate change financial modelling research cluster concentrate area textending link relationship technology tool area virtualization datum visualization datum analysis simulation align application field create value chain user practitioner enhancing policy dialogue policy maker stakeholder latin american community develop road joint strategy project expect function network focus activity support promote coordination computational science research\"],\n [\"EU100037\",\n\"Models for Optimising Dynamic Urban Mobility\",\n\"transport congestion problem contribute pollutant environment transport sector consume energy figure suggest europe reduce emission make energy improve quality life city approach management transport complexity develop adopt transport sector modum address footprint transport sector develop approach management traffic enable transport choice accommodate variation minimise impact improve quality life environment modum consider commuter combination transport face condition disturbance environment modum focus comparison synthesis approach traffic flow mechanism base agent technology route planning base software agent technology datum declare destination mechanism have prove application domain have potential utilise vehicle power networking capability achieve participation management traffic metric comparison extract need traffic control centre transport user select city metric define series simulation experiment complexity construct datum feed transport sense infrastructure result profile approach scenario traffic disturbance cause change condition synthesis approach develop partner software implementation synthesise approach embark focus telecommunication challenge demonstrator prototype validate scenario stage experiment traffic management structure traffic control centre evaluate experiment include datum simulation combination datum feed exist infrastructure vehicle section city number congestion profile experiment include people move city means transport prototype provide implementation optimisation approach traffic management adapt flow traffic disturbance minimise carbon emission environment fina\"],\n [\"EU100038\",\n\"The placebo effect \\u2013 a window into the relationship between mind and body\",\n\"datum suggest placebo effect demonstration activity shape expectation experience influence function strategy minimize placebo effect ignore effect placebo response proposal postulate approach consider placebo effect nuisance investigate mechanism expectation experience placebo response develop benefit patient apply effect expectation nocebo response effect treatment understand mechanism circumstance promote effect allow adjust treatment minimize effect investigate mechanism placebo response field pain medicine enhancement resonance imaging fmrus intervention model address mechanism underlie placebo response combine datum field pain respiration enhancement allow identify domain domain mechanism placebo response project support work-package provide neuroimaging technique improve assessment placebo nocebo brain structure cohort volunteer investigate assess relationship placebo response personality variable polymorphism association analysis insights gain project have place placebo response mechanism experience expectation mainstream evidence base medicine\"],\n [\"EU100039\",\n\"CloudIX: Cloud-based Indexing and Query Processing\",\n\"advent cloud computing comprise paradigm entail number processor perform parallel processing computing appeal variety application include datum management analysis mining datum service provision process query cloud stage rely concept map-reduce indexing mechanism boost performance query processing contrast database research pride technique query processing cloudix intend transfer knowledge datum management technology cloud infrastructure order support query processing cloudix propose distribute indexing framework handle datum cloud capitalize indexing infrastructure cloudix present algorithm process query type range nearest-neighbor top-k rank join skyline query cloudix propose cost model need integrate process query optimization research result cloudix expect catalyst attract application rely query processing move cloud showcase scenario application deploy cloudix datum management demonstrate feasibility efficiency propose framework\"],\n [\"EU100040\",\n\"The genomic basis of emerging fungal pathogenicity\",\n\"study pathogen attention have give species fungus have neglect date census element share species scan pressure variability have undertake element place have search conserve element explain regulation element network goal study gain insight evolution element involve pathogenicity analysis constraint code sequence purpose combine genome sequencing transcriptomic genomic analysis project throw light question gene element trait involve infection pathogen originate ancestor list identify gene element provide need target develop strategy\"],\n [\"EU100041\",\n\"New Tools for Real-Time Cellular Imaging and Protein Labelling\",\n\"propose research develop imaging tool reagent monitoring process focus lung function apoptosis/inflammation method tool define state lung tissue design synthesise validate imaging probe future define aetiology lung infiltrate care unit patient probe allow clinician care unit determine aetiology deteriorate function status patient probe design detect caspase neutraphil elastase presence activity target tissue research conduct interface chemistry biology medicine molecule make apply model addition imaging work develop labelling method protein\"],\n [\"EU100042\",\n\"The interplay between quantum coherence and environment in the photosynthetic electronic energy transfer and light-harvesting: a quantum chemical picture\",\n\"photon energy absorption energy transfer represent step system example photosynthesis plant alga bacterium transfer absorb light reaction center protein quantum efficiency measurement suggest role environment protein give embedding architecture determine dynamics efficiency process miss order understand characterize approach reproduce dynamics process base description playing actor transfer pigment environment approach challenge network interaction couple part make dynamics process competition fluctuation coherence strategy base integration model length time scale achieve require completeness description project achieve integration develop tool base merge quantum method force field continuum model strategy effect polarization pigment environment account couple allow simulate process harvesting energy transfer system\"],\n [\"EU100043\",\n\"Basic Research in Cryptographic Protocol Theory\",\n\"protocol theory consider situation number entity want solve problem computer network entity have datum want entity learn want learn something datum election want know number yes-vote reveal vote instance auction want find winner leak loser focus project develop technique solve protocol problem technique construct protocol solve problem give description problem focus research believe advance theory protocol compiler have impact practice develop protocol practice develop protocol verify correctness deploy purpose protocol protect information error find correct datum compromise protocol theory develop model mean protocol technique analyze give protocol focus project develop security model exist security model suffer problem prove protocol secure secure practice suffer problem prove security protocol believe practice focus research believe security model advance practice protocol verify deploy\"],\n [\"EU100044\",\n\"Investigating Functional Dynamics in Proteins by Novel Multidimensional Optical Spectroscopies in the Ultraviolet\",\n\"protein perform function follow sequence event path interaction occur origin emerge behavior make protein exist machine network process cover range timescale distance atom protein domain technique provide average information condition access time length scale unveil step constitute event evolution propose extend emerge technique ultraviolet technique analogue resonance method provide information exploit dipole coupling resolution extension ultraviolet implement open possibility exploit absorption residue advantage study type protein drawback labeling rule technique study range electron transfer copper protein enzyme regulation hemoglobin protein importance point view have choose function manifestation phenomenon term methodology tool type protein contain amino acid\"],\n [\"EU100045\",\n\"Towards compressive information processing systems\",\n\"proposal target emerge frontier research field sampling application framework information processing system include aspect system have handle amount information generate video imaging application suffer communication resource breakthrough technology have impact system conceive offer solution acquire represent information signal projection allow reduce communication storage processing requirement topic dominate signal processing research year core research proposal concept employ tool information processing system challenge develop theory algorithm allow perform signal manipulation system measurement reconstruct signal sample complexity operation include compression encryption communication reconstruction signal analysis information extraction decision distribute signal processing lead research agenda research develop demonstrate tool fuel information processing system order-of-magnitude performance cost today europe have industry communication signal processing success sector depend ability innovate integrate technology\"],\n [\"EU100046\",\n\"Ensemble based advanced quantum light matter interfaces\",\n\"ability transfer information light material memory processor have lead revolution information process communicate scientist step harness transfer quantum information matter light enable realization quantum memory light allow realization quantum information network hold promise advance information processing demonstration quantum memory have report property solid quantum memory explore avenue quantum control matter-matter entanglement progress state demonstration live entanglement state quantum memory system facilitate scalability integration scale quantum network demonstration quantum gate matter qubit store ensemble require quantum control rydberg excitation demonstration entanglement state quantum memory ensemble provide example entanglement quantum material object pave hybrid quantum network result open avenue realization quantum network repeater\"],\n [\"EU100047\",\n\"Smart Intelligent Aircraft Structures\",\n\"project proposal concern challenge pose integration concept address aircraft weight cost reduction animprovement flight profile performance concern material concept enable conformal control distortion surface material concept enable status assessment specificairframe area respect shape damages material concept functionality date have research have show feasibility system maturity morphing project concern challenge arise structuralintegration aircraft skin material bonding substructurei project proposal demonstrate structuralrealizability morph concept concern lead edge trail edge thewinglet wing testing requirement morph surface necessitate implementation shape sense system ensure control surfacebut failure tolerance robustness development make health monitoring willbe adapt task system optimize damage assessment haveprogress maturity allow inclusion generation aircraft time application sensor system have improve integrationat component manufacturing level benefit utilization adaptedsystem part manufacture process quality control assess saristu address nanotechnology aspect call benefit regard damage toleranceand conductivity improvement realize level\"],\n [\"EU100048\",\n\"The innovative use of virtual and mixed reality to increase human comfort by changing the perception of self and space\",\n\"vr-hyperspace address concern express acare vision publication change demographic increase urbanization result society need transport business mobility require approach thinking regard dimension cabin method support passenger comfort experience challenge place passenger minimum amount space maintain level comfort satisfaction vr-hyperspace carry research development lead paradigm shift relation passenger comfort project adopt approach reality technology change perception space change perception oneself breakthrough emerge method technology illusion create make passenger feel space other look feel carry range activity vision trend aviation technology variation interior airplane cabin utilize advance reality technology enhance experience passenger airplane leader field consortium bring excellence require address challenge impact project result expect provide contribution transport need provide breakthrough europe health challenge\"],\n [\"EU100049\",\n\"VIRTUAL HEART MODELS: MULTI-PHYSICS APPROACHES TO COMPUTATIONAL CARDIOLOGY\",\n\"heart disease number cause death industrialize nation class treatment technique medication surgery therapy heart disease remain disable disease europe account mortality rate european union disease cause death year cost disease economy year oppose trial-and-error base therapy approach offer potential understanding diagnose treat heart failure understanding change infarct tissue tool mechanic propose research develop model electrophysiology model couple electromechanic heart base approach couple tool model electrophysiology employ tool cardiology explore underlie complex mechanism heart disease guide personalize therapy outcome tool incorporate multi-physics model bidomain framework understanding underlie reason disease arrhythmium leave bundle block novel base tool test environment optimization therapy procedure\"],\n [\"EU100051\",\n\"Virtual Centre of Excellence for Ethically-guided and Privacy-respecting Video Analytics\",\n\"videosense integrate research group create term integration mass area privacy preserving video analytics advent datum intelligence technology background citizen goal norm expectation safety security need surveillance requirement have contribute interplay influence deserve study solution seek order society citizen industry strike balance resolution challenge arena videosense provide foster increase relationship research group momentum building integrate exist researcher resource push paradigm knowledge basis resolution guide sense-ful cost solution society surveillance need establish centre excellence framework base integration expertise optimisation share resource include knowhow laboratory people support research agenda setting board industrial scientific advisors keep target research focus need citizen society industry establish framework compliance audit management base evolve compliance audit maturity model camm associate training certification service service organisation revenue stream ensure term sustainability centre\"],\n [\"EU100052\",\n\"PLANT AND FOOD BIOSECURITY\",\n\"project focus threat have capacity affect damage agriculture infect plant affect food feed stage food supply chain thinking planning regard bioterrorism have focus human target perpetrator objective meet creation illness death associate panic vulnerability include contribute factor bioterrorism consider avenue attack agricultural bioterrorism agroterrorism subset bioterrorism define introduction animal plant disease/pest goal generate fear cause loss undermine stability programmes prepare attack agriculture have conduct nation-state organization history country canada france germany iraq japan south africa united kingdom ussr have document bioweapon programme part century country egypt north korea rhodesia syria believe have have have bioweapon programme time outbreak disease demonstrate potential attack trend biosecurity recommend shift approach biosecurity cooperation capability detect respond agroterrorism spread organization lack coordination project deal threat complex impact network excellence plantfoodsec establish centre competence plant food biosecurity enhance preparedness response capability prevent respond recover incident activity threaten agrifood system\"],\n [\"EU100054\",\n\"Creation of a distributed European Magnetic Field Laboratory\",\n\"radboud university nijmegen operate field magnet laboratory hfml field forschungszentrum dresden-rossendorf operate hochfeld-magnetlabor dresden field conseil national recherche scientifique operate laboratoire national champs magn\\u00e9tiques intenses grenoble toulouse lncmi-g lncmi-t field undertake study organize operate umbrella field laboratory emfl study investigate employment issue formulate document agreement emfl partner stakeholder identify work package provide study feasibility cost propose investment emfl develop knowledge base investment harmonize capability infrastructure page material develop communication user community public coupling field source investigate operation infrastructure organise roadmap emfl establish\"],\n [\"EU100055\",\n\"TOWARDS A JOINT EUROPEAN RESEARCH INFRASTRUCTURE NETWORK FOR COASTAL OBSERVATORIES\",\n\"number observe system increase pressure monitoring requirement research demand system include observation automate platform sensor system autonomy time period datum collect combine sense model output contribute detect understand forecast process area environment coastal observation part research puzzle activity application heterogeneity exist europe concern design observe system measure parameter practice maintenance quality control quality standard sensor datum exchange expansion observatory have drive interest undertake research project challenge research community increase coherence sustainability infrastructure address future framework objective jerico propose approach observatory network integrate infrastructure technology mooring drifter ferrybox glider networking activity lead definition practice design implementation maintenance distribution datum observe system definition quality standard harmonisation strengthen observation system eurogoo region seek twin trans national access experiment carry order reveal potential dataset synergy central infrastructure europe open research benefit contribution climate change research research conduct order identify technology implement generation observatory focus give emerge technology compartment jerico intend contribute effort climate change research geoss provide datum input ocean observe forecasting answer need research community\"],\n [\"EU100056\",\n\"Data without Boundaries\",\n\"access microda researcher level access microda agenda member state have outcome research access official datum issue efficiency harm contribution science democracy information society impact application prepare relationship build trust view agreement standard statistical system lead eurostat stakeholder bank datum archive network cessda researcher user access lottery integrate model solution access boundary arrangement discuss framework propose pilot accreditation distribute access microda expand partner dataset foster discussion promote improvement solution community datum forum workshop user conference training session staff visit prepare point access datum access researcher link cessda portal nsis metadatum harvest cessda archive provide access microda enhance access datum make dataset metadatum routine support researcher access site access system country microda coordination statistical system discussion initiative project develop ensure maximum synergy incorporation output\"],\n [\"EU100057\",\n\"The association between type 2 diabetes diagnosis and diabetes medications with risk of cancer\",\n\"type diabetes cancer disease influence survival million people diabetes have show meta-analysis associate increase risk cancer association document evidence diabetes drug affect cancer risk limit randomize trial design evaluate cancer outcome study confound indication drug propose characterize degree involvement type diabetes diagnosis treatment cancer initiation progression evaluate bias credibility exist meta-analysis diabetes diagnosis cancer risk determine diabetes diagnosis associate risk prostate cancer investigation cancer nutrition cohort perform review meta-analysis randomize trial study have evaluate association diabetes medication cancer risk evaluate association diabetes drug cancer risk site general practice research database evidence synthesis method harbord test significance bias test credibility ceiling summary estimate calculate effect model incident diabetes drug cohort design style analysis hazard model propose project have impact field literature diabetes diagnosis treatment cancer risk evaluate association assess study\"],\n [\"EU100058\",\n\"Oxysterols and IL-27-induced Type 1 regulatory T cells in Experimental Autoimmune Encephalomyelitis\",\n\"accumulate evidence indicate cholesterol metabolism play role acquire response cholesterol metabolite oxysterol have propose involve pathogenesis sclerosis adult country characterize demyelination system associate infiltrate cell balance pathogenicity effector cell regulation impose cell play role development class cell subset foxp3 t-cell type cell interest cell revive discovery differentiate cytokine il-27 provide impetus evaluate potential cell disease propose study role oxysterol cell differentiation perform screening oxysterol convert enzyme cell differentiation find il-27 induce enzyme ch25h base result propose study modulation ch25h product 25-hydroxycholesterol influence cell biology model encephalomyelitis dissect pathway oxysterol modulate cell order define target enhance cell number function project help unravel role cholesterol metabolite cell differentiation assess importance control cell disease\"],\n [\"EU100059\",\n\"Mechanisms of Inflammation Resolution: Role of miRNAs\",\n\"elucidation pathway chemical mediator activate resolution inflammation identify approach control inflammation disease inflammation resolution regulate process switch leukocyte population exudate occur reflect change bone marrow stem cell biosynthesis specialize lipid mediator lipoxin resolvin occur promote inflammation resolution regulate leukocyte trafficking expression select microrna mirna g-protein couple receptor gpcr fpr2/alx gpr32 propose investigate resolution regulate level proresolve mirna expression modulate lxa4 rvd1 process control mirna plan achieve outline system approach inflammation resolution peritonitis identify mirna analyze change mirna profile rest exposure lxa4 rvd1 gpcr-dependence lxa4 rvd1 action assess experiment fpr2/alx gpr32 cell gain function approach employ identify target gene proresolve mirna assess role differentiation inflammation result experiment help elucidate pathway exploit introduce strategy treat disease human promote resolution funding proposal reinforce excellence competitiveness research contribute reintegration proponent period mobility\"],\n [\"EU100060\",\n\"Common assessment and analysis of risk in global supply chains\",\n\"challenge face container logistics efficiency security issue have solution supply chain visibility datum visibility share business government solution exist challenge integrate solution supply chain cassandra facilitate adoption risk base approach supply chain basis monitoring datum cargo flow container integrity build interface exist visibility solution visualisation tool rchitecture demonstrate integration datum risk assessment supply chain trading route europe evaluate quality datum business government facilitate dialogue business government gain consensus criterion datum share business government project participant cover stakeholder include player expertise guarantee adoption cassandra solution value driver cassandra include logistics efficiency benefit security benefit business result risk self assessment security benefit government result quality datum government risk analysis cassandra contribute priority taxud facilitate security priority enterprise justice liberty security enable priority tren freight logistics action plan build work standardisation body development supply chain datum basis risk base supply chain management input government supervision task envisage cassandra standard goods flow europe\"],\n [\"EU100061\",\n\"Socialism and leftist Catholicism in France and Italy (1956-1972)\",\n\"socialcath research project deal connection socialism catholicism case meeting parti socialiste unifi\\u00e9 partito socialista italiano unit\\u00e0 proletaria psiup psiup socialists catholics accept strategy family psiup want represent form modernity give attention ferment defend discriminate category worker woman people psiup refuse structure mass party adopt fluid organisation model relationship psiup exchange contact member have explore context socialcath project fill bring document approach analysis nature socialcath project instrument argument socialcath project reach objective describe meeting area socialism catholicism order support policy dialogue promote organisation unesco highlight aspect socialist catholic culture order discover spirit today inheritance conscience explore relationship psiup class issue feminism issue order compare event attitude lead class society issue\"],\n [\"EU100062\",\n\"Multi-scale biomechanical modelling and simulation of the intervertebral disc\",\n\"mechanic technique have revolutionise design analysis engineer structure emerge field biomechanic apply technique study structure system advantage ability predict quantity flow deformation range length timescale tissue quantity measure live organism project develop approach analyse structure body disc disc subject deformation motion withstand load time body weight activity lack blood supply supply provide diffusion disc tissue body model disc advance study disc mechanic link disc loading deformation microenvironment experience cell embed disc tissue approach promise insight tissue repair remodelling disc tissue damage cell death disc predict disc response emerge treatment repair nucleus replacement\"],\n [\"EU100063\",\n\"STRUCTURE AND DYNAMICS OF PORPHYRIN-BASED MATERIALS IN SOLUTION vs. INTERFACES\",\n\"goal propose project perform study structure behaviour select metalloporphyrin material solution interface time resolution cover range picosecond property metalloporphyrin play role range process energy conversion photosynthesis haem protein perform transport ligand oxygen property candidate application electronics importance gain understanding property material condition pressure room temperature environment x-ray spectroscopy tool purpose have implement investigation material phase draw recognition achievement take advantage expertise extend x-ray spectroscopy system solution time year become group leader junior professor freie universit\\u00e4t berlin propose laser pump x-ray probe spectroscopy domain experiment extend resolution x-ray free electron laser facility address process scanning system spectroscopy intend study provide knowledge structure dynamics metalloporphyrin material application help enhance performance\"],\n [\"EU100064\",\n\"Tailoring Mixed-Metal Chemistry for Frontier Synthetic and Catalytic Applications\",\n\"design meet challenge face chemist demand issue project accelerate development chemistry combine metal polarity molecule hybrid develop follow metal pair hybrid exhibit chemistry parent compound building work area pnas test approach allow rationale design reagent research programme deliver chemo reagent design tool spectrum chemical reaction deprotonation exchange alkylation reduction amination cross-coupling academia industry catalytic salt catalyst advance make reagent pioneer green chemistry screen reactivity solvent grail water inspire revolution ligand support reagent construct activate molecule cascade reaction incorporate transition metal lanthanide hybrid methodology expand opportunity synthesis development hybrid catalyst reaction alternative methodology award start grant help consolidate research team propel status\"],\n [\"EU100065\",\n\"Make it simple: towards a new era for organic synthesis\",\n\"organic synthesis have make progress century ability synthesise molecule limit target complexity strategy require presence group handle functionalisation requirement factor enhance difficulty synthesis decade have emergence alternative functionalisation bond strategy bond molecule activate transition metal catalyst functionalise approach have allow dream future molecule synthesise manner replace bond substrate require functionality build model hand development functionalisation methodology impact apply area synthesis pharmaceutical agrochemical material atom efficiency waste generation ensure position chemistry method strategy succeed challenge overcome research proposal address functionalisation compound build toolkit methodology bond condition energy group tolerance control regioselectivity year have develop methodology allow coupling arene bond activation\"],\n [\"EU100066\",\n\"Fundamental Physics at the Low Background Frontier\",\n\"nature matter question physics today signal matter have remain indicate scale detector need measure number matter interaction effort scale challenge distinguish matter signal background neutron research objective proposal matter search argon detector analysis approach measure neutron background deap/clean program detector direction matter search draw approach neutrino physics build detector scale target mass demonstration approach stage miniclean break ground experiment tonne scale detector kind observatory physics background frontier testing predict property matter neutrino supernova evolution success depend demonstrate require background suppression proposal address challenge matter detection effort scalability develop method overcome neutron background task proposal develop measurement neutron background develop neutron veto measurement neutron background begin measurement flux energy spectrum exist prototype lead matter search measure background miniclean matter sensitivity factor result discovery\"],\n [\"EU100067\",\n\"Advanced Immunization Technologies\",\n\"vaccine have develop follow approach prevent cure emerge disease need exploit potential system progress science technology make achieve deem scope project produce knowledge develop immunization technology generation vaccine goal require approach discipline technology converge research group institution biotech have agree join force aditec group system biology adjuvant support enterprise system biology approach study vaccine patient characterization study trial investigate effect adjuvant vector formulation delivery device route immunization boost schedule impact host factor gender genetics pathology animal model complement study select immunization technology advance clinic address issue coordinate manner aditec organise matrix structure research theme approach feed train curriculum create impact formation generation researcher field aditec scientist institution part sclavo vaccines association dedicate vaccine vaccine research coordinate institution guarantee commitment sustainability initiative duration aditec\"],\n [\"EU100068\",\n\"A Treatment-Oriented Research Project of NCL Disorders as a Major Cause of Dementia in Childhood\",\n\"dem-child project focuss cause childhood dementia europe ceroid lipofuscinose disease characterize dementia blindness epilepsy decline lead death patient cure disorder represent challenge date gene have characterise evidence suggest gene locus remain identify country world lack research diagnosis treatment availability heterogeneity collect number patient study require advance treatment initiate dem-child project combine expertise recognize research team high-technology collaborate expert follow objective high-technology develop cost testing screening method order ensure diagnosis prevention dem-child collect world characterise patient order study disease prevalence describe history lead development evaluation tool therapy study biomarker modifier identify support development therapy focussing development therapy cause mutation transmembrane protein strategy compare brain mouse model gene transfer stem delivery factor\"],\n [\"EU100069\",\n\"Resistance in Gram-Negative Organisms: Studying Intervention Strategies\",\n\"antibiotic mainstay health have increase lead emergence resistance r-gnosis resistance organism study intervention strategy project combine study support microbiology modelling data-management determine patient population efficacy effectiveness intervention reduce carriage infection spread multi-drug bacterium mdr-gnb work-package progress science generate knowledge study focus outcome study investigate follow intervention point-of-care-testing guide management strategy improve prescription utus care decolonization outpatient carriage mdr-gnb test prescribe strategy base testing faeces mdr-gnb optimize prophylaxis surgery contact isolation patient enterobacteriacea hospital ward decolonization strategy icus laboratory europe perform analysis experiment information integrate group modeller model understand predict trend effect intervention study analysis propose r-gnosis generate step-change identify measure guidance care physician health-care authority combat spread impact infection cause mdr-gnb europe\"],\n [\"EU100070\",\n\"Discovery Festival\",\n\"discovery festival science/party night amsterdam organise disco foundation september pm-04 location fill people enjoy science music technology stimulate idea bring member generation trendset party atmosphere discovery night show scientist public display scientist festival context audience relate help create image scientist scientist\"],\n [\"EU100071\",\n\"Monolithic Integrated Antennas\",\n\"wire chip-to-chip interconnect limit performance integrate circuit technique avoid bottleneck implementation intra interconnect link circuit require integration transceiver circuitry etween integrate circuit antenna achieve circuitry ground supply plane patch patch antenna electrode assume circuit ground plane manufacture metallisation layer process goal project investigate antenna cmos circuit ground plane antenna electrode antenna input impedance evaluate antenna geometry influence substrate chip dicing antenna radiation parameter study interference integrate cmos circuit chip-to-chip link estimate study give basis implementation chip-to-chip interconnect project step career development applicant join lead research institution manage project involve teaching activity applicant move germany country reputation science research home country bulgaria potential transfer knowledge host institution enhancement network opportunity development innovation society union\"],\n [\"EU100072\",\n\"The effect of a sedentary lifestyle on type 2 diabetes and its complications\",\n\"activity risk factor problem increase health risk lack activity lifestyle behaviour define lack activity define engage activity increase energy expenditure rest level computer watch television understand health consequence behaviour associate activity order promote behaviour guideline proposal disentangle relation measure behaviour activity relation type diabetes complication maastricht study netherlands maastricht study establish cohort study focus determinant consequence type diabetes activpal accelerometer examine activity range activity intensity objective proposal describe compare pattern activity people diabetes prediabete type diabetes examine association behaviour incident diabetes understand activity and3 examine relation behaviour incident complication understand activity research advance activity research field diabetes field discovery project expect have health impact affect activity guideline guideline type diabetes complication\"],\n [\"EU100073\",\n\"Embodied Cognitive Models for Fluent Human-Robot Interaction\",\n\"robotic move application office environment part converge trend population shrink workforce decrease production cost research field human-robot interaction hrus study model algorithm robot interact human environment model structure turn-taking framework base dialog planning model result delay interaction action coordination human research propose bridge evaluate model enable coordination interaction goal design robot interact human facilitate integration home office hospital workshop research propose base research embody cognition shed light human coordinate action manner propose model finding emulator action predictor implement setting propose conduct study evaluate benefit model acceptance user project potential suggest research path extend knowledge embody cognition produce outcome design system population return applicant zone proposal reintegration applicant zone transfer knowledge collaboration research institute\"],\n [\"EU100074\",\n\"Heuristics and Biases in Debt Managment\",\n\"manage debt portfolio require decision make climate instability face debt interest rate consumer decide amount allocate order settle debt issue debt management impact institution bank credit company need understand borrower prioritize payment estimate probability loan research program identify heuristic bias affect consumer manage debt examine debt behavior align strategy lead people make decision version debt management game method program design achieve goal identify source debt management study expand understanding process underlie debt management decision study explore technique consumer debt management strategy study contribution propose research program have implication understand people perceive manage debt allow organization create tool procedure assist client manage loan improve rationality debt repayment\"],\n [\"EU100075\",\n\"Neural Circuits Underlying Visually Guided Behaviour\",\n\"goal neuroscience understand information processing circuit give rise behavior action involve hundred neuron distribute brain behavior know neuron play role organize circuit activity transform brain area zebrafish model provide opportunity dissect basis behavior vertebrate brain response amenability manipulation imaging scan area brain monitor activity neuron research programme dissect circuit underlie guide behavior zebrafish combination imaging genetics analysis propose perform analysis zebrafish behavior speed videography custom design arena presentation stimulus swim fish identify neuron circuit behavior imaging fish express encode calcium indicator perturb activity circuit target cell laser ablation optogenetic experiment architecture zebrafish brain reveal neuron comprise circuit vertebrate provide framework analysis development mutant disease model\"],\n [\"EU100076\",\n\"Mont-Blanc, European scalable and power efficient HPC platform based on low-power embedded technology\",\n\"need compute performance challenge engineering geophysics bioinformatic energy become resource cost item supercomputing facility fact energy cost year operation equal cost hardware infrastructure energy efficiency concern design computer system recognize exascale system constrain power analysis performance system show improvement rate order magnitude year petaflop achieve exaflop expect base power budget require efficiency gflops/watt leader energy efficiency achieve gflop watt improvement require project believe system develop today solution device succeed today cpus device design processor have design chip have system lead number challenge mont-blanc project have objective develop prototype technology design system range technology order overcome limitation identify prototype system develop portfolio exascale application generation system produce type computer architecture standard provide performance time energy\"],\n [\"EU100077\",\n\"Collaborative Research into Exascale Systemware, Tools and Applications\",\n\"year need supercomputer performance have drive development computing technology have exploit mass market deliver calculation decade challenge supercompute community have collaborative research exascale systemware tools application project cresta bring europe lead centre world equipment vendor europe lead programming tool provider application problem owner explore exaflop challenge meet cresta focus application vehicle develop development environment algorithm library user tool underpinning cross-cutting technology require support execution application exascale application represent cresta have choose sample supercomputing domain include system fusion energy weather prediction engineering organisation hardware software vendor service provider deliver range innovation require enable computing exascale recognise work international exascale software project europe exascale software initiative cresta engage activity ensure europe play role month duration project deliver technology allow application execute system preparation exascale system decade\"],\n [\"EU100078\",\n\"Virtual Enterprises by Networked Interoperability Services\",\n\"enterprise interoperability emerge need europe project business face marketing challenge project business develop product enterprises suffer lack synergy cohesion medium-small-micro enterprises miss sharing project information flow knowledge synergy workflow level integration expect guarantee security information preserve exist company management process year activity venis project bridge interoperability medium-small-micro enterprises accord organisation paradigm distribute repository share information contain file system database legacy application enterprise connect infrastructures micro enterprise service integration information exchange work base legacy email system boost annotation search distribute process engine mechanism link execute enterprise business process assist work business create synergy product supply chain document multimedia meeting planning work flow milestone person involve micro enterprise leave exist legacy procedure consortium compose partner collaboration balance expertise technology developer user venis result disseminate international conferences thanks creation venis community user boost venis enterprises expect improve edge project exploit project result business market bring estimate increase business year follow project\"],\n [\"EU100079\",\n\"2nd-Generation Open Access Infrastructure for Research in Europe\",\n\"openaireplus build 2nd-generation open access infrastructure expand direction outcome openaire project implement open access pilot capitalize openaire infrastructure build manage fund article associate support mechanism helpdesk system openaireplus develop access infrastructure information expand base harvest publication include publication index driver infrastructure validate repository contain literature comply standard harvest index metadatum dataset select datum repository support concept link publication deploy service link literature associate datum collection link discovery base form mining textual usage storage representation exploration offer service expert non-scientist programming interface provider service build application content deposit article datum enhance version openaire portal information associate project funding usage statistics openaireplus retain footprint engage people repository member state work complement suite study associate research effort proceed collaboration initiative investigate issue property rights financing model standard\"],\n [\"EU100080\",\n\"Manufacturing SErvice Ecosystem\",\n\"vision management methodology future internet business infrastructure enable factory enterprise self-organize distribute innovation ecosystem manufacturing asset describe compose deliver service value chain grand challenge msee project make ssme service science management engineering evolve manufacturing systems factory future viewpoint adapt modify extend ssme concept enterprise implementation viewpoint instantiate future internet service orient architecture platform manufacturing service system grand challenge msee project transform manufacturing supply chain manufacture ecosystem side define implement business process policy support innovation environment side define architecture enterprise software application support interaction distribute decision make factory enterprise synthesis grand challenge business scenario adoption test case result virtual factory industrial model service orientation innovation support renaissance europe manufacturing context\"],\n [\"EU100081\",\n\"Comprehensive European Approach to the Protection of Civil Aviation\",\n\"security have become factor aviation decade number threat aviation security have grow have lead security regulation threat evolve security procedure have become passenger privacy number security measure personnel cost grow time passenger cargo traffic expect double year today security reason delay take-off security system adapt growth rise cost have become market restraint propose project copra answer question threat situation aviation evolve future take account exist technology continue development proliferation opportunity arise development proliferation technology security procedure overcome complex security situation enable growth future?copra objective answer question constitute balance security privacy acceptability mobility cost provide idea increase flexibility resilience aviation system threat copra bring consortium research organisation industry transport provider range stakeholder end-user technology provider policy maker think tank involve copra formation expert group involvement expert group success copra objective\"],\n [\"EU100082\",\n\"Development of Rad Hard non volatile Flash memories for space applications\",\n\"project realise methodology development design memory silicon process consumer electronics silicon memory silicon device consumer market fail irradiation approach envisage develop process charge particle design architecture approach know radiation hardening process rhbp issue face corporate amount device realise follow deal effort niche market approach know radiation hardening design rhbd take consumer process design methodology mitigate radiation effect silicon process semiconductor memory integrate circuit scenario topic memory memory exclude excpetion integrate process architecture mean device failure mission avoid error correctin code technique include redundancy device type vote manner board level goal project give methodology development memory feature consumer market retention reprogrammability cyclicity realise prototype 1mbit flash memory order validate approach\"],\n [\"EU100083\",\n\"Supporting decentralised management to improve health workforce performance in Ghana, Uganda and Tanzania\",\n\"proposal address workforce deficit country africa improve performance workforce management strengthen activity test identify improvement make resource management structure management strengthen activity develop approach improve workforce performance base situation analysis monitor impact workforce performance system effect knowledge develop effectiveness approach management strengthening strategy improve health workforce performance context\"],\n [\"EU100084\",\n\"WORDS: Asymmetry, change and processing in phonological mental representation\",\n\"term objective propose project investigate nature representation word claim govern time-course word-recognition dimension development project pursue research question answer call dialogue variety discipline nature structure representation word constrained?b representation process access course communication?c representation change remain time?d hypothesis prediction representation complement linguistics research profile forte psycholinguistic neurolinguistic hypothesis test representation word brain handle variation speech reaction time brain-imaging technique reflect development word indicate datum manuscript\"],\n [\"EU100085\",\n\"Thyroid hormone and development of cardiomyocytes derived from human embryonic and induced pluripotent stem cells\",\n\"stem cell induce stem cell make skin differentiate form beat muscle cell cardiomyocyte stem cardiomyocyte sc-cm investigate repair model system research drug toxicology origin stability culture ability modify culture make source differentiation sc-cm have characteristic cell term contraction growth signalling realize potential need grow cardiomyocyte respects have evidence occur culture time-frame month reproduce stimulus maturation produce accelerate change stimulus thyroid hormone part project apply sc-cm foetus have evolve mechanism protect thyroid hormone prevent development enzyme system receptor expression level control environment respect level agent preserve stage differentiation maturation programme enzyme call keep level time investigate effect down-regulating rate extent maturation sc-cm growth programme response increase load hypertension example have classify control thyroid hormone have define time compare characteristic sc-cm growth finding stretch growth\"],\n [\"EU100086\",\n\"Predicting Properties of Large Heterogeneous Systems with Optimally-Tuned Range-Separated Hybrid Functionals\",\n\"propose develop approach study system apply problem electronics photovoltaic base approach development application density theory determine tune seek system burn challenge face material science include material system energy science photovoltaic photocatalysis include interface opto system theory modelling system face challenge benefit principle calculation work-horse calculation face challenge apply system include treat system component chemical nature predict energy level alignment predict charge transfer handle interaction solve problem result application propose strategy sacrifice quest focus criterion parameter recourse empiricism flexibility help gain simplicity applicability loss power propose scheme base hybrid functional plan application range system\"],\n [\"EU100087\",\n\"REsearch into POlicy to enhance Physical Activity\",\n\"line call objective concept proposal integrate research knowledge evidence expert know-how world policy make process increase synergy sustainability promote health prevent disease europeans research policy activity repopa consortium take challenge bring researcher discipline expertise policy maker stakeholder include citizen policy concern project year build evidence experience study collaborate academia policy maker establish structure practice health promotion objective assess need role research evidence policy making study research evidence combine negotiate kind evidence policy make process focus activity policy intervention explore translate research evidence policy making process translate result guidance tool enhancement policy making europe disseminate result lesson learn build structure enhance sustainability policy make evaluate result process impact repopa repopa consortium bring excellence health research include activity link life experience policy making expertise knowledge translation region country europe canada repopa line concept health policy\"],\n [\"EU100088\",\n\"Evolution and Transfer of Antibiotic Resistance\",\n\"antibiotic therapeutics treatment infection antibiotic have lead emergence bacterium pose threat health option treat infection bacterium have become evolution emergence spread resistance gene understand expand knowledge aspect provide lead combat emergence resistance evotar consortium gather group lead researcher field resistance genomic modelling addition participate evotar pathogen evotar characterise reservoir resistance gene resistome investigate dynamics evolution interaction bacterium fromthe microbiome interrelation resistome reservoir resistance gene method quantify resistance transfer condition gene exchange community modelling apply predict gene flow reservoir resistance trend model allow study efficacy therapeutics reduce selection spread resistance evotar project generate insight evolution spread resistance gene create opportunity development intervention curb rise tide resistance pathogen\"],\n [\"EU100089\",\n\"The 2050+ Airport\",\n\"project explore airport concept solution prepare airport build level target concept hltc advisory council aeronautics research europe acare strategic research agenda sra-2 underline importance transport sector respect value gross domestic product people mobility airport play role transport system airport have meet objective area environment cost performance airport have focus area vary airport airport project develop airport concept passenger time climate cost demonstrate airport look take area lead objective project show benefit challenge concept trade-off area make airport concept describe interface aircraft ground principle airport layout include connection passenger baggage experience travel airport approach develop concept take account input exist study project input stakeholder university research institute airport industry project provide methodology develop evaluate airport concept output project show step change innovation propose prepare type airport half century\"],\n [\"EU100090\",\n\"DEMONSTRATION INSTALLATION OF A LEGIONELLA PREVENTIVE BACTERICIDE WATER FILTRATION FOR LARGE PUBLIC AND INDUSTRIAL FACILITIES\",\n\"legiotex-demo project impact market equipment climate control water distribution system facility legiotex demo base result legiotex proposal objective project development water filter legiotex water inhibit growth proliferation bacterium belong legionellum pneumophilum family climate control equipment water distribution system risk become source legionnaire disease outbreak facility develop filter bactericide textile assure biocide effect property filter mount disposal cartridge replacement metal housing install equipment have behaviour commercialization legiotex-demo install product prototype prevention legionellum contamination demonstration installation facility risk become source legionnaire disease infection corroborate efficacy develop prototype\"],\n [\"EU100091\",\n\"Fruitful Instability: The Cultural Logic of Creative Practice in Israeli High-Technology Start-Ups\",\n\"israel country people have density start-up world israelis company list nasdaq exchange company continent addition capita venture capital investment israel time time europe productivity take place region world paradox give fact theory sense suggest importance environment market business functionality paradox research hypothesis israel reality have number feature feature start-up study relationship level commensurability orientation israeli defense people acquire service orientation mobilize research development start-up norm employee product israel history decision-making commensurability culture framework need transformation idea product recruitment venture capital\"],\n [\"EU100092\",\n\"Nanoparticle - Cell Interactions, a Pathway for Understanding Nanotoxicity:  from a Model System to in-vitro System\",\n\"product nanoparticle mediate solution range application surface market increase interest concern benefit risk technology nanoparticle size cross barrier break effect property start dominate quantum size effect surface energy raise question regard suitability method test animal model evaluate toxicity understand cell nanoparticle interaction level complex simplify environment order toxicity foundation modulation nanoparticle property allow performance drug delivery bioimaging device coating bio-sensor biochip development biofoul protection mitigate nanotoxicology research endeavor study understand interaction take place interface function particle size protein environment have adsorb surface particle achieve propose utilization state surface technique force microscope acoustic biosensors combination study interaction force change occur interaction study simplify membrane model avoid interaction support lipid bilayer order understand foundation interaction transition model cell study interaction environment\"],\n [\"EU100093\",\n\"Protecting biodiversity in the face of climate change\",\n\"land change cause habitat fragmentation result species shift range response climate change need adapt change condition strategy maximize potential population focus conservation effort area level variation propose approach integrate process prioritization strategy model variation step development refinement framework understand utility objective project measure characteristic genotype species bulgaria/romania cameroon pattern variation region prioritize area conservation base variation species richness measure effectiveness variation species surrogate compare overlap reserve base variation species richness compare utility code marker deliverable identify area amount variation insight applicability approach understanding relationship diversity insight effect process population divergence understanding variation shape divergence locus toolbox method conservation planner project enhance implementation conservation prioritization framework develop ability make recommendation usage\"],\n [\"EU100094\",\n\"NUCLEOLAR-DEPENDENT SECRETION OF MICRORNA IN A MODEL OF DOXORUBICIN AND TRASTUZUMAB CARDIOMYOPATHY\",\n\"combination doxorubicin antibody trastuzumab breast cancer have role effect cardiotoxicity microrna mirna nucleotide regulate process mirna detect circulation level increase stress condition grow body evidence suggest circulate mirna release signal molecule target cell mechanism mirna secretion characterize literature suggest idea nucleolus play role mirna release reuptake term goal proposal identify signature circulate mirna response treatment term goal study mechanism release reuptake mirna demonstrate role nucleolus process task focus analysis circulate mirna plasma mouse treat saline identification secrete mirna response cell hcstc progenitor cell hcpc study mechanism/s release uptake mirnas stress role protein nucleophosmin mirna export uptake stress significance delineation mechanism control stress response identification target mitigate cardiotoxicity improve survival\"],\n [\"EU100095\",\n\"Technology & Design Kits for Printed-Electronics\",\n\"goal technology design printed electronics tdk4pe change print electronics design manufacture europe reduce cost time-to-market order magnitude design address thousand transistor substrate develop methodology enable circuit implementation achieve adopt methodology silicon microelectronics technology design physics point engineer address design certainty freedom creativity support circuit design level tdk4pe address product value chain concept application material design manufacturing process establish design methodology couple technology process flow support design automation tool mass production need building cell library base characterize device make enable synthesis circuit property yield improve circuit reliability establish methodology task approach consortium possess range skill tdk4pe have bring collaboration player field material print technology manufacturing modelling component system design microelectronics tool application point pole project fola technology application come means methodology enabler design activity convergence technology application contribute create business sector potential growth\"],\n [\"EU100096\",\n\"Comprehensive Modelling for Advanced Systems of Systems\",\n\"design product service take advantage systems systems technology infancy hamper complexity cause heterogeneity independence constituent system difficulty communication stakeholder state engineering lack model tool help developer make trade-off decision design evolution assist work record contract constituent lead design rework integration service compass augment exist industry tool practice underlie modelling language architecture contract express foundation develop engineering enable language support analysis property language method support tool platform integrate prototype plug-in model construction analysis simulation test automation analysis model-checking proof link modelling language sysml strengthen foundation tool support enhance method guideline help user embed technology practice technical advance compass focus industry need evaluate case study area augment challenge problem solicit range stakeholder developer organisation interest group platform tool plug-in semantics development guideline industry case study experience challenge problem ensure compass output exploit developer stakeholder research development\"],\n [\"EU100097\",\n\"The Environmental Observation Web and its Service Applications within the Future Internet\",\n\"community generate amount observation scale communication device computer sensor connect internet community observation represent wealth information need integration datum information source manage research institution industry envirofi address issue specify requirement building prototype enabler usage area future internet bring stakeholder community understand observe process resolution situation awareness scale achievement have impact europe contribute meet challenge competitiveness living decade envirofi explore advance need stakeholder community access decentralize fusion service datum authority researcher people sector organisation allow participant plug experiment feedback envirofi environmental observation envirofi consolidate future internet requirement environmental usage area perspective provide specification prototype enabler deploy terrestrial atmospheric marine environment collaboration stakeholder community stage trial environmental usage area perspective achieve progress europe\"],\n [\"EU100098\",\n\"Future INternet for Smart ENergY\",\n\"energy sector have enter period change continue year come increase proportion electricity source mean architecture energy grid have support distribute addition generation energy adapt supply wind generator consumption perspective vehicle demand load management pattern grid time consumer encourage reduce energy electronics manufacturer strive reduce energy product energy supply need evolve system provide energy infrastructure need support society internet technology play role development smart energy infrastructure enable functionality reduce cost finseny project actor energy sector team-up identify requirement smart energy systems lead definition solution standard verify scale smart energy trial project result contribute emergence smart energy infrastructure base product service benefit citizen environment part fi-ppp programme finseny analyse requirement fi-ppp project develop solution address requirement prepare smart energy trial phase programme grow finseny smart grid stakeholder group provide visibility project work energy community enhance acceptability project result facilitate development energy market\"],\n [\"EU100099\",\n\"Smart Food and Agribusiness: Future Internet for Safe and Healthy Food from Farm to Fork\",\n\"smartagrifood project address food agribusiness case future internet intelligence efficiency sustainability performance sector enhance information decision support system integrate network service sector provide demand case future internet design layer service layer project focus system sector farming focus sensor traceability agri-logistics focus virtualisation connectivity logistics intelligence food awareness focus transparency datum knowledge representation methodology case specification develop focus transparency interoperability datum knowledge food supply chain project result include case description farming include broadband sense monitor animal case description agri-logistics include transport logistics case description food awareness focus enable consumer information concern safety health impact animal welfare-identification requirement community user organisation involvement requirement gather pilot demonstration evaluation-specification interface functionality integration core platform contribution standardisation body europe feature smartagrifood concept demonstrate verify simulation system project scale demonstration intend phase\"],\n [\"EU100100\",\n\"Instant Mobility for Passengers and Goods\",\n\"mobility project have create concept transport mobility internet platform information service support type application scenario centre stakeholder group traveller tdriver passenger tpassenger transport operator tgood vehicle operator operator traffic manager project define requirement future internet technology tool enabler service user terminal requirement underpin specification enabler turn create software prototype demonstration project prepare plan implement phase limited-scale trial number city transport mobility internet platform subset core platform mobility study framework condition support hinder deployment service domain project research result support standardisation standard standard domain\"],\n [\"EU100101\",\n\"Provisioning of urban/regional smart services and business models enabled by the Future Internet\",\n\"goal outsmart contribute future internet development innovation eco-system eco-system facilitate creation variety pilot service technology contribute optimise supply access service resource area contribute utility provision increase efficiency strain resource environment reach goal require value chain city authority utility operator company knowledge institution order have industry drive approach develop service technology outsmart service technology base infrastructure envision public partnership provide service framework design facilitate provision development access extend outsmart deliver requirement enabler platform business framework support describe eco-system provide specification domain enabler functionality service interface align core platform component specify project effort provide realisation prototype domain functionality envision eco-system validation field trial envision case deliver business framework specification serve print foresee eco-system provide sustainability funding lifetime create condition investment innovation deliver plan pilot service envision eco-system house show case europe utility environment application domain\"]],\n        columns: [[\"string\", \"ID\"], [\"string\", \"TITLE\"], [\"string\", \"DESCRIPTION\"]],\n        columnOptions: [],\n        rowsPerPage: 5,\n        helpUrl: \"https://colab.research.google.com/notebooks/data_table.ipynb\",\n        suppressOutputScrolling: true,\n        minimumWidth: undefined,\n      });\n    ",
            "text/plain": [
              "<google.colab.data_table.DataTable object>"
            ]
          },
          "metadata": {},
          "execution_count": 7
        }
      ]
    },
    {
      "cell_type": "markdown",
      "metadata": {
        "id": "ChKtbgQldfTf"
      },
      "source": [
        "### Data Cleaning\n",
        "\n",
        "Now, let`s create the BoWs by using the [CountVectorizer](https://scikit-learn.org/stable/modules/generated/sklearn.feature_extraction.text.CountVectorizer.html) facility. \n",
        "\n",
        "It is a [ScikitLearn](https://scikit-learn.org/stable/index.html) module focused to create bag-of-words from strings. \n"
      ]
    },
    {
      "cell_type": "code",
      "metadata": {
        "id": "BwiEHyUEdhOl",
        "colab": {
          "base_uri": "https://localhost:8080/"
        },
        "outputId": "9240fa2f-17da-496e-b883-eca5c3b94a80"
      },
      "source": [
        "# from sklearn.feature_extraction import text \n",
        "# my_additional_stop_words = ['xxx','yyy']\n",
        "# my_stop_words = text.ENGLISH_STOP_WORDS.union(my_additional_stop_words)\n",
        "\n",
        "# list of texts\n",
        "documents = dataset_df['DESCRIPTION'].tolist()\n",
        "\n",
        "# bag-of-words\n",
        "tf_vectorizer = CountVectorizer(\n",
        "    stop_words=[],\n",
        "    min_df=1,\n",
        "    max_df=1.0,\n",
        "    lowercase=True,\n",
        "    max_features=50000,\n",
        "    token_pattern='[a-zA-Z0-9]{3,}',  \n",
        "    analyzer = 'word'\n",
        ")\n",
        "bag_of_words = tf_vectorizer.fit_transform(documents)\n",
        "dictionary = tf_vectorizer.get_feature_names_out()\n",
        "vocabulary = tf_vectorizer.vocabulary_\n",
        "\n",
        "print(\"Vocabulary Size: \", len(dictionary))"
      ],
      "execution_count": 9,
      "outputs": [
        {
          "output_type": "stream",
          "name": "stdout",
          "text": [
            "Vocabulary Size:  2424\n"
          ]
        }
      ]
    },
    {
      "cell_type": "markdown",
      "metadata": {
        "id": "bUcIcUukgaxV"
      },
      "source": [
        "Sorted list of terms by frequency:"
      ]
    },
    {
      "cell_type": "code",
      "metadata": {
        "id": "GIag37aMgeuz",
        "colab": {
          "base_uri": "https://localhost:8080/"
        },
        "outputId": "ad3d2780-d2e1-4fe3-97fb-bfafffe2c32a"
      },
      "source": [
        "s = bag_of_words.toarray().sum(axis=0)\n",
        "st = sorted(range(len(s)), key=lambda k: s[k], reverse=True)\n",
        "for i,x in enumerate(st[:20]):\n",
        "  print(dictionary[x],s[x])"
      ],
      "execution_count": 10,
      "outputs": [
        {
          "output_type": "stream",
          "name": "stdout",
          "text": [
            "research 147\n",
            "system 131\n",
            "project 126\n",
            "have 119\n",
            "develop 87\n",
            "study 82\n",
            "datum 72\n",
            "model 70\n",
            "technology 70\n",
            "approach 63\n",
            "design 63\n",
            "provide 54\n",
            "application 53\n",
            "need 51\n",
            "process 51\n",
            "base 50\n",
            "challenge 48\n",
            "propose 47\n",
            "development 46\n",
            "support 46\n"
          ]
        }
      ]
    },
    {
      "cell_type": "markdown",
      "metadata": {
        "id": "lmTsfABkDzF2"
      },
      "source": [
        "### Topic Model\n",
        "\n",
        "Now it's time to build a LDA-based model by setting values for:\n",
        "- number of topics\n",
        "- alpha\n",
        "- beta"
      ]
    },
    {
      "cell_type": "code",
      "metadata": {
        "id": "BP5oPuB9GPfv",
        "colab": {
          "base_uri": "https://localhost:8080/",
          "height": 588
        },
        "outputId": "b44866bd-1813-462f-cefc-89d6645c7421"
      },
      "source": [
        "\n",
        "topics = 3 \n",
        "\n",
        "alpha = 1.0\n",
        "\n",
        "beta = 1.0\n",
        "\n",
        "# Run LDA\n",
        "lda = LatentDirichletAllocation(\n",
        "    n_components=topics, \n",
        "    doc_topic_prior=alpha, \n",
        "    topic_word_prior=beta, \n",
        "    max_iter=25, \n",
        "    learning_method='online', \n",
        "    evaluate_every=1,\n",
        "    n_jobs = -1,\n",
        "    random_state=0,\n",
        "    verbose=1)\n",
        "lda.fit(bag_of_words)\n"
      ],
      "execution_count": 13,
      "outputs": [
        {
          "output_type": "stream",
          "name": "stdout",
          "text": [
            "iteration: 1 of max_iter: 25, perplexity: 2173.0615\n",
            "iteration: 2 of max_iter: 25, perplexity: 1760.6362\n",
            "iteration: 3 of max_iter: 25, perplexity: 1624.9904\n",
            "iteration: 4 of max_iter: 25, perplexity: 1564.1700\n",
            "iteration: 5 of max_iter: 25, perplexity: 1531.3050\n",
            "iteration: 6 of max_iter: 25, perplexity: 1511.4544\n",
            "iteration: 7 of max_iter: 25, perplexity: 1498.5120\n",
            "iteration: 8 of max_iter: 25, perplexity: 1489.5498\n",
            "iteration: 9 of max_iter: 25, perplexity: 1483.0316\n",
            "iteration: 10 of max_iter: 25, perplexity: 1478.1454\n",
            "iteration: 11 of max_iter: 25, perplexity: 1474.3959\n",
            "iteration: 12 of max_iter: 25, perplexity: 1471.4298\n",
            "iteration: 13 of max_iter: 25, perplexity: 1468.9948\n",
            "iteration: 14 of max_iter: 25, perplexity: 1466.9152\n",
            "iteration: 15 of max_iter: 25, perplexity: 1465.1127\n",
            "iteration: 16 of max_iter: 25, perplexity: 1463.5747\n",
            "iteration: 17 of max_iter: 25, perplexity: 1462.2627\n",
            "iteration: 18 of max_iter: 25, perplexity: 1461.1277\n",
            "iteration: 19 of max_iter: 25, perplexity: 1460.1305\n",
            "iteration: 20 of max_iter: 25, perplexity: 1459.2456\n",
            "iteration: 21 of max_iter: 25, perplexity: 1458.4578\n",
            "iteration: 22 of max_iter: 25, perplexity: 1457.7579\n",
            "iteration: 23 of max_iter: 25, perplexity: 1457.1374\n",
            "iteration: 24 of max_iter: 25, perplexity: 1456.5881\n",
            "iteration: 25 of max_iter: 25, perplexity: 1456.1015\n"
          ]
        },
        {
          "output_type": "execute_result",
          "data": {
            "text/plain": [
              "LatentDirichletAllocation(doc_topic_prior=1.0, evaluate_every=1,\n",
              "                          learning_method='online', max_iter=25, n_components=3,\n",
              "                          n_jobs=-1, random_state=0, topic_word_prior=1.0,\n",
              "                          verbose=1)"
            ],
            "text/html": [
              "<style>#sk-container-id-2 {color: black;background-color: white;}#sk-container-id-2 pre{padding: 0;}#sk-container-id-2 div.sk-toggleable {background-color: white;}#sk-container-id-2 label.sk-toggleable__label {cursor: pointer;display: block;width: 100%;margin-bottom: 0;padding: 0.3em;box-sizing: border-box;text-align: center;}#sk-container-id-2 label.sk-toggleable__label-arrow:before {content: \"▸\";float: left;margin-right: 0.25em;color: #696969;}#sk-container-id-2 label.sk-toggleable__label-arrow:hover:before {color: black;}#sk-container-id-2 div.sk-estimator:hover label.sk-toggleable__label-arrow:before {color: black;}#sk-container-id-2 div.sk-toggleable__content {max-height: 0;max-width: 0;overflow: hidden;text-align: left;background-color: #f0f8ff;}#sk-container-id-2 div.sk-toggleable__content pre {margin: 0.2em;color: black;border-radius: 0.25em;background-color: #f0f8ff;}#sk-container-id-2 input.sk-toggleable__control:checked~div.sk-toggleable__content {max-height: 200px;max-width: 100%;overflow: auto;}#sk-container-id-2 input.sk-toggleable__control:checked~label.sk-toggleable__label-arrow:before {content: \"▾\";}#sk-container-id-2 div.sk-estimator input.sk-toggleable__control:checked~label.sk-toggleable__label {background-color: #d4ebff;}#sk-container-id-2 div.sk-label input.sk-toggleable__control:checked~label.sk-toggleable__label {background-color: #d4ebff;}#sk-container-id-2 input.sk-hidden--visually {border: 0;clip: rect(1px 1px 1px 1px);clip: rect(1px, 1px, 1px, 1px);height: 1px;margin: -1px;overflow: hidden;padding: 0;position: absolute;width: 1px;}#sk-container-id-2 div.sk-estimator {font-family: monospace;background-color: #f0f8ff;border: 1px dotted black;border-radius: 0.25em;box-sizing: border-box;margin-bottom: 0.5em;}#sk-container-id-2 div.sk-estimator:hover {background-color: #d4ebff;}#sk-container-id-2 div.sk-parallel-item::after {content: \"\";width: 100%;border-bottom: 1px solid gray;flex-grow: 1;}#sk-container-id-2 div.sk-label:hover label.sk-toggleable__label {background-color: #d4ebff;}#sk-container-id-2 div.sk-serial::before {content: \"\";position: absolute;border-left: 1px solid gray;box-sizing: border-box;top: 0;bottom: 0;left: 50%;z-index: 0;}#sk-container-id-2 div.sk-serial {display: flex;flex-direction: column;align-items: center;background-color: white;padding-right: 0.2em;padding-left: 0.2em;position: relative;}#sk-container-id-2 div.sk-item {position: relative;z-index: 1;}#sk-container-id-2 div.sk-parallel {display: flex;align-items: stretch;justify-content: center;background-color: white;position: relative;}#sk-container-id-2 div.sk-item::before, #sk-container-id-2 div.sk-parallel-item::before {content: \"\";position: absolute;border-left: 1px solid gray;box-sizing: border-box;top: 0;bottom: 0;left: 50%;z-index: -1;}#sk-container-id-2 div.sk-parallel-item {display: flex;flex-direction: column;z-index: 1;position: relative;background-color: white;}#sk-container-id-2 div.sk-parallel-item:first-child::after {align-self: flex-end;width: 50%;}#sk-container-id-2 div.sk-parallel-item:last-child::after {align-self: flex-start;width: 50%;}#sk-container-id-2 div.sk-parallel-item:only-child::after {width: 0;}#sk-container-id-2 div.sk-dashed-wrapped {border: 1px dashed gray;margin: 0 0.4em 0.5em 0.4em;box-sizing: border-box;padding-bottom: 0.4em;background-color: white;}#sk-container-id-2 div.sk-label label {font-family: monospace;font-weight: bold;display: inline-block;line-height: 1.2em;}#sk-container-id-2 div.sk-label-container {text-align: center;}#sk-container-id-2 div.sk-container {/* jupyter's `normalize.less` sets `[hidden] { display: none; }` but bootstrap.min.css set `[hidden] { display: none !important; }` so we also need the `!important` here to be able to override the default hidden behavior on the sphinx rendered scikit-learn.org. See: https://github.com/scikit-learn/scikit-learn/issues/21755 */display: inline-block !important;position: relative;}#sk-container-id-2 div.sk-text-repr-fallback {display: none;}</style><div id=\"sk-container-id-2\" class=\"sk-top-container\"><div class=\"sk-text-repr-fallback\"><pre>LatentDirichletAllocation(doc_topic_prior=1.0, evaluate_every=1,\n",
              "                          learning_method=&#x27;online&#x27;, max_iter=25, n_components=3,\n",
              "                          n_jobs=-1, random_state=0, topic_word_prior=1.0,\n",
              "                          verbose=1)</pre><b>In a Jupyter environment, please rerun this cell to show the HTML representation or trust the notebook. <br />On GitHub, the HTML representation is unable to render, please try loading this page with nbviewer.org.</b></div><div class=\"sk-container\" hidden><div class=\"sk-item\"><div class=\"sk-estimator sk-toggleable\"><input class=\"sk-toggleable__control sk-hidden--visually\" id=\"sk-estimator-id-2\" type=\"checkbox\" checked><label for=\"sk-estimator-id-2\" class=\"sk-toggleable__label sk-toggleable__label-arrow\">LatentDirichletAllocation</label><div class=\"sk-toggleable__content\"><pre>LatentDirichletAllocation(doc_topic_prior=1.0, evaluate_every=1,\n",
              "                          learning_method=&#x27;online&#x27;, max_iter=25, n_components=3,\n",
              "                          n_jobs=-1, random_state=0, topic_word_prior=1.0,\n",
              "                          verbose=1)</pre></div></div></div></div></div>"
            ]
          },
          "metadata": {},
          "execution_count": 13
        }
      ]
    },
    {
      "cell_type": "markdown",
      "metadata": {
        "id": "dLPTKvHnpvM2"
      },
      "source": [
        "Explore topics:"
      ]
    },
    {
      "cell_type": "code",
      "metadata": {
        "id": "wtFvTVvvd6Sk",
        "colab": {
          "base_uri": "https://localhost:8080/"
        },
        "outputId": "c2cea910-b82e-4ac7-d62e-598df9b349d4"
      },
      "source": [
        "no_top_words = 10\n",
        "no_top_documents = 5\n",
        "\n",
        "doc_topics = lda.transform(bag_of_words)\n",
        "topics = lda.components_\n",
        "\n",
        "print(\"LDA Topics\")\n",
        "for topic_idx, topic in enumerate(topics):\n",
        "    print(\"-\"*30)\n",
        "    print(\" Topic \",(topic_idx),\" :\")\n",
        "    print(\"[\",\" | \".join([dictionary[i]\n",
        "                    for i in topic.argsort()[:-no_top_words - 1:-1]]),\"]\")\n",
        "    top_doc_indices = np.argsort( doc_topics[:,topic_idx] )[::-1][0:no_top_documents]\n",
        "    for doc_index in top_doc_indices:\n",
        "        row_index = doc_index +1\n",
        "        print(\"[\",doc_index,\"] (\",rows[row_index][0],\") \\'\",rows[row_index][1],\"\\'\", [ \"{0:.5f}\".format(weight) for weight in doc_topics[doc_index]])\n",
        "        "
      ],
      "execution_count": 14,
      "outputs": [
        {
          "output_type": "stream",
          "name": "stdout",
          "text": [
            "LDA Topics\n",
            "------------------------------\n",
            " Topic  0  :\n",
            "[ quantum | matter | circuit | spin | background | chip | antenna | transfer | measurement | memory ]\n",
            "[ 46 ] ( EU100046 ) ' Ensemble based advanced quantum light matter interfaces ' ['0.94759', '0.01495', '0.03746']\n",
            "[ 64 ] ( EU100066 ) ' Fundamental Physics at the Low Background Frontier ' ['0.83504', '0.01413', '0.15083']\n",
            "[ 5 ] ( EU100005 ) ' Coherent spin manipulation in hybrid nanostructures ' ['0.81805', '0.01677', '0.16518']\n",
            "[ 69 ] ( EU100071 ) ' Monolithic Integrated Antennas ' ['0.81488', '0.01519', '0.16994']\n",
            "[ 73 ] ( EU100075 ) ' Neural Circuits Underlying Visually Guided Behaviour ' ['0.71292', '0.11286', '0.17422']\n",
            "------------------------------\n",
            " Topic  1  :\n",
            "[ cell | have | study | disease | model | mechanism | project | response | brain | mirna ]\n",
            "[ 57 ] ( EU100059 ) ' Mechanisms of Inflammation Resolution: Role of miRNAs ' ['0.00952', '0.97731', '0.01317']\n",
            "[ 29 ] ( EU100029 ) ' METABOLIC CONTROL OF IMMATURE STROMAL CELL BIOLOGY ' ['0.01051', '0.97601', '0.01348']\n",
            "[ 92 ] ( EU100094 ) ' NUCLEOLAR-DEPENDENT SECRETION OF MICRORNA IN A MODEL OF DOXORUBICIN AND TRASTUZUMAB CARDIOMYOPATHY ' ['0.01121', '0.97555', '0.01324']\n",
            "[ 56 ] ( EU100058 ) ' Oxysterols and IL-27-induced Type 1 regulatory T cells in Experimental Autoimmune Encephalomyelitis ' ['0.01153', '0.97292', '0.01555']\n",
            "[ 51 ] ( EU100052 ) ' PLANT AND FOOD BIOSECURITY ' ['0.00989', '0.96747', '0.02263']\n",
            "------------------------------\n",
            " Topic  2  :\n",
            "[ research | system | project | have | develop | datum | technology | design | study | application ]\n",
            "[ 36 ] ( EU100036 ) ' A network for supporting the coordination of Supercomputing research between Europe and Latin America ' ['0.00682', '0.00743', '0.98576']\n",
            "[ 37 ] ( EU100037 ) ' Models for Optimising Dynamic Urban Mobility ' ['0.00706', '0.00814', '0.98480']\n",
            "[ 28 ] ( EU100028 ) ' Integrated Ground and on-Board system for Support of the Aircraft Safe Take-off and Landing ' ['0.00852', '0.00857', '0.98291']\n",
            "[ 99 ] ( EU100101 ) ' Provisioning of urban/regional smart services and business models enabled by the Future Internet ' ['0.00906', '0.00897', '0.98198']\n",
            "[ 76 ] ( EU100078 ) ' Virtual Enterprises by Networked Interoperability Services ' ['0.00978', '0.00918', '0.98104']\n"
          ]
        }
      ]
    },
    {
      "cell_type": "markdown",
      "metadata": {
        "id": "80GMbeBiV9T7"
      },
      "source": [
        "### Doc-Topic Matrix\n"
      ]
    },
    {
      "cell_type": "code",
      "metadata": {
        "id": "KiuAQnr_Uf7s",
        "colab": {
          "base_uri": "https://localhost:8080/",
          "height": 316
        },
        "outputId": "660aa6f5-8e52-4bbd-9c26-b083d31eaeb6"
      },
      "source": [
        "from IPython.display import display, HTML\n",
        "import pandas as pd\n",
        "#pd.set_option('display.max_columns', None)\n",
        "\n",
        "topicnames = [\"topic\"+ str(x) for x in range(0, lda.n_components)]\n",
        "\n",
        "df = pd.DataFrame(doc_topics, \n",
        "                  columns=topicnames, \n",
        "                  index=dataset_df['TITLE'].tolist())\n",
        "\n",
        "data_table.DataTable(df, num_rows_per_page=10)"
      ],
      "execution_count": 15,
      "outputs": [
        {
          "output_type": "execute_result",
          "data": {
            "text/html": [
              "<div>\n",
              "<style scoped>\n",
              "    .dataframe tbody tr th:only-of-type {\n",
              "        vertical-align: middle;\n",
              "    }\n",
              "\n",
              "    .dataframe tbody tr th {\n",
              "        vertical-align: top;\n",
              "    }\n",
              "\n",
              "    .dataframe thead th {\n",
              "        text-align: right;\n",
              "    }\n",
              "</style>\n",
              "<table border=\"1\" class=\"dataframe\">\n",
              "  <thead>\n",
              "    <tr style=\"text-align: right;\">\n",
              "      <th></th>\n",
              "      <th>topic0</th>\n",
              "      <th>topic1</th>\n",
              "      <th>topic2</th>\n",
              "    </tr>\n",
              "  </thead>\n",
              "  <tbody>\n",
              "    <tr>\n",
              "      <th>Visual object population codes  relating human brains to nonhuman and computational models with representational similarity analysis</th>\n",
              "      <td>0.018314</td>\n",
              "      <td>0.255246</td>\n",
              "      <td>0.726440</td>\n",
              "    </tr>\n",
              "    <tr>\n",
              "      <th>New Opportunities for Research Funding Agency Co-operation in Europe II</th>\n",
              "      <td>0.011337</td>\n",
              "      <td>0.012227</td>\n",
              "      <td>0.976436</td>\n",
              "    </tr>\n",
              "    <tr>\n",
              "      <th>USA and Europe Cooperation in Mini UAVs</th>\n",
              "      <td>0.013460</td>\n",
              "      <td>0.013440</td>\n",
              "      <td>0.973100</td>\n",
              "    </tr>\n",
              "    <tr>\n",
              "      <th>Sustainable Infrastructure for Resilient Urban Environments</th>\n",
              "      <td>0.013975</td>\n",
              "      <td>0.014040</td>\n",
              "      <td>0.971985</td>\n",
              "    </tr>\n",
              "    <tr>\n",
              "      <th>Modelling star formation in the local universe</th>\n",
              "      <td>0.019120</td>\n",
              "      <td>0.017476</td>\n",
              "      <td>0.963404</td>\n",
              "    </tr>\n",
              "    <tr>\n",
              "      <th>...</th>\n",
              "      <td>...</td>\n",
              "      <td>...</td>\n",
              "      <td>...</td>\n",
              "    </tr>\n",
              "    <tr>\n",
              "      <th>The Environmental Observation Web and its Service Applications within the Future Internet</th>\n",
              "      <td>0.012157</td>\n",
              "      <td>0.012279</td>\n",
              "      <td>0.975565</td>\n",
              "    </tr>\n",
              "    <tr>\n",
              "      <th>Future INternet for Smart ENergY</th>\n",
              "      <td>0.008933</td>\n",
              "      <td>0.011304</td>\n",
              "      <td>0.979764</td>\n",
              "    </tr>\n",
              "    <tr>\n",
              "      <th>Smart Food and Agribusiness: Future Internet for Safe and Healthy Food from Farm to Fork</th>\n",
              "      <td>0.010896</td>\n",
              "      <td>0.010979</td>\n",
              "      <td>0.978125</td>\n",
              "    </tr>\n",
              "    <tr>\n",
              "      <th>Instant Mobility for Passengers and Goods</th>\n",
              "      <td>0.016250</td>\n",
              "      <td>0.016362</td>\n",
              "      <td>0.967387</td>\n",
              "    </tr>\n",
              "    <tr>\n",
              "      <th>Provisioning of urban/regional smart services and business models enabled by the Future Internet</th>\n",
              "      <td>0.009055</td>\n",
              "      <td>0.008969</td>\n",
              "      <td>0.981976</td>\n",
              "    </tr>\n",
              "  </tbody>\n",
              "</table>\n",
              "<p>100 rows × 3 columns</p>\n",
              "</div>"
            ],
            "application/vnd.google.colaboratory.module+javascript": "\n      import \"https://ssl.gstatic.com/colaboratory/data_table/99dac6621f6ae8c4/data_table.js\";\n\n      window.createDataTable({\n        data: [[\"Visual object population codes  relating human brains to nonhuman and computational models with representational similarity analysis\",\n{\n            'v': 0.018314391864509796,\n            'f': \"0.018314391864509796\",\n        },\n{\n            'v': 0.2552458256874617,\n            'f': \"0.2552458256874617\",\n        },\n{\n            'v': 0.7264397824480285,\n            'f': \"0.7264397824480285\",\n        }],\n [\"New Opportunities for Research Funding Agency Co-operation in Europe II\",\n{\n            'v': 0.011336517047243307,\n            'f': \"0.011336517047243307\",\n        },\n{\n            'v': 0.012227012039555446,\n            'f': \"0.012227012039555446\",\n        },\n{\n            'v': 0.9764364709132013,\n            'f': \"0.9764364709132013\",\n        }],\n [\"USA and Europe Cooperation in Mini UAVs\",\n{\n            'v': 0.013460031829647393,\n            'f': \"0.013460031829647393\",\n        },\n{\n            'v': 0.013440184603726249,\n            'f': \"0.013440184603726249\",\n        },\n{\n            'v': 0.9730997835666264,\n            'f': \"0.9730997835666264\",\n        }],\n [\"Sustainable Infrastructure for Resilient Urban Environments\",\n{\n            'v': 0.013975445006216966,\n            'f': \"0.013975445006216966\",\n        },\n{\n            'v': 0.014039745493732773,\n            'f': \"0.014039745493732773\",\n        },\n{\n            'v': 0.9719848095000503,\n            'f': \"0.9719848095000503\",\n        }],\n [\"Modelling star formation in the local universe\",\n{\n            'v': 0.019120097499871067,\n            'f': \"0.019120097499871067\",\n        },\n{\n            'v': 0.01747567352614504,\n            'f': \"0.01747567352614504\",\n        },\n{\n            'v': 0.9634042289739839,\n            'f': \"0.9634042289739839\",\n        }],\n [\"Coherent spin manipulation in hybrid nanostructures\",\n{\n            'v': 0.8180453556268796,\n            'f': \"0.8180453556268796\",\n        },\n{\n            'v': 0.01677051777314864,\n            'f': \"0.01677051777314864\",\n        },\n{\n            'v': 0.16518412659997173,\n            'f': \"0.16518412659997173\",\n        }],\n [\"Stochastic Modeling of Spatially Extended Ecosystems and Ecological and Climate Data Analysis\",\n{\n            'v': 0.014920913996582847,\n            'f': \"0.014920913996582847\",\n        },\n{\n            'v': 0.021077326420208625,\n            'f': \"0.021077326420208625\",\n        },\n{\n            'v': 0.9640017595832086,\n            'f': \"0.9640017595832086\",\n        }],\n [\"Secure Multiparty Computation in the von Neumann Architecture\",\n{\n            'v': 0.021199421781890205,\n            'f': \"0.021199421781890205\",\n        },\n{\n            'v': 0.015120894699050813,\n            'f': \"0.015120894699050813\",\n        },\n{\n            'v': 0.9636796835190591,\n            'f': \"0.9636796835190591\",\n        }],\n [\"Infrastructures for Community-Based Data Management\",\n{\n            'v': 0.012455429520058093,\n            'f': \"0.012455429520058093\",\n        },\n{\n            'v': 0.013809392215703214,\n            'f': \"0.013809392215703214\",\n        },\n{\n            'v': 0.9737351782642387,\n            'f': \"0.9737351782642387\",\n        }],\n [\"Reducing Environmental Footprint based on Multi-Modal Fleet management System for Eco-Routing and Driver Behaviour Adaptation\",\n{\n            'v': 0.011913823368815388,\n            'f': \"0.011913823368815388\",\n        },\n{\n            'v': 0.011420693240009027,\n            'f': \"0.011420693240009027\",\n        },\n{\n            'v': 0.9766654833911755,\n            'f': \"0.9766654833911755\",\n        }],\n [\"Action to Support Photonic Innovation Clusters in Europe\",\n{\n            'v': 0.010489183572111191,\n            'f': \"0.010489183572111191\",\n        },\n{\n            'v': 0.012612853009452876,\n            'f': \"0.012612853009452876\",\n        },\n{\n            'v': 0.9768979634184359,\n            'f': \"0.9768979634184359\",\n        }],\n [\"Improving therapy and intervention through imaging\",\n{\n            'v': 0.01240469448391913,\n            'f': \"0.01240469448391913\",\n        },\n{\n            'v': 0.026380413356814642,\n            'f': \"0.026380413356814642\",\n        },\n{\n            'v': 0.9612148921592663,\n            'f': \"0.9612148921592663\",\n        }],\n [\"Design and manufacturing of smart composite panelsfor wing applications and development of structuralhealth monitoring techniques\",\n{\n            'v': 0.022359352436716242,\n            'f': \"0.022359352436716242\",\n        },\n{\n            'v': 0.024549321741843714,\n            'f': \"0.024549321741843714\",\n        },\n{\n            'v': 0.9530913258214401,\n            'f': \"0.9530913258214401\",\n        }],\n [\"Numerical and EXperimental shock conTrol on laminar Wing\",\n{\n            'v': 0.013445329720559122,\n            'f': \"0.013445329720559122\",\n        },\n{\n            'v': 0.014584907308168695,\n            'f': \"0.014584907308168695\",\n        },\n{\n            'v': 0.9719697629712722,\n            'f': \"0.9719697629712722\",\n        }],\n [\"NUtrition and microVAScular dynamics in COGnitive health\",\n{\n            'v': 0.011438100210383944,\n            'f': \"0.011438100210383944\",\n        },\n{\n            'v': 0.9657227701894535,\n            'f': \"0.9657227701894535\",\n        },\n{\n            'v': 0.022839129600162555,\n            'f': \"0.022839129600162555\",\n        }],\n [\"Seismology of Stellar Coronal Oscillations\",\n{\n            'v': 0.03477595200518655,\n            'f': \"0.03477595200518655\",\n        },\n{\n            'v': 0.028128913995151224,\n            'f': \"0.028128913995151224\",\n        },\n{\n            'v': 0.9370951339996623,\n            'f': \"0.9370951339996623\",\n        }],\n [\"Nice but incompetent? The eldery stereotype in Europe\",\n{\n            'v': 0.013996143194641526,\n            'f': \"0.013996143194641526\",\n        },\n{\n            'v': 0.021774967385017004,\n            'f': \"0.021774967385017004\",\n        },\n{\n            'v': 0.9642288894203415,\n            'f': \"0.9642288894203415\",\n        }],\n [\"Discovery and Insight with Advanced Models Of  Nanoscale Dimensions\",\n{\n            'v': 0.013361490339648077,\n            'f': \"0.013361490339648077\",\n        },\n{\n            'v': 0.01671188490604759,\n            'f': \"0.01671188490604759\",\n        },\n{\n            'v': 0.9699266247543044,\n            'f': \"0.9699266247543044\",\n        }],\n [\"Geometry, instability and activity in complex and biological fluids\",\n{\n            'v': 0.02475236850694448,\n            'f': \"0.02475236850694448\",\n        },\n{\n            'v': 0.033574912145030354,\n            'f': \"0.033574912145030354\",\n        },\n{\n            'v': 0.9416727193480251,\n            'f': \"0.9416727193480251\",\n        }],\n [\"The Researchers\\u2019 Night 2011 in the Czech Republic: Science Opens Spaces\",\n{\n            'v': 0.020242939040074612,\n            'f': \"0.020242939040074612\",\n        },\n{\n            'v': 0.018060188290950553,\n            'f': \"0.018060188290950553\",\n        },\n{\n            'v': 0.9616968726689749,\n            'f': \"0.9616968726689749\",\n        }],\n [\"The importance of submarine groundwater discharge for the southwestern Baltic Sea\",\n{\n            'v': 0.10129008360053583,\n            'f': \"0.10129008360053583\",\n        },\n{\n            'v': 0.4262048962114501,\n            'f': \"0.4262048962114501\",\n        },\n{\n            'v': 0.47250502018801416,\n            'f': \"0.47250502018801416\",\n        }],\n [\"DEVELOPMENT AND ENHANCEMENT OF A STEERING FEEL MODEL FOR SUPER LIGHTWEIGHT STEER-BY-WIRE VEHICLES\",\n{\n            'v': 0.018851566614190955,\n            'f': \"0.018851566614190955\",\n        },\n{\n            'v': 0.02531849779315363,\n            'f': \"0.02531849779315363\",\n        },\n{\n            'v': 0.9558299355926555,\n            'f': \"0.9558299355926555\",\n        }],\n [\"International Partnership for Advanced Coatings by Thermal Spraying\",\n{\n            'v': 0.050719224787284904,\n            'f': \"0.050719224787284904\",\n        },\n{\n            'v': 0.050120172520846384,\n            'f': \"0.050120172520846384\",\n        },\n{\n            'v': 0.8991606026918687,\n            'f': \"0.8991606026918687\",\n        }],\n [\"Phosphorus dynamics in low-oxygen marine systems: quantifying the nutrient-climate connection in Earth\\u2019s past, present and future\",\n{\n            'v': 0.012467374186617431,\n            'f': \"0.012467374186617431\",\n        },\n{\n            'v': 0.8517907239856035,\n            'f': \"0.8517907239856035\",\n        },\n{\n            'v': 0.13574190182777915,\n            'f': \"0.13574190182777915\",\n        }],\n [\"Diamond Lasers: Revolutionising Laser Engineering\",\n{\n            'v': 0.0116981303580567,\n            'f': \"0.0116981303580567\",\n        },\n{\n            'v': 0.018849602075226974,\n            'f': \"0.018849602075226974\",\n        },\n{\n            'v': 0.9694522675667163,\n            'f': \"0.9694522675667163\",\n        }],\n [\"Electrochemistry in fluidic nanodevices: From fundamentals to integrated sensor platforms\",\n{\n            'v': 0.03499143067275449,\n            'f': \"0.03499143067275449\",\n        },\n{\n            'v': 0.6058986081594101,\n            'f': \"0.6058986081594101\",\n        },\n{\n            'v': 0.35910996116783545,\n            'f': \"0.35910996116783545\",\n        }],\n [\"Quantitative Graph Games: Theory and Applications\",\n{\n            'v': 0.01026102837545927,\n            'f': \"0.01026102837545927\",\n        },\n{\n            'v': 0.01137319122604558,\n            'f': \"0.01137319122604558\",\n        },\n{\n            'v': 0.9783657803984952,\n            'f': \"0.9783657803984952\",\n        }],\n [\"The Gamma Ray Burst \\u2013 Supernova Connectionand Shock Breakout Physics\",\n{\n            'v': 0.5979574798368538,\n            'f': \"0.5979574798368538\",\n        },\n{\n            'v': 0.019326266645876753,\n            'f': \"0.019326266645876753\",\n        },\n{\n            'v': 0.3827162535172695,\n            'f': \"0.3827162535172695\",\n        }],\n [\"Integrated Ground and on-Board system for Support of the Aircraft Safe Take-off and Landing\",\n{\n            'v': 0.008515439845897109,\n            'f': \"0.008515439845897109\",\n        },\n{\n            'v': 0.008572281147833705,\n            'f': \"0.008572281147833705\",\n        },\n{\n            'v': 0.9829122790062692,\n            'f': \"0.9829122790062692\",\n        }],\n [\"METABOLIC CONTROL OF IMMATURE STROMAL CELL BIOLOGY\",\n{\n            'v': 0.010509660958601681,\n            'f': \"0.010509660958601681\",\n        },\n{\n            'v': 0.9760073244613531,\n            'f': \"0.9760073244613531\",\n        },\n{\n            'v': 0.013483014580045236,\n            'f': \"0.013483014580045236\",\n        }],\n [\"Remote Laser Welding System Navigator for Eco & Resilient Automotive Factories\",\n{\n            'v': 0.010393741337115087,\n            'f': \"0.010393741337115087\",\n        },\n{\n            'v': 0.014825352687046999,\n            'f': \"0.014825352687046999\",\n        },\n{\n            'v': 0.974780905975838,\n            'f': \"0.974780905975838\",\n        }],\n [\"EUropean DATa\",\n{\n            'v': 0.01000457757359813,\n            'f': \"0.01000457757359813\",\n        },\n{\n            'v': 0.01152778039043577,\n            'f': \"0.01152778039043577\",\n        },\n{\n            'v': 0.978467642035966,\n            'f': \"0.978467642035966\",\n        }],\n [\"Multi-Core Execution of Parallelised Hard Real-Time Applications Supporting Analysability\",\n{\n            'v': 0.014961325691641634,\n            'f': \"0.014961325691641634\",\n        },\n{\n            'v': 0.01415178525416303,\n            'f': \"0.01415178525416303\",\n        },\n{\n            'v': 0.9708868890541953,\n            'f': \"0.9708868890541953\",\n        }],\n [\"EU-INdia Fostering COOPeration in Computing Systems\",\n{\n            'v': 0.011894461392366374,\n            'f': \"0.011894461392366374\",\n        },\n{\n            'v': 0.012063004436223258,\n            'f': \"0.012063004436223258\",\n        },\n{\n            'v': 0.9760425341714104,\n            'f': \"0.9760425341714104\",\n        }],\n [\"Trans-Atlantic Research and Education Agenda in System of Systems\",\n{\n            'v': 0.009802243664908115,\n            'f': \"0.009802243664908115\",\n        },\n{\n            'v': 0.010602850739627535,\n            'f': \"0.010602850739627535\",\n        },\n{\n            'v': 0.9795949055954644,\n            'f': \"0.9795949055954644\",\n        }],\n [\"GLObal Robotic telescopes Intelligent Array for e-Science\",\n{\n            'v': 0.011800270932708655,\n            'f': \"0.011800270932708655\",\n        },\n{\n            'v': 0.010721247055731622,\n            'f': \"0.010721247055731622\",\n        },\n{\n            'v': 0.9774784820115597,\n            'f': \"0.9774784820115597\",\n        }],\n [\"A network for supporting the coordination of Supercomputing research between Europe and Latin America\",\n{\n            'v': 0.006815396610888194,\n            'f': \"0.006815396610888194\",\n        },\n{\n            'v': 0.007427092770159796,\n            'f': \"0.007427092770159796\",\n        },\n{\n            'v': 0.985757510618952,\n            'f': \"0.985757510618952\",\n        }],\n [\"Models for Optimising Dynamic Urban Mobility\",\n{\n            'v': 0.0070618385382639716,\n            'f': \"0.0070618385382639716\",\n        },\n{\n            'v': 0.008141424375071007,\n            'f': \"0.008141424375071007\",\n        },\n{\n            'v': 0.984796737086665,\n            'f': \"0.984796737086665\",\n        }],\n [\"The placebo effect \\u2013 a window into the relationship between mind and body\",\n{\n            'v': 0.010137249660880419,\n            'f': \"0.010137249660880419\",\n        },\n{\n            'v': 0.9559031843967284,\n            'f': \"0.9559031843967284\",\n        },\n{\n            'v': 0.03395956594239122,\n            'f': \"0.03395956594239122\",\n        }],\n [\"CloudIX: Cloud-based Indexing and Query Processing\",\n{\n            'v': 0.012239027398215481,\n            'f': \"0.012239027398215481\",\n        },\n{\n            'v': 0.011487650465842632,\n            'f': \"0.011487650465842632\",\n        },\n{\n            'v': 0.9762733221359419,\n            'f': \"0.9762733221359419\",\n        }],\n [\"The genomic basis of emerging fungal pathogenicity\",\n{\n            'v': 0.023872591630789024,\n            'f': \"0.023872591630789024\",\n        },\n{\n            'v': 0.9406655114982152,\n            'f': \"0.9406655114982152\",\n        },\n{\n            'v': 0.03546189687099571,\n            'f': \"0.03546189687099571\",\n        }],\n [\"New Tools for Real-Time Cellular Imaging and Protein Labelling\",\n{\n            'v': 0.020333860106612235,\n            'f': \"0.020333860106612235\",\n        },\n{\n            'v': 0.7474577659723897,\n            'f': \"0.7474577659723897\",\n        },\n{\n            'v': 0.2322083739209982,\n            'f': \"0.2322083739209982\",\n        }],\n [\"The interplay between quantum coherence and environment in the photosynthetic electronic energy transfer and light-harvesting: a quantum chemical picture\",\n{\n            'v': 0.10366318769533077,\n            'f': \"0.10366318769533077\",\n        },\n{\n            'v': 0.07400466970371866,\n            'f': \"0.07400466970371866\",\n        },\n{\n            'v': 0.8223321426009506,\n            'f': \"0.8223321426009506\",\n        }],\n [\"Basic Research in Cryptographic Protocol Theory\",\n{\n            'v': 0.011280731767159295,\n            'f': \"0.011280731767159295\",\n        },\n{\n            'v': 0.011511106606404843,\n            'f': \"0.011511106606404843\",\n        },\n{\n            'v': 0.9772081616264359,\n            'f': \"0.9772081616264359\",\n        }],\n [\"Investigating Functional Dynamics in Proteins by Novel Multidimensional Optical Spectroscopies in the Ultraviolet\",\n{\n            'v': 0.026609887874864492,\n            'f': \"0.026609887874864492\",\n        },\n{\n            'v': 0.1456648123904276,\n            'f': \"0.1456648123904276\",\n        },\n{\n            'v': 0.827725299734708,\n            'f': \"0.827725299734708\",\n        }],\n [\"Towards compressive information processing systems\",\n{\n            'v': 0.014583997607606652,\n            'f': \"0.014583997607606652\",\n        },\n{\n            'v': 0.012499167720461224,\n            'f': \"0.012499167720461224\",\n        },\n{\n            'v': 0.9729168346719321,\n            'f': \"0.9729168346719321\",\n        }],\n [\"Ensemble based advanced quantum light matter interfaces\",\n{\n            'v': 0.9475887629607628,\n            'f': \"0.9475887629607628\",\n        },\n{\n            'v': 0.014949002117642187,\n            'f': \"0.014949002117642187\",\n        },\n{\n            'v': 0.03746223492159513,\n            'f': \"0.03746223492159513\",\n        }],\n [\"Smart Intelligent Aircraft Structures\",\n{\n            'v': 0.012229385076114067,\n            'f': \"0.012229385076114067\",\n        },\n{\n            'v': 0.015124229345641243,\n            'f': \"0.015124229345641243\",\n        },\n{\n            'v': 0.9726463855782447,\n            'f': \"0.9726463855782447\",\n        }],\n [\"The innovative use of virtual and mixed reality to increase human comfort by changing the perception of self and space\",\n{\n            'v': 0.012188875910675639,\n            'f': \"0.012188875910675639\",\n        },\n{\n            'v': 0.013096558663959071,\n            'f': \"0.013096558663959071\",\n        },\n{\n            'v': 0.9747145654253653,\n            'f': \"0.9747145654253653\",\n        }],\n [\"VIRTUAL HEART MODELS: MULTI-PHYSICS APPROACHES TO COMPUTATIONAL CARDIOLOGY\",\n{\n            'v': 0.012997380392068963,\n            'f': \"0.012997380392068963\",\n        },\n{\n            'v': 0.9522939230107303,\n            'f': \"0.9522939230107303\",\n        },\n{\n            'v': 0.03470869659720059,\n            'f': \"0.03470869659720059\",\n        }],\n [\"Virtual Centre of Excellence for Ethically-guided and Privacy-respecting Video Analytics\",\n{\n            'v': 0.014168637370420754,\n            'f': \"0.014168637370420754\",\n        },\n{\n            'v': 0.014471692701165443,\n            'f': \"0.014471692701165443\",\n        },\n{\n            'v': 0.9713596699284137,\n            'f': \"0.9713596699284137\",\n        }],\n [\"PLANT AND FOOD BIOSECURITY\",\n{\n            'v': 0.009891969375805793,\n            'f': \"0.009891969375805793\",\n        },\n{\n            'v': 0.9674744268212754,\n            'f': \"0.9674744268212754\",\n        },\n{\n            'v': 0.022633603802918685,\n            'f': \"0.022633603802918685\",\n        }],\n [\"Creation of a distributed European Magnetic Field Laboratory\",\n{\n            'v': 0.022237589769347546,\n            'f': \"0.022237589769347546\",\n        },\n{\n            'v': 0.02159888109737572,\n            'f': \"0.02159888109737572\",\n        },\n{\n            'v': 0.9561635291332767,\n            'f': \"0.9561635291332767\",\n        }],\n [\"TOWARDS A JOINT EUROPEAN RESEARCH INFRASTRUCTURE NETWORK FOR COASTAL OBSERVATORIES\",\n{\n            'v': 0.008760680997040575,\n            'f': \"0.008760680997040575\",\n        },\n{\n            'v': 0.010390210992481688,\n            'f': \"0.010390210992481688\",\n        },\n{\n            'v': 0.9808491080104776,\n            'f': \"0.9808491080104776\",\n        }],\n [\"Data without Boundaries\",\n{\n            'v': 0.011760848590352303,\n            'f': \"0.011760848590352303\",\n        },\n{\n            'v': 0.010840899408499641,\n            'f': \"0.010840899408499641\",\n        },\n{\n            'v': 0.977398252001148,\n            'f': \"0.977398252001148\",\n        }],\n [\"The association between type 2 diabetes diagnosis and diabetes medications with risk of cancer\",\n{\n            'v': 0.011621477809924353,\n            'f': \"0.011621477809924353\",\n        },\n{\n            'v': 0.08028460223419974,\n            'f': \"0.08028460223419974\",\n        },\n{\n            'v': 0.9080939199558759,\n            'f': \"0.9080939199558759\",\n        }],\n [\"Oxysterols and IL-27-induced Type 1 regulatory T cells in Experimental Autoimmune Encephalomyelitis\",\n{\n            'v': 0.011532909271362008,\n            'f': \"0.011532909271362008\",\n        },\n{\n            'v': 0.9729206304922947,\n            'f': \"0.9729206304922947\",\n        },\n{\n            'v': 0.015546460236343365,\n            'f': \"0.015546460236343365\",\n        }],\n [\"Mechanisms of Inflammation Resolution: Role of miRNAs\",\n{\n            'v': 0.009519344976242823,\n            'f': \"0.009519344976242823\",\n        },\n{\n            'v': 0.9773120450807243,\n            'f': \"0.9773120450807243\",\n        },\n{\n            'v': 0.013168609943032853,\n            'f': \"0.013168609943032853\",\n        }],\n [\"Common assessment and analysis of risk in global supply chains\",\n{\n            'v': 0.009015401508165656,\n            'f': \"0.009015401508165656\",\n        },\n{\n            'v': 0.010296667120815013,\n            'f': \"0.010296667120815013\",\n        },\n{\n            'v': 0.9806879313710194,\n            'f': \"0.9806879313710194\",\n        }],\n [\"Socialism and leftist Catholicism in France and Italy (1956-1972)\",\n{\n            'v': 0.018082205096524993,\n            'f': \"0.018082205096524993\",\n        },\n{\n            'v': 0.017161062875701346,\n            'f': \"0.017161062875701346\",\n        },\n{\n            'v': 0.9647567320277737,\n            'f': \"0.9647567320277737\",\n        }],\n [\"Multi-scale biomechanical modelling and simulation of the intervertebral disc\",\n{\n            'v': 0.015885940101450086,\n            'f': \"0.015885940101450086\",\n        },\n{\n            'v': 0.8462789717221758,\n            'f': \"0.8462789717221758\",\n        },\n{\n            'v': 0.13783508817637422,\n            'f': \"0.13783508817637422\",\n        }],\n [\"STRUCTURE AND DYNAMICS OF PORPHYRIN-BASED MATERIALS IN SOLUTION vs. INTERFACES\",\n{\n            'v': 0.013678225739097681,\n            'f': \"0.013678225739097681\",\n        },\n{\n            'v': 0.5655179958158211,\n            'f': \"0.5655179958158211\",\n        },\n{\n            'v': 0.4208037784450812,\n            'f': \"0.4208037784450812\",\n        }],\n [\"Tailoring Mixed-Metal Chemistry for Frontier Synthetic and Catalytic Applications\",\n{\n            'v': 0.022167006823964004,\n            'f': \"0.022167006823964004\",\n        },\n{\n            'v': 0.02175961674363124,\n            'f': \"0.02175961674363124\",\n        },\n{\n            'v': 0.9560733764324048,\n            'f': \"0.9560733764324048\",\n        }],\n [\"Make it simple: towards a new era for organic synthesis\",\n{\n            'v': 0.0158922152704962,\n            'f': \"0.0158922152704962\",\n        },\n{\n            'v': 0.019607959871055538,\n            'f': \"0.019607959871055538\",\n        },\n{\n            'v': 0.9644998248584483,\n            'f': \"0.9644998248584483\",\n        }],\n [\"Fundamental Physics at the Low Background Frontier\",\n{\n            'v': 0.8350407469577384,\n            'f': \"0.8350407469577384\",\n        },\n{\n            'v': 0.014131439246282393,\n            'f': \"0.014131439246282393\",\n        },\n{\n            'v': 0.15082781379597907,\n            'f': \"0.15082781379597907\",\n        }],\n [\"Advanced Immunization Technologies\",\n{\n            'v': 0.013222669135747588,\n            'f': \"0.013222669135747588\",\n        },\n{\n            'v': 0.031103674901938376,\n            'f': \"0.031103674901938376\",\n        },\n{\n            'v': 0.955673655962314,\n            'f': \"0.955673655962314\",\n        }],\n [\"A Treatment-Oriented Research Project of NCL Disorders as a Major Cause of Dementia in Childhood\",\n{\n            'v': 0.011571141680433671,\n            'f': \"0.011571141680433671\",\n        },\n{\n            'v': 0.9074786709335554,\n            'f': \"0.9074786709335554\",\n        },\n{\n            'v': 0.08095018738601101,\n            'f': \"0.08095018738601101\",\n        }],\n [\"Resistance in Gram-Negative Organisms: Studying Intervention Strategies\",\n{\n            'v': 0.010802396701328225,\n            'f': \"0.010802396701328225\",\n        },\n{\n            'v': 0.9552077011562741,\n            'f': \"0.9552077011562741\",\n        },\n{\n            'v': 0.03398990214239758,\n            'f': \"0.03398990214239758\",\n        }],\n [\"Discovery Festival\",\n{\n            'v': 0.05131927143329588,\n            'f': \"0.05131927143329588\",\n        },\n{\n            'v': 0.0362925355431303,\n            'f': \"0.0362925355431303\",\n        },\n{\n            'v': 0.9123881930235739,\n            'f': \"0.9123881930235739\",\n        }],\n [\"Monolithic Integrated Antennas\",\n{\n            'v': 0.8148766981489034,\n            'f': \"0.8148766981489034\",\n        },\n{\n            'v': 0.015186199893763316,\n            'f': \"0.015186199893763316\",\n        },\n{\n            'v': 0.16993710195733328,\n            'f': \"0.16993710195733328\",\n        }],\n [\"The effect of a sedentary lifestyle on type 2 diabetes and its complications\",\n{\n            'v': 0.01249841480260235,\n            'f': \"0.01249841480260235\",\n        },\n{\n            'v': 0.01609305170023974,\n            'f': \"0.01609305170023974\",\n        },\n{\n            'v': 0.9714085334971579,\n            'f': \"0.9714085334971579\",\n        }],\n [\"Embodied Cognitive Models for Fluent Human-Robot Interaction\",\n{\n            'v': 0.015407205314126178,\n            'f': \"0.015407205314126178\",\n        },\n{\n            'v': 0.027217754617808104,\n            'f': \"0.027217754617808104\",\n        },\n{\n            'v': 0.9573750400680657,\n            'f': \"0.9573750400680657\",\n        }],\n [\"Heuristics and Biases in Debt Managment\",\n{\n            'v': 0.014118913717923856,\n            'f': \"0.014118913717923856\",\n        },\n{\n            'v': 0.01708106827708465,\n            'f': \"0.01708106827708465\",\n        },\n{\n            'v': 0.9688000180049915,\n            'f': \"0.9688000180049915\",\n        }],\n [\"Neural Circuits Underlying Visually Guided Behaviour\",\n{\n            'v': 0.7129224136636346,\n            'f': \"0.7129224136636346\",\n        },\n{\n            'v': 0.11285852911778715,\n            'f': \"0.11285852911778715\",\n        },\n{\n            'v': 0.17421905721857828,\n            'f': \"0.17421905721857828\",\n        }],\n [\"Mont-Blanc, European scalable and power efficient HPC platform based on low-power embedded technology\",\n{\n            'v': 0.01439268946385034,\n            'f': \"0.01439268946385034\",\n        },\n{\n            'v': 0.012594776619707263,\n            'f': \"0.012594776619707263\",\n        },\n{\n            'v': 0.9730125339164424,\n            'f': \"0.9730125339164424\",\n        }],\n [\"Collaborative Research into Exascale Systemware, Tools and Applications\",\n{\n            'v': 0.010588062538875152,\n            'f': \"0.010588062538875152\",\n        },\n{\n            'v': 0.011400702424283541,\n            'f': \"0.011400702424283541\",\n        },\n{\n            'v': 0.9780112350368413,\n            'f': \"0.9780112350368413\",\n        }],\n [\"Virtual Enterprises by Networked Interoperability Services\",\n{\n            'v': 0.009781289192172126,\n            'f': \"0.009781289192172126\",\n        },\n{\n            'v': 0.009179636892086127,\n            'f': \"0.009179636892086127\",\n        },\n{\n            'v': 0.9810390739157416,\n            'f': \"0.9810390739157416\",\n        }],\n [\"2nd-Generation Open Access Infrastructure for Research in Europe\",\n{\n            'v': 0.012136736028537596,\n            'f': \"0.012136736028537596\",\n        },\n{\n            'v': 0.011590393134048882,\n            'f': \"0.011590393134048882\",\n        },\n{\n            'v': 0.9762728708374135,\n            'f': \"0.9762728708374135\",\n        }],\n [\"Manufacturing SErvice Ecosystem\",\n{\n            'v': 0.011913266908367033,\n            'f': \"0.011913266908367033\",\n        },\n{\n            'v': 0.01177385471791185,\n            'f': \"0.01177385471791185\",\n        },\n{\n            'v': 0.976312878373721,\n            'f': \"0.976312878373721\",\n        }],\n [\"Comprehensive European Approach to the Protection of Civil Aviation\",\n{\n            'v': 0.010561150148616485,\n            'f': \"0.010561150148616485\",\n        },\n{\n            'v': 0.012787054655294663,\n            'f': \"0.012787054655294663\",\n        },\n{\n            'v': 0.9766517951960889,\n            'f': \"0.9766517951960889\",\n        }],\n [\"Development of Rad Hard non volatile Flash memories for space applications\",\n{\n            'v': 0.023264280573046317,\n            'f': \"0.023264280573046317\",\n        },\n{\n            'v': 0.6873235739313912,\n            'f': \"0.6873235739313912\",\n        },\n{\n            'v': 0.28941214549556243,\n            'f': \"0.28941214549556243\",\n        }],\n [\"Supporting decentralised management to improve health workforce performance in Ghana, Uganda and Tanzania\",\n{\n            'v': 0.024542527227281476,\n            'f': \"0.024542527227281476\",\n        },\n{\n            'v': 0.03229596179591557,\n            'f': \"0.03229596179591557\",\n        },\n{\n            'v': 0.9431615109768029,\n            'f': \"0.9431615109768029\",\n        }],\n [\"WORDS: Asymmetry, change and processing in phonological mental representation\",\n{\n            'v': 0.02630300804719287,\n            'f': \"0.02630300804719287\",\n        },\n{\n            'v': 0.06986345703311614,\n            'f': \"0.06986345703311614\",\n        },\n{\n            'v': 0.903833534919691,\n            'f': \"0.903833534919691\",\n        }],\n [\"Thyroid hormone and development of cardiomyocytes derived from human embryonic and induced pluripotent stem cells\",\n{\n            'v': 0.010687577178852733,\n            'f': \"0.010687577178852733\",\n        },\n{\n            'v': 0.9647630874185742,\n            'f': \"0.9647630874185742\",\n        },\n{\n            'v': 0.024549335402572984,\n            'f': \"0.024549335402572984\",\n        }],\n [\"Predicting Properties of Large Heterogeneous Systems with Optimally-Tuned Range-Separated Hybrid Functionals\",\n{\n            'v': 0.01857214484041256,\n            'f': \"0.01857214484041256\",\n        },\n{\n            'v': 0.020715426713758558,\n            'f': \"0.020715426713758558\",\n        },\n{\n            'v': 0.9607124284458289,\n            'f': \"0.9607124284458289\",\n        }],\n [\"REsearch into POlicy to enhance Physical Activity\",\n{\n            'v': 0.009490865206553074,\n            'f': \"0.009490865206553074\",\n        },\n{\n            'v': 0.015227826526082016,\n            'f': \"0.015227826526082016\",\n        },\n{\n            'v': 0.975281308267365,\n            'f': \"0.975281308267365\",\n        }],\n [\"Evolution and Transfer of Antibiotic Resistance\",\n{\n            'v': 0.012037671875298398,\n            'f': \"0.012037671875298398\",\n        },\n{\n            'v': 0.9637853406126016,\n            'f': \"0.9637853406126016\",\n        },\n{\n            'v': 0.024176987512100002,\n            'f': \"0.024176987512100002\",\n        }],\n [\"The 2050+ Airport\",\n{\n            'v': 0.010607815713133493,\n            'f': \"0.010607815713133493\",\n        },\n{\n            'v': 0.011004910226121765,\n            'f': \"0.011004910226121765\",\n        },\n{\n            'v': 0.9783872740607449,\n            'f': \"0.9783872740607449\",\n        }],\n [\"DEMONSTRATION INSTALLATION OF A LEGIONELLA PREVENTIVE BACTERICIDE WATER FILTRATION FOR LARGE PUBLIC AND INDUSTRIAL FACILITIES\",\n{\n            'v': 0.015146058921536337,\n            'f': \"0.015146058921536337\",\n        },\n{\n            'v': 0.9557740758248082,\n            'f': \"0.9557740758248082\",\n        },\n{\n            'v': 0.029079865253655583,\n            'f': \"0.029079865253655583\",\n        }],\n [\"Fruitful Instability: The Cultural Logic of Creative Practice in Israeli High-Technology Start-Ups\",\n{\n            'v': 0.020315655676598366,\n            'f': \"0.020315655676598366\",\n        },\n{\n            'v': 0.02834130893240484,\n            'f': \"0.02834130893240484\",\n        },\n{\n            'v': 0.9513430353909967,\n            'f': \"0.9513430353909967\",\n        }],\n [\"Nanoparticle - Cell Interactions, a Pathway for Understanding Nanotoxicity:  from a Model System to in-vitro System\",\n{\n            'v': 0.013166381426035607,\n            'f': \"0.013166381426035607\",\n        },\n{\n            'v': 0.9149697513341819,\n            'f': \"0.9149697513341819\",\n        },\n{\n            'v': 0.07186386723978239,\n            'f': \"0.07186386723978239\",\n        }],\n [\"Protecting biodiversity in the face of climate change\",\n{\n            'v': 0.015120363877800592,\n            'f': \"0.015120363877800592\",\n        },\n{\n            'v': 0.05807258502866754,\n            'f': \"0.05807258502866754\",\n        },\n{\n            'v': 0.9268070510935319,\n            'f': \"0.9268070510935319\",\n        }],\n [\"NUCLEOLAR-DEPENDENT SECRETION OF MICRORNA IN A MODEL OF DOXORUBICIN AND TRASTUZUMAB CARDIOMYOPATHY\",\n{\n            'v': 0.011210542434364212,\n            'f': \"0.011210542434364212\",\n        },\n{\n            'v': 0.9755465205289797,\n            'f': \"0.9755465205289797\",\n        },\n{\n            'v': 0.01324293703665617,\n            'f': \"0.01324293703665617\",\n        }],\n [\"Technology & Design Kits for Printed-Electronics\",\n{\n            'v': 0.012235319174120067,\n            'f': \"0.012235319174120067\",\n        },\n{\n            'v': 0.016473563790928316,\n            'f': \"0.016473563790928316\",\n        },\n{\n            'v': 0.9712911170349516,\n            'f': \"0.9712911170349516\",\n        }],\n [\"Comprehensive Modelling for Advanced Systems of Systems\",\n{\n            'v': 0.010026122745634218,\n            'f': \"0.010026122745634218\",\n        },\n{\n            'v': 0.011974523040101716,\n            'f': \"0.011974523040101716\",\n        },\n{\n            'v': 0.977999354214264,\n            'f': \"0.977999354214264\",\n        }],\n [\"The Environmental Observation Web and its Service Applications within the Future Internet\",\n{\n            'v': 0.012156501708898128,\n            'f': \"0.012156501708898128\",\n        },\n{\n            'v': 0.012278790241905266,\n            'f': \"0.012278790241905266\",\n        },\n{\n            'v': 0.9755647080491966,\n            'f': \"0.9755647080491966\",\n        }],\n [\"Future INternet for Smart ENergY\",\n{\n            'v': 0.008932522222280106,\n            'f': \"0.008932522222280106\",\n        },\n{\n            'v': 0.011303756128892251,\n            'f': \"0.011303756128892251\",\n        },\n{\n            'v': 0.9797637216488277,\n            'f': \"0.9797637216488277\",\n        }],\n [\"Smart Food and Agribusiness: Future Internet for Safe and Healthy Food from Farm to Fork\",\n{\n            'v': 0.010896034099939805,\n            'f': \"0.010896034099939805\",\n        },\n{\n            'v': 0.010978558758529943,\n            'f': \"0.010978558758529943\",\n        },\n{\n            'v': 0.9781254071415303,\n            'f': \"0.9781254071415303\",\n        }],\n [\"Instant Mobility for Passengers and Goods\",\n{\n            'v': 0.016250348617564213,\n            'f': \"0.016250348617564213\",\n        },\n{\n            'v': 0.01636234404457741,\n            'f': \"0.01636234404457741\",\n        },\n{\n            'v': 0.9673873073378584,\n            'f': \"0.9673873073378584\",\n        }],\n [\"Provisioning of urban/regional smart services and business models enabled by the Future Internet\",\n{\n            'v': 0.009055057041408639,\n            'f': \"0.009055057041408639\",\n        },\n{\n            'v': 0.008969094487987434,\n            'f': \"0.008969094487987434\",\n        },\n{\n            'v': 0.9819758484706039,\n            'f': \"0.9819758484706039\",\n        }]],\n        columns: [[\"string\", \"index\"], [\"number\", \"topic0\"], [\"number\", \"topic1\"], [\"number\", \"topic2\"]],\n        columnOptions: [{\"width\": \"1px\", \"className\": \"index_column\"}],\n        rowsPerPage: 10,\n        helpUrl: \"https://colab.research.google.com/notebooks/data_table.ipynb\",\n        suppressOutputScrolling: true,\n        minimumWidth: undefined,\n      });\n    ",
            "text/plain": [
              "<google.colab.data_table.DataTable object>"
            ]
          },
          "metadata": {},
          "execution_count": 15
        }
      ]
    },
    {
      "cell_type": "markdown",
      "metadata": {
        "id": "1ErZIstoo9fz"
      },
      "source": [
        "### Topic-Word Matrix"
      ]
    },
    {
      "cell_type": "code",
      "metadata": {
        "id": "LHw3jrtCo_Qn",
        "colab": {
          "base_uri": "https://localhost:8080/",
          "height": 173
        },
        "outputId": "134810e8-e9fd-4054-96ef-bea700e84305"
      },
      "source": [
        "# Topic-Keyword Matrix\n",
        "df_topic_keywords = pd.DataFrame(lda.components_ / lda.components_.sum(axis=1)[:, np.newaxis])\n",
        "\n",
        "# Assign Column and Index\n",
        "df_topic_keywords.columns = dictionary\n",
        "df_topic_keywords.index = topicnames\n",
        "\n",
        "# View\n",
        "data_table.DataTable(df_topic_keywords, num_rows_per_page=10)\n",
        "#df_topic_keywords.head()"
      ],
      "execution_count": 16,
      "outputs": [
        {
          "output_type": "stream",
          "name": "stdout",
          "text": [
            "Warning: Total number of columns (2424) exceeds max_columns (20) limiting to first (20) columns.\n"
          ]
        },
        {
          "output_type": "execute_result",
          "data": {
            "text/html": [
              "<div>\n",
              "<style scoped>\n",
              "    .dataframe tbody tr th:only-of-type {\n",
              "        vertical-align: middle;\n",
              "    }\n",
              "\n",
              "    .dataframe tbody tr th {\n",
              "        vertical-align: top;\n",
              "    }\n",
              "\n",
              "    .dataframe thead th {\n",
              "        text-align: right;\n",
              "    }\n",
              "</style>\n",
              "<table border=\"1\" class=\"dataframe\">\n",
              "  <thead>\n",
              "    <tr style=\"text-align: right;\">\n",
              "      <th></th>\n",
              "      <th>1mbit</th>\n",
              "      <th>2011</th>\n",
              "      <th>2nd</th>\n",
              "      <th>ability</th>\n",
              "      <th>ablation</th>\n",
              "      <th>absorb</th>\n",
              "      <th>absorption</th>\n",
              "      <th>abstraction</th>\n",
              "      <th>academia</th>\n",
              "      <th>acare</th>\n",
              "      <th>...</th>\n",
              "      <th>workshops</th>\n",
              "      <th>workstation</th>\n",
              "      <th>world</th>\n",
              "      <th>write</th>\n",
              "      <th>www</th>\n",
              "      <th>year</th>\n",
              "      <th>yes</th>\n",
              "      <th>yield</th>\n",
              "      <th>zebrafish</th>\n",
              "      <th>zone</th>\n",
              "    </tr>\n",
              "  </thead>\n",
              "  <tbody>\n",
              "    <tr>\n",
              "      <th>topic0</th>\n",
              "      <td>0.000339</td>\n",
              "      <td>0.000335</td>\n",
              "      <td>0.000337</td>\n",
              "      <td>0.000658</td>\n",
              "      <td>0.000621</td>\n",
              "      <td>0.000368</td>\n",
              "      <td>0.000365</td>\n",
              "      <td>0.000336</td>\n",
              "      <td>0.000340</td>\n",
              "      <td>0.000336</td>\n",
              "      <td>...</td>\n",
              "      <td>0.000334</td>\n",
              "      <td>0.000339</td>\n",
              "      <td>0.000353</td>\n",
              "      <td>0.000339</td>\n",
              "      <td>0.000338</td>\n",
              "      <td>0.000348</td>\n",
              "      <td>0.000337</td>\n",
              "      <td>0.000340</td>\n",
              "      <td>0.001549</td>\n",
              "      <td>0.000357</td>\n",
              "    </tr>\n",
              "    <tr>\n",
              "      <th>topic1</th>\n",
              "      <td>0.000407</td>\n",
              "      <td>0.000222</td>\n",
              "      <td>0.000221</td>\n",
              "      <td>0.000755</td>\n",
              "      <td>0.000230</td>\n",
              "      <td>0.000234</td>\n",
              "      <td>0.000245</td>\n",
              "      <td>0.000223</td>\n",
              "      <td>0.000226</td>\n",
              "      <td>0.000226</td>\n",
              "      <td>...</td>\n",
              "      <td>0.000221</td>\n",
              "      <td>0.000224</td>\n",
              "      <td>0.000606</td>\n",
              "      <td>0.000223</td>\n",
              "      <td>0.000223</td>\n",
              "      <td>0.000757</td>\n",
              "      <td>0.000221</td>\n",
              "      <td>0.000224</td>\n",
              "      <td>0.000237</td>\n",
              "      <td>0.000455</td>\n",
              "    </tr>\n",
              "    <tr>\n",
              "      <th>topic2</th>\n",
              "      <td>0.000104</td>\n",
              "      <td>0.000184</td>\n",
              "      <td>0.000185</td>\n",
              "      <td>0.000499</td>\n",
              "      <td>0.000099</td>\n",
              "      <td>0.000170</td>\n",
              "      <td>0.000259</td>\n",
              "      <td>0.000276</td>\n",
              "      <td>0.000364</td>\n",
              "      <td>0.000275</td>\n",
              "      <td>...</td>\n",
              "      <td>0.000185</td>\n",
              "      <td>0.000275</td>\n",
              "      <td>0.001018</td>\n",
              "      <td>0.000183</td>\n",
              "      <td>0.000184</td>\n",
              "      <td>0.001410</td>\n",
              "      <td>0.000184</td>\n",
              "      <td>0.000274</td>\n",
              "      <td>0.000102</td>\n",
              "      <td>0.000351</td>\n",
              "    </tr>\n",
              "  </tbody>\n",
              "</table>\n",
              "<p>3 rows × 2424 columns</p>\n",
              "</div>"
            ],
            "application/vnd.google.colaboratory.module+javascript": "\n      import \"https://ssl.gstatic.com/colaboratory/data_table/99dac6621f6ae8c4/data_table.js\";\n\n      window.createDataTable({\n        data: [[\"topic0\",\n{\n            'v': 0.00033916478678543827,\n            'f': \"0.00033916478678543827\",\n        },\n{\n            'v': 0.0003347008507047082,\n            'f': \"0.0003347008507047082\",\n        },\n{\n            'v': 0.00033738707704658875,\n            'f': \"0.00033738707704658875\",\n        },\n{\n            'v': 0.0006581998674355721,\n            'f': \"0.0006581998674355721\",\n        },\n{\n            'v': 0.000620613640060553,\n            'f': \"0.000620613640060553\",\n        },\n{\n            'v': 0.0003683488903262071,\n            'f': \"0.0003683488903262071\",\n        },\n{\n            'v': 0.0003654272721451598,\n            'f': \"0.0003654272721451598\",\n        },\n{\n            'v': 0.00033641744374359454,\n            'f': \"0.00033641744374359454\",\n        },\n{\n            'v': 0.0003396156046179627,\n            'f': \"0.0003396156046179627\",\n        },\n{\n            'v': 0.0003358197413832789,\n            'f': \"0.0003358197413832789\",\n        },\n{\n            'v': 0.00034395636795876976,\n            'f': \"0.00034395636795876976\",\n        },\n{\n            'v': 0.00033520105775954533,\n            'f': \"0.00033520105775954533\",\n        },\n{\n            'v': 0.000333997979940536,\n            'f': \"0.000333997979940536\",\n        },\n{\n            'v': 0.0003361029756322992,\n            'f': \"0.0003361029756322992\",\n        },\n{\n            'v': 0.0003398505080670189,\n            'f': \"0.0003398505080670189\",\n        },\n{\n            'v': 0.0003536858760880933,\n            'f': \"0.0003536858760880933\",\n        },\n{\n            'v': 0.00033523055335464336,\n            'f': \"0.00033523055335464336\",\n        },\n{\n            'v': 0.00033843180907130636,\n            'f': \"0.00033843180907130636\",\n        },\n{\n            'v': 0.0003512500432758878,\n            'f': \"0.0003512500432758878\",\n        },\n{\n            'v': 0.0003317534148706721,\n            'f': \"0.0003317534148706721\",\n        }],\n [\"topic1\",\n{\n            'v': 0.0004073318591378335,\n            'f': \"0.0004073318591378335\",\n        },\n{\n            'v': 0.0002216969006689264,\n            'f': \"0.0002216969006689264\",\n        },\n{\n            'v': 0.00022054425862807648,\n            'f': \"0.00022054425862807648\",\n        },\n{\n            'v': 0.0007546969654197413,\n            'f': \"0.0007546969654197413\",\n        },\n{\n            'v': 0.00022968201523067297,\n            'f': \"0.00022968201523067297\",\n        },\n{\n            'v': 0.00023367024034390933,\n            'f': \"0.00023367024034390933\",\n        },\n{\n            'v': 0.0002454654883206174,\n            'f': \"0.0002454654883206174\",\n        },\n{\n            'v': 0.00022286012665210023,\n            'f': \"0.00022286012665210023\",\n        },\n{\n            'v': 0.00022621673585662407,\n            'f': \"0.00022621673585662407\",\n        },\n{\n            'v': 0.00022577334657352923,\n            'f': \"0.00022577334657352923\",\n        },\n{\n            'v': 0.0004348940252151339,\n            'f': \"0.0004348940252151339\",\n        },\n{\n            'v': 0.00022342496200982868,\n            'f': \"0.00022342496200982868\",\n        },\n{\n            'v': 0.0002244636768645732,\n            'f': \"0.0002244636768645732\",\n        },\n{\n            'v': 0.00023891689256452106,\n            'f': \"0.00023891689256452106\",\n        },\n{\n            'v': 0.00022499066505095774,\n            'f': \"0.00022499066505095774\",\n        },\n{\n            'v': 0.0002480229231722749,\n            'f': \"0.0002480229231722749\",\n        },\n{\n            'v': 0.0002230008001626208,\n            'f': \"0.0002230008001626208\",\n        },\n{\n            'v': 0.00022295541072962717,\n            'f': \"0.00022295541072962717\",\n        },\n{\n            'v': 0.0004411615001799539,\n            'f': \"0.0004411615001799539\",\n        },\n{\n            'v': 0.00022152964336816813,\n            'f': \"0.00022152964336816813\",\n        }],\n [\"topic2\",\n{\n            'v': 0.00010360581586439638,\n            'f': \"0.00010360581586439638\",\n        },\n{\n            'v': 0.00018411469982352192,\n            'f': \"0.00018411469982352192\",\n        },\n{\n            'v': 0.00018548764389185546,\n            'f': \"0.00018548764389185546\",\n        },\n{\n            'v': 0.0004994431950851657,\n            'f': \"0.0004994431950851657\",\n        },\n{\n            'v': 9.872718474591294e-05,\n            'f': \"9.872718474591294e-05\",\n        },\n{\n            'v': 0.00017043754370777003,\n            'f': \"0.00017043754370777003\",\n        },\n{\n            'v': 0.00025882546285959876,\n            'f': \"0.00025882546285959876\",\n        },\n{\n            'v': 0.0002756559405706194,\n            'f': \"0.0002756559405706194\",\n        },\n{\n            'v': 0.00036401986353759607,\n            'f': \"0.00036401986353759607\",\n        },\n{\n            'v': 0.0002750988682416252,\n            'f': \"0.0002750988682416252\",\n        },\n{\n            'v': 0.00018191069915029004,\n            'f': \"0.00018191069915029004\",\n        },\n{\n            'v': 0.00018445053736792428,\n            'f': \"0.00018445053736792428\",\n        },\n{\n            'v': 0.00018361122905261696,\n            'f': \"0.00018361122905261696\",\n        },\n{\n            'v': 0.0002683190467787909,\n            'f': \"0.0002683190467787909\",\n        },\n{\n            'v': 0.00018296293902772068,\n            'f': \"0.00018296293902772068\",\n        },\n{\n            'v': 0.00244991980684829,\n            'f': \"0.00244991980684829\",\n        },\n{\n            'v': 0.00018493769848655178,\n            'f': \"0.00018493769848655178\",\n        },\n{\n            'v': 0.000275082055475983,\n            'f': \"0.000275082055475983\",\n        },\n{\n            'v': 0.0003586840306220914,\n            'f': \"0.0003586840306220914\",\n        },\n{\n            'v': 0.0001841322261033677,\n            'f': \"0.0001841322261033677\",\n        }]],\n        columns: [[\"string\", \"index\"], [\"number\", \"1mbit\"], [\"number\", \"2011\"], [\"number\", \"2nd\"], [\"number\", \"ability\"], [\"number\", \"ablation\"], [\"number\", \"absorb\"], [\"number\", \"absorption\"], [\"number\", \"abstraction\"], [\"number\", \"academia\"], [\"number\", \"acare\"], [\"number\", \"accelerate\"], [\"number\", \"accelerometer\"], [\"number\", \"accept\"], [\"number\", \"acceptability\"], [\"number\", \"acceptance\"], [\"number\", \"access\"], [\"number\", \"accommodate\"], [\"number\", \"accord\"], [\"number\", \"account\"], [\"number\", \"accreditation\"]],\n        columnOptions: [{\"width\": \"1px\", \"className\": \"index_column\"}],\n        rowsPerPage: 10,\n        helpUrl: \"https://colab.research.google.com/notebooks/data_table.ipynb\",\n        suppressOutputScrolling: true,\n        minimumWidth: undefined,\n      });\n    ",
            "text/plain": [
              "<google.colab.data_table.DataTable object>"
            ]
          },
          "metadata": {},
          "execution_count": 16
        }
      ]
    },
    {
      "cell_type": "markdown",
      "metadata": {
        "id": "FJJrdIJcse74"
      },
      "source": [
        "### Top10 Words per Topic"
      ]
    },
    {
      "cell_type": "code",
      "metadata": {
        "id": "Dal95LEbshti",
        "colab": {
          "base_uri": "https://localhost:8080/",
          "height": 154
        },
        "outputId": "54397307-8be5-433a-f582-4ae4caf7a76d"
      },
      "source": [
        "def show_topics(vectorizer=tf_vectorizer, lda_model=lda, n_words=20):\n",
        "    keywords = np.array(vectorizer.get_feature_names_out())\n",
        "    topic_keywords = []\n",
        "    for topic_weights in lda_model.components_:\n",
        "        top_keyword_locs = (-topic_weights).argsort()[:n_words]\n",
        "        topic_keywords.append(keywords.take(top_keyword_locs))\n",
        "    return topic_keywords\n",
        "topic_keywords = show_topics(vectorizer=tf_vectorizer, lda_model=lda, n_words=10)\n",
        "\n",
        "# Topic - Keywords Dataframe\n",
        "df_topic_keywords = pd.DataFrame(topic_keywords)\n",
        "df_topic_keywords.columns = ['Word '+str(i) for i in range(df_topic_keywords.shape[1])]\n",
        "df_topic_keywords.index = ['Topic '+str(i) for i in range(df_topic_keywords.shape[0])]\n",
        "data_table.DataTable(df_topic_keywords, num_rows_per_page=10)"
      ],
      "execution_count": 18,
      "outputs": [
        {
          "output_type": "execute_result",
          "data": {
            "text/html": [
              "<div>\n",
              "<style scoped>\n",
              "    .dataframe tbody tr th:only-of-type {\n",
              "        vertical-align: middle;\n",
              "    }\n",
              "\n",
              "    .dataframe tbody tr th {\n",
              "        vertical-align: top;\n",
              "    }\n",
              "\n",
              "    .dataframe thead th {\n",
              "        text-align: right;\n",
              "    }\n",
              "</style>\n",
              "<table border=\"1\" class=\"dataframe\">\n",
              "  <thead>\n",
              "    <tr style=\"text-align: right;\">\n",
              "      <th></th>\n",
              "      <th>Word 0</th>\n",
              "      <th>Word 1</th>\n",
              "      <th>Word 2</th>\n",
              "      <th>Word 3</th>\n",
              "      <th>Word 4</th>\n",
              "      <th>Word 5</th>\n",
              "      <th>Word 6</th>\n",
              "      <th>Word 7</th>\n",
              "      <th>Word 8</th>\n",
              "      <th>Word 9</th>\n",
              "    </tr>\n",
              "  </thead>\n",
              "  <tbody>\n",
              "    <tr>\n",
              "      <th>Topic 0</th>\n",
              "      <td>quantum</td>\n",
              "      <td>matter</td>\n",
              "      <td>circuit</td>\n",
              "      <td>spin</td>\n",
              "      <td>background</td>\n",
              "      <td>chip</td>\n",
              "      <td>antenna</td>\n",
              "      <td>transfer</td>\n",
              "      <td>measurement</td>\n",
              "      <td>memory</td>\n",
              "    </tr>\n",
              "    <tr>\n",
              "      <th>Topic 1</th>\n",
              "      <td>cell</td>\n",
              "      <td>have</td>\n",
              "      <td>study</td>\n",
              "      <td>disease</td>\n",
              "      <td>model</td>\n",
              "      <td>mechanism</td>\n",
              "      <td>project</td>\n",
              "      <td>response</td>\n",
              "      <td>brain</td>\n",
              "      <td>mirna</td>\n",
              "    </tr>\n",
              "    <tr>\n",
              "      <th>Topic 2</th>\n",
              "      <td>research</td>\n",
              "      <td>system</td>\n",
              "      <td>project</td>\n",
              "      <td>have</td>\n",
              "      <td>develop</td>\n",
              "      <td>datum</td>\n",
              "      <td>technology</td>\n",
              "      <td>design</td>\n",
              "      <td>study</td>\n",
              "      <td>application</td>\n",
              "    </tr>\n",
              "  </tbody>\n",
              "</table>\n",
              "</div>"
            ],
            "application/vnd.google.colaboratory.module+javascript": "\n      import \"https://ssl.gstatic.com/colaboratory/data_table/99dac6621f6ae8c4/data_table.js\";\n\n      window.createDataTable({\n        data: [[\"Topic 0\",\n\"quantum\",\n\"matter\",\n\"circuit\",\n\"spin\",\n\"background\",\n\"chip\",\n\"antenna\",\n\"transfer\",\n\"measurement\",\n\"memory\"],\n [\"Topic 1\",\n\"cell\",\n\"have\",\n\"study\",\n\"disease\",\n\"model\",\n\"mechanism\",\n\"project\",\n\"response\",\n\"brain\",\n\"mirna\"],\n [\"Topic 2\",\n\"research\",\n\"system\",\n\"project\",\n\"have\",\n\"develop\",\n\"datum\",\n\"technology\",\n\"design\",\n\"study\",\n\"application\"]],\n        columns: [[\"string\", \"index\"], [\"string\", \"Word 0\"], [\"string\", \"Word 1\"], [\"string\", \"Word 2\"], [\"string\", \"Word 3\"], [\"string\", \"Word 4\"], [\"string\", \"Word 5\"], [\"string\", \"Word 6\"], [\"string\", \"Word 7\"], [\"string\", \"Word 8\"], [\"string\", \"Word 9\"]],\n        columnOptions: [{\"width\": \"1px\", \"className\": \"index_column\"}],\n        rowsPerPage: 10,\n        helpUrl: \"https://colab.research.google.com/notebooks/data_table.ipynb\",\n        suppressOutputScrolling: true,\n        minimumWidth: undefined,\n      });\n    ",
            "text/plain": [
              "<google.colab.data_table.DataTable object>"
            ]
          },
          "metadata": {},
          "execution_count": 18
        }
      ]
    },
    {
      "cell_type": "markdown",
      "metadata": {
        "id": "vtzhJ6BZNQ2z"
      },
      "source": [
        "### Topic Inference"
      ]
    },
    {
      "cell_type": "code",
      "metadata": {
        "id": "S4zVOinlMBRR",
        "colab": {
          "base_uri": "https://localhost:8080/"
        },
        "outputId": "6b96ad47-209e-413a-b9b1-6a1562b4ab5e"
      },
      "source": [
        "text = \"we develop a project to process models in a large-scale\" #@param {type:\"string\"}\n",
        "\n",
        "print(\"Topic Distribution: \", lda.transform(tf_vectorizer.transform([text])))\n"
      ],
      "execution_count": 19,
      "outputs": [
        {
          "output_type": "stream",
          "name": "stdout",
          "text": [
            "Topic Distribution:  [[0.18179209 0.18654582 0.63166209]]\n"
          ]
        }
      ]
    },
    {
      "cell_type": "markdown",
      "metadata": {
        "id": "gJA7WxT6i7kw"
      },
      "source": [
        "### Diagnose model performance\n",
        "\n",
        "A model with higher log-likelihood and lower perplexity (exp(-1. * log-likelihood per word)) is considered to be good."
      ]
    },
    {
      "cell_type": "code",
      "metadata": {
        "id": "3FSd9SJQjJJ7",
        "colab": {
          "base_uri": "https://localhost:8080/"
        },
        "outputId": "a9378e6c-015d-4e4b-8357-8c7b1bc6f692"
      },
      "source": [
        "# Log Likelyhood: Higher the better\n",
        "print(\"Log Likelihood: \", lda.score(bag_of_words))\n",
        "\n",
        "# Perplexity: Lower the better. Perplexity = exp(-1. * log-likelihood per word)\n",
        "print(\"Perplexity: \", lda.perplexity(bag_of_words))\n",
        "\n",
        "# See model parameters\n",
        "print(lda)"
      ],
      "execution_count": 20,
      "outputs": [
        {
          "output_type": "stream",
          "name": "stdout",
          "text": [
            "Log Likelihood:  -81997.84520747705\n",
            "Perplexity:  1456.101534014788\n",
            "LatentDirichletAllocation(doc_topic_prior=1.0, evaluate_every=1,\n",
            "                          learning_method='online', max_iter=25, n_components=3,\n",
            "                          n_jobs=-1, random_state=0, topic_word_prior=1.0,\n",
            "                          verbose=1)\n"
          ]
        }
      ]
    },
    {
      "cell_type": "markdown",
      "metadata": {
        "id": "JtHC50JzmoHA"
      },
      "source": [
        "Determine the best LDA model:"
      ]
    },
    {
      "cell_type": "code",
      "metadata": {
        "id": "kdUhxRKlmqhM",
        "colab": {
          "base_uri": "https://localhost:8080/",
          "height": 118
        },
        "outputId": "7aa8baa9-312c-443a-b1a6-b5243c14b6c6"
      },
      "source": [
        "from sklearn.model_selection import GridSearchCV\n",
        "\n",
        "# Define Search Param\n",
        "search_params = {'n_components': [5, 10, 15], 'doc_topic_prior': [.1, .3, .5], 'topic_word_prior': [.01, .03, .05]}\n",
        "\n",
        "# Init the Model\n",
        "lda = LatentDirichletAllocation(max_iter=5, learning_method='online', learning_offset=50.,random_state=0)\n",
        "\n",
        "# Init Grid Search Class\n",
        "model = GridSearchCV(lda, param_grid=search_params)\n",
        "\n",
        "# Do the Grid Search\n",
        "model.fit(bag_of_words)"
      ],
      "execution_count": 21,
      "outputs": [
        {
          "output_type": "execute_result",
          "data": {
            "text/plain": [
              "GridSearchCV(estimator=LatentDirichletAllocation(learning_method='online',\n",
              "                                                 learning_offset=50.0,\n",
              "                                                 max_iter=5, random_state=0),\n",
              "             param_grid={'doc_topic_prior': [0.1, 0.3, 0.5],\n",
              "                         'n_components': [5, 10, 15],\n",
              "                         'topic_word_prior': [0.01, 0.03, 0.05]})"
            ],
            "text/html": [
              "<style>#sk-container-id-3 {color: black;background-color: white;}#sk-container-id-3 pre{padding: 0;}#sk-container-id-3 div.sk-toggleable {background-color: white;}#sk-container-id-3 label.sk-toggleable__label {cursor: pointer;display: block;width: 100%;margin-bottom: 0;padding: 0.3em;box-sizing: border-box;text-align: center;}#sk-container-id-3 label.sk-toggleable__label-arrow:before {content: \"▸\";float: left;margin-right: 0.25em;color: #696969;}#sk-container-id-3 label.sk-toggleable__label-arrow:hover:before {color: black;}#sk-container-id-3 div.sk-estimator:hover label.sk-toggleable__label-arrow:before {color: black;}#sk-container-id-3 div.sk-toggleable__content {max-height: 0;max-width: 0;overflow: hidden;text-align: left;background-color: #f0f8ff;}#sk-container-id-3 div.sk-toggleable__content pre {margin: 0.2em;color: black;border-radius: 0.25em;background-color: #f0f8ff;}#sk-container-id-3 input.sk-toggleable__control:checked~div.sk-toggleable__content {max-height: 200px;max-width: 100%;overflow: auto;}#sk-container-id-3 input.sk-toggleable__control:checked~label.sk-toggleable__label-arrow:before {content: \"▾\";}#sk-container-id-3 div.sk-estimator input.sk-toggleable__control:checked~label.sk-toggleable__label {background-color: #d4ebff;}#sk-container-id-3 div.sk-label input.sk-toggleable__control:checked~label.sk-toggleable__label {background-color: #d4ebff;}#sk-container-id-3 input.sk-hidden--visually {border: 0;clip: rect(1px 1px 1px 1px);clip: rect(1px, 1px, 1px, 1px);height: 1px;margin: -1px;overflow: hidden;padding: 0;position: absolute;width: 1px;}#sk-container-id-3 div.sk-estimator {font-family: monospace;background-color: #f0f8ff;border: 1px dotted black;border-radius: 0.25em;box-sizing: border-box;margin-bottom: 0.5em;}#sk-container-id-3 div.sk-estimator:hover {background-color: #d4ebff;}#sk-container-id-3 div.sk-parallel-item::after {content: \"\";width: 100%;border-bottom: 1px solid gray;flex-grow: 1;}#sk-container-id-3 div.sk-label:hover label.sk-toggleable__label {background-color: #d4ebff;}#sk-container-id-3 div.sk-serial::before {content: \"\";position: absolute;border-left: 1px solid gray;box-sizing: border-box;top: 0;bottom: 0;left: 50%;z-index: 0;}#sk-container-id-3 div.sk-serial {display: flex;flex-direction: column;align-items: center;background-color: white;padding-right: 0.2em;padding-left: 0.2em;position: relative;}#sk-container-id-3 div.sk-item {position: relative;z-index: 1;}#sk-container-id-3 div.sk-parallel {display: flex;align-items: stretch;justify-content: center;background-color: white;position: relative;}#sk-container-id-3 div.sk-item::before, #sk-container-id-3 div.sk-parallel-item::before {content: \"\";position: absolute;border-left: 1px solid gray;box-sizing: border-box;top: 0;bottom: 0;left: 50%;z-index: -1;}#sk-container-id-3 div.sk-parallel-item {display: flex;flex-direction: column;z-index: 1;position: relative;background-color: white;}#sk-container-id-3 div.sk-parallel-item:first-child::after {align-self: flex-end;width: 50%;}#sk-container-id-3 div.sk-parallel-item:last-child::after {align-self: flex-start;width: 50%;}#sk-container-id-3 div.sk-parallel-item:only-child::after {width: 0;}#sk-container-id-3 div.sk-dashed-wrapped {border: 1px dashed gray;margin: 0 0.4em 0.5em 0.4em;box-sizing: border-box;padding-bottom: 0.4em;background-color: white;}#sk-container-id-3 div.sk-label label {font-family: monospace;font-weight: bold;display: inline-block;line-height: 1.2em;}#sk-container-id-3 div.sk-label-container {text-align: center;}#sk-container-id-3 div.sk-container {/* jupyter's `normalize.less` sets `[hidden] { display: none; }` but bootstrap.min.css set `[hidden] { display: none !important; }` so we also need the `!important` here to be able to override the default hidden behavior on the sphinx rendered scikit-learn.org. See: https://github.com/scikit-learn/scikit-learn/issues/21755 */display: inline-block !important;position: relative;}#sk-container-id-3 div.sk-text-repr-fallback {display: none;}</style><div id=\"sk-container-id-3\" class=\"sk-top-container\"><div class=\"sk-text-repr-fallback\"><pre>GridSearchCV(estimator=LatentDirichletAllocation(learning_method=&#x27;online&#x27;,\n",
              "                                                 learning_offset=50.0,\n",
              "                                                 max_iter=5, random_state=0),\n",
              "             param_grid={&#x27;doc_topic_prior&#x27;: [0.1, 0.3, 0.5],\n",
              "                         &#x27;n_components&#x27;: [5, 10, 15],\n",
              "                         &#x27;topic_word_prior&#x27;: [0.01, 0.03, 0.05]})</pre><b>In a Jupyter environment, please rerun this cell to show the HTML representation or trust the notebook. <br />On GitHub, the HTML representation is unable to render, please try loading this page with nbviewer.org.</b></div><div class=\"sk-container\" hidden><div class=\"sk-item sk-dashed-wrapped\"><div class=\"sk-label-container\"><div class=\"sk-label sk-toggleable\"><input class=\"sk-toggleable__control sk-hidden--visually\" id=\"sk-estimator-id-3\" type=\"checkbox\" ><label for=\"sk-estimator-id-3\" class=\"sk-toggleable__label sk-toggleable__label-arrow\">GridSearchCV</label><div class=\"sk-toggleable__content\"><pre>GridSearchCV(estimator=LatentDirichletAllocation(learning_method=&#x27;online&#x27;,\n",
              "                                                 learning_offset=50.0,\n",
              "                                                 max_iter=5, random_state=0),\n",
              "             param_grid={&#x27;doc_topic_prior&#x27;: [0.1, 0.3, 0.5],\n",
              "                         &#x27;n_components&#x27;: [5, 10, 15],\n",
              "                         &#x27;topic_word_prior&#x27;: [0.01, 0.03, 0.05]})</pre></div></div></div><div class=\"sk-parallel\"><div class=\"sk-parallel-item\"><div class=\"sk-item\"><div class=\"sk-label-container\"><div class=\"sk-label sk-toggleable\"><input class=\"sk-toggleable__control sk-hidden--visually\" id=\"sk-estimator-id-4\" type=\"checkbox\" ><label for=\"sk-estimator-id-4\" class=\"sk-toggleable__label sk-toggleable__label-arrow\">estimator: LatentDirichletAllocation</label><div class=\"sk-toggleable__content\"><pre>LatentDirichletAllocation(learning_method=&#x27;online&#x27;, learning_offset=50.0,\n",
              "                          max_iter=5, random_state=0)</pre></div></div></div><div class=\"sk-serial\"><div class=\"sk-item\"><div class=\"sk-estimator sk-toggleable\"><input class=\"sk-toggleable__control sk-hidden--visually\" id=\"sk-estimator-id-5\" type=\"checkbox\" ><label for=\"sk-estimator-id-5\" class=\"sk-toggleable__label sk-toggleable__label-arrow\">LatentDirichletAllocation</label><div class=\"sk-toggleable__content\"><pre>LatentDirichletAllocation(learning_method=&#x27;online&#x27;, learning_offset=50.0,\n",
              "                          max_iter=5, random_state=0)</pre></div></div></div></div></div></div></div></div></div></div>"
            ]
          },
          "metadata": {},
          "execution_count": 21
        }
      ]
    },
    {
      "cell_type": "markdown",
      "metadata": {
        "id": "k5ZYRmGSneuR"
      },
      "source": [
        "Read the best configuration:"
      ]
    },
    {
      "cell_type": "code",
      "metadata": {
        "id": "-emluQQtng3R",
        "colab": {
          "base_uri": "https://localhost:8080/"
        },
        "outputId": "8877cc1b-b53a-4ac1-d611-775544d8f645"
      },
      "source": [
        "# Best Model\n",
        "best_lda_model = model.best_estimator_\n",
        "\n",
        "# Model Parameters\n",
        "print(\"Best Model's Params: \", model.best_params_)\n",
        "\n",
        "# Log Likelihood Score\n",
        "print(\"Best Log Likelihood Score: \", model.best_score_)\n",
        "\n",
        "# Perplexity\n",
        "print(\"Model Perplexity: \", best_lda_model.perplexity(bag_of_words))"
      ],
      "execution_count": 22,
      "outputs": [
        {
          "output_type": "stream",
          "name": "stdout",
          "text": [
            "Best Model's Params:  {'doc_topic_prior': 0.1, 'n_components': 5, 'topic_word_prior': 0.05}\n",
            "Best Log Likelihood Score:  -36129.05740067852\n",
            "Model Perplexity:  8484.752532998951\n"
          ]
        }
      ]
    },
    {
      "cell_type": "markdown",
      "metadata": {
        "id": "654ZQ4GEXso2"
      },
      "source": [
        "### Topic-based Document Similarity"
      ]
    },
    {
      "cell_type": "code",
      "metadata": {
        "id": "NrmK-UcmXw9m",
        "colab": {
          "base_uri": "https://localhost:8080/"
        },
        "outputId": "ecaac905-4e0a-48f2-e4b6-c5d887b00fdb"
      },
      "source": [
        "# Compute Jensen Shannon Divergence\n",
        "from scipy.spatial import distance\n",
        "\n",
        "for i1,d1 in enumerate(doc_topics[0:10]):\n",
        "   for i2,d2 in enumerate(doc_topics[0:10]):\n",
        "      print(rows[i1+1][1],\"-\", rows[i2+1][1],\":\", 1-distance.jensenshannon(d1, d2))"
      ],
      "execution_count": 23,
      "outputs": [
        {
          "output_type": "stream",
          "name": "stdout",
          "text": [
            "Visual object population codes  relating human brains to nonhuman and computational models with representational similarity analysis - Visual object population codes  relating human brains to nonhuman and computational models with representational similarity analysis : 1.0\n",
            "Visual object population codes  relating human brains to nonhuman and computational models with representational similarity analysis - New Opportunities for Research Funding Agency Co-operation in Europe II : 0.72163322260343\n",
            "Visual object population codes  relating human brains to nonhuman and computational models with representational similarity analysis - USA and Europe Cooperation in Mini UAVs : 0.7250288135188105\n",
            "Visual object population codes  relating human brains to nonhuman and computational models with representational similarity analysis - Sustainable Infrastructure for Resilient Urban Environments : 0.7264859724678631\n",
            "Visual object population codes  relating human brains to nonhuman and computational models with representational similarity analysis - Modelling star formation in the local universe : 0.7346756682011228\n",
            "Visual object population codes  relating human brains to nonhuman and computational models with representational similarity analysis - Coherent spin manipulation in hybrid nanostructures : 0.36443352778061633\n",
            "Visual object population codes  relating human brains to nonhuman and computational models with representational similarity analysis - Stochastic Modeling of Spatially Extended Ecosystems and Ecological and Climate Data Analysis : 0.7411930216362743\n",
            "Visual object population codes  relating human brains to nonhuman and computational models with representational similarity analysis - Secure Multiparty Computation in the von Neumann Architecture : 0.7298880855407062\n",
            "Visual object population codes  relating human brains to nonhuman and computational models with representational similarity analysis - Infrastructures for Community-Based Data Management : 0.7255475752587696\n",
            "Visual object population codes  relating human brains to nonhuman and computational models with representational similarity analysis - Reducing Environmental Footprint based on Multi-Modal Fleet management System for Eco-Routing and Driver Behaviour Adaptation : 0.719985403746324\n",
            "New Opportunities for Research Funding Agency Co-operation in Europe II - Visual object population codes  relating human brains to nonhuman and computational models with representational similarity analysis : 0.72163322260343\n",
            "New Opportunities for Research Funding Agency Co-operation in Europe II - New Opportunities for Research Funding Agency Co-operation in Europe II : 1.0\n",
            "New Opportunities for Research Funding Agency Co-operation in Europe II - USA and Europe Cooperation in Mini UAVs : 0.9921713848765766\n",
            "New Opportunities for Research Funding Agency Co-operation in Europe II - Sustainable Infrastructure for Resilient Urban Environments : 0.9898634730363786\n",
            "New Opportunities for Research Funding Agency Co-operation in Europe II - Modelling star formation in the local universe : 0.9724711557026005\n",
            "New Opportunities for Research Funding Agency Co-operation in Europe II - Coherent spin manipulation in hybrid nanostructures : 0.35397613763036295\n",
            "New Opportunities for Research Funding Agency Co-operation in Europe II - Stochastic Modeling of Spatially Extended Ecosystems and Ecological and Climate Data Analysis : 0.9728388942981719\n",
            "New Opportunities for Research Funding Agency Co-operation in Europe II - Secure Multiparty Computation in the von Neumann Architecture : 0.9707251487460836\n",
            "New Opportunities for Research Funding Agency Co-operation in Europe II - Infrastructures for Community-Based Data Management : 0.9938231878417357\n",
            "New Opportunities for Research Funding Agency Co-operation in Europe II - Reducing Environmental Footprint based on Multi-Modal Fleet management System for Eco-Routing and Driver Behaviour Adaptation : 0.9967649831755437\n",
            "USA and Europe Cooperation in Mini UAVs - Visual object population codes  relating human brains to nonhuman and computational models with representational similarity analysis : 0.7250288135188105\n",
            "USA and Europe Cooperation in Mini UAVs - New Opportunities for Research Funding Agency Co-operation in Europe II : 0.9921713848765766\n",
            "USA and Europe Cooperation in Mini UAVs - USA and Europe Cooperation in Mini UAVs : 1.0\n",
            "USA and Europe Cooperation in Mini UAVs - Sustainable Infrastructure for Resilient Urban Environments : 0.9975810752450706\n",
            "USA and Europe Cooperation in Mini UAVs - Modelling star formation in the local universe : 0.9802191794165841\n",
            "USA and Europe Cooperation in Mini UAVs - Coherent spin manipulation in hybrid nanostructures : 0.35763293665928375\n",
            "USA and Europe Cooperation in Mini UAVs - Stochastic Modeling of Spatially Extended Ecosystems and Ecological and Climate Data Analysis : 0.9786588736255311\n",
            "USA and Europe Cooperation in Mini UAVs - Secure Multiparty Computation in the von Neumann Architecture : 0.9782765946383056\n",
            "USA and Europe Cooperation in Mini UAVs - Infrastructures for Community-Based Data Management : 0.9966772480001442\n",
            "USA and Europe Cooperation in Mini UAVs - Reducing Environmental Footprint based on Multi-Modal Fleet management System for Eco-Routing and Driver Behaviour Adaptation : 0.9918601547545773\n",
            "Sustainable Infrastructure for Resilient Urban Environments - Visual object population codes  relating human brains to nonhuman and computational models with representational similarity analysis : 0.7264859724678631\n",
            "Sustainable Infrastructure for Resilient Urban Environments - New Opportunities for Research Funding Agency Co-operation in Europe II : 0.9898634730363786\n",
            "Sustainable Infrastructure for Resilient Urban Environments - USA and Europe Cooperation in Mini UAVs : 0.9975810752450706\n",
            "Sustainable Infrastructure for Resilient Urban Environments - Sustainable Infrastructure for Resilient Urban Environments : 1.0\n",
            "Sustainable Infrastructure for Resilient Urban Environments - Modelling star formation in the local universe : 0.9825617774881891\n",
            "Sustainable Infrastructure for Resilient Urban Environments - Coherent spin manipulation in hybrid nanostructures : 0.3585751308863432\n",
            "Sustainable Infrastructure for Resilient Urban Environments - Stochastic Modeling of Spatially Extended Ecosystems and Ecological and Climate Data Analysis : 0.9807398766730869\n",
            "Sustainable Infrastructure for Resilient Urban Environments - Secure Multiparty Computation in the von Neumann Architecture : 0.9801887128965383\n",
            "Sustainable Infrastructure for Resilient Urban Environments - Infrastructures for Community-Based Data Management : 0.9952317989439688\n",
            "Sustainable Infrastructure for Resilient Urban Environments - Reducing Environmental Footprint based on Multi-Modal Fleet management System for Eco-Routing and Driver Behaviour Adaptation : 0.9894467870949529\n",
            "Modelling star formation in the local universe - Visual object population codes  relating human brains to nonhuman and computational models with representational similarity analysis : 0.7346756682011228\n",
            "Modelling star formation in the local universe - New Opportunities for Research Funding Agency Co-operation in Europe II : 0.9724711557026005\n",
            "Modelling star formation in the local universe - USA and Europe Cooperation in Mini UAVs : 0.9802191794165841\n",
            "Modelling star formation in the local universe - Sustainable Infrastructure for Resilient Urban Environments : 0.9825617774881891\n",
            "Modelling star formation in the local universe - Modelling star formation in the local universe : 1.0\n",
            "Modelling star formation in the local universe - Coherent spin manipulation in hybrid nanostructures : 0.3669450839506141\n",
            "Modelling star formation in the local universe - Stochastic Modeling of Spatially Extended Ecosystems and Ecological and Climate Data Analysis : 0.9853672923342257\n",
            "Modelling star formation in the local universe - Secure Multiparty Computation in the von Neumann Architecture : 0.9916696668304493\n",
            "Modelling star formation in the local universe - Infrastructures for Community-Based Data Management : 0.9781878100431751\n",
            "Modelling star formation in the local universe - Reducing Environmental Footprint based on Multi-Modal Fleet management System for Eco-Routing and Driver Behaviour Adaptation : 0.9723522981466605\n",
            "Coherent spin manipulation in hybrid nanostructures - Visual object population codes  relating human brains to nonhuman and computational models with representational similarity analysis : 0.36443352778061633\n",
            "Coherent spin manipulation in hybrid nanostructures - New Opportunities for Research Funding Agency Co-operation in Europe II : 0.35397613763036295\n",
            "Coherent spin manipulation in hybrid nanostructures - USA and Europe Cooperation in Mini UAVs : 0.35763293665928375\n",
            "Coherent spin manipulation in hybrid nanostructures - Sustainable Infrastructure for Resilient Urban Environments : 0.3585751308863432\n",
            "Coherent spin manipulation in hybrid nanostructures - Modelling star formation in the local universe : 0.3669450839506141\n",
            "Coherent spin manipulation in hybrid nanostructures - Coherent spin manipulation in hybrid nanostructures : 1.0\n",
            "Coherent spin manipulation in hybrid nanostructures - Stochastic Modeling of Spatially Extended Ecosystems and Ecological and Climate Data Analysis : 0.36143799837895574\n",
            "Coherent spin manipulation in hybrid nanostructures - Secure Multiparty Computation in the von Neumann Architecture : 0.36936962398381257\n",
            "Coherent spin manipulation in hybrid nanostructures - Infrastructures for Community-Based Data Management : 0.3561617529657072\n",
            "Coherent spin manipulation in hybrid nanostructures - Reducing Environmental Footprint based on Multi-Modal Fleet management System for Eco-Routing and Driver Behaviour Adaptation : 0.354668250113086\n",
            "Stochastic Modeling of Spatially Extended Ecosystems and Ecological and Climate Data Analysis - Visual object population codes  relating human brains to nonhuman and computational models with representational similarity analysis : 0.7411930216362743\n",
            "Stochastic Modeling of Spatially Extended Ecosystems and Ecological and Climate Data Analysis - New Opportunities for Research Funding Agency Co-operation in Europe II : 0.9728388942981719\n",
            "Stochastic Modeling of Spatially Extended Ecosystems and Ecological and Climate Data Analysis - USA and Europe Cooperation in Mini UAVs : 0.9786588736255311\n",
            "Stochastic Modeling of Spatially Extended Ecosystems and Ecological and Climate Data Analysis - Sustainable Infrastructure for Resilient Urban Environments : 0.9807398766730869\n",
            "Stochastic Modeling of Spatially Extended Ecosystems and Ecological and Climate Data Analysis - Modelling star formation in the local universe : 0.9853672923342257\n",
            "Stochastic Modeling of Spatially Extended Ecosystems and Ecological and Climate Data Analysis - Coherent spin manipulation in hybrid nanostructures : 0.36143799837895574\n",
            "Stochastic Modeling of Spatially Extended Ecosystems and Ecological and Climate Data Analysis - Stochastic Modeling of Spatially Extended Ecosystems and Ecological and Climate Data Analysis : 1.0\n",
            "Stochastic Modeling of Spatially Extended Ecosystems and Ecological and Climate Data Analysis - Secure Multiparty Computation in the von Neumann Architecture : 0.9771879169934735\n",
            "Stochastic Modeling of Spatially Extended Ecosystems and Ecological and Climate Data Analysis - Infrastructures for Community-Based Data Management : 0.9788074032578341\n",
            "Stochastic Modeling of Spatially Extended Ecosystems and Ecological and Climate Data Analysis - Reducing Environmental Footprint based on Multi-Modal Fleet management System for Eco-Routing and Driver Behaviour Adaptation : 0.9711316158083382\n",
            "Secure Multiparty Computation in the von Neumann Architecture - Visual object population codes  relating human brains to nonhuman and computational models with representational similarity analysis : 0.7298880855407062\n",
            "Secure Multiparty Computation in the von Neumann Architecture - New Opportunities for Research Funding Agency Co-operation in Europe II : 0.9707251487460836\n",
            "Secure Multiparty Computation in the von Neumann Architecture - USA and Europe Cooperation in Mini UAVs : 0.9782765946383056\n",
            "Secure Multiparty Computation in the von Neumann Architecture - Sustainable Infrastructure for Resilient Urban Environments : 0.9801887128965383\n",
            "Secure Multiparty Computation in the von Neumann Architecture - Modelling star formation in the local universe : 0.9916696668304493\n",
            "Secure Multiparty Computation in the von Neumann Architecture - Coherent spin manipulation in hybrid nanostructures : 0.36936962398381257\n",
            "Secure Multiparty Computation in the von Neumann Architecture - Stochastic Modeling of Spatially Extended Ecosystems and Ecological and Climate Data Analysis : 0.9771879169934735\n",
            "Secure Multiparty Computation in the von Neumann Architecture - Secure Multiparty Computation in the von Neumann Architecture : 1.0\n",
            "Secure Multiparty Computation in the von Neumann Architecture - Infrastructures for Community-Based Data Management : 0.9754554013712466\n",
            "Secure Multiparty Computation in the von Neumann Architecture - Reducing Environmental Footprint based on Multi-Modal Fleet management System for Eco-Routing and Driver Behaviour Adaptation : 0.9715239036673053\n",
            "Infrastructures for Community-Based Data Management - Visual object population codes  relating human brains to nonhuman and computational models with representational similarity analysis : 0.7255475752587696\n",
            "Infrastructures for Community-Based Data Management - New Opportunities for Research Funding Agency Co-operation in Europe II : 0.9938231878417357\n",
            "Infrastructures for Community-Based Data Management - USA and Europe Cooperation in Mini UAVs : 0.9966772480001442\n",
            "Infrastructures for Community-Based Data Management - Sustainable Infrastructure for Resilient Urban Environments : 0.9952317989439688\n",
            "Infrastructures for Community-Based Data Management - Modelling star formation in the local universe : 0.9781878100431751\n",
            "Infrastructures for Community-Based Data Management - Coherent spin manipulation in hybrid nanostructures : 0.3561617529657072\n",
            "Infrastructures for Community-Based Data Management - Stochastic Modeling of Spatially Extended Ecosystems and Ecological and Climate Data Analysis : 0.9788074032578341\n",
            "Infrastructures for Community-Based Data Management - Secure Multiparty Computation in the von Neumann Architecture : 0.9754554013712466\n",
            "Infrastructures for Community-Based Data Management - Infrastructures for Community-Based Data Management : 1.0\n",
            "Infrastructures for Community-Based Data Management - Reducing Environmental Footprint based on Multi-Modal Fleet management System for Eco-Routing and Driver Behaviour Adaptation : 0.99220683464648\n",
            "Reducing Environmental Footprint based on Multi-Modal Fleet management System for Eco-Routing and Driver Behaviour Adaptation - Visual object population codes  relating human brains to nonhuman and computational models with representational similarity analysis : 0.719985403746324\n",
            "Reducing Environmental Footprint based on Multi-Modal Fleet management System for Eco-Routing and Driver Behaviour Adaptation - New Opportunities for Research Funding Agency Co-operation in Europe II : 0.9967649831755437\n",
            "Reducing Environmental Footprint based on Multi-Modal Fleet management System for Eco-Routing and Driver Behaviour Adaptation - USA and Europe Cooperation in Mini UAVs : 0.9918601547545773\n",
            "Reducing Environmental Footprint based on Multi-Modal Fleet management System for Eco-Routing and Driver Behaviour Adaptation - Sustainable Infrastructure for Resilient Urban Environments : 0.9894467870949529\n",
            "Reducing Environmental Footprint based on Multi-Modal Fleet management System for Eco-Routing and Driver Behaviour Adaptation - Modelling star formation in the local universe : 0.9723522981466605\n",
            "Reducing Environmental Footprint based on Multi-Modal Fleet management System for Eco-Routing and Driver Behaviour Adaptation - Coherent spin manipulation in hybrid nanostructures : 0.354668250113086\n",
            "Reducing Environmental Footprint based on Multi-Modal Fleet management System for Eco-Routing and Driver Behaviour Adaptation - Stochastic Modeling of Spatially Extended Ecosystems and Ecological and Climate Data Analysis : 0.9711316158083382\n",
            "Reducing Environmental Footprint based on Multi-Modal Fleet management System for Eco-Routing and Driver Behaviour Adaptation - Secure Multiparty Computation in the von Neumann Architecture : 0.9715239036673053\n",
            "Reducing Environmental Footprint based on Multi-Modal Fleet management System for Eco-Routing and Driver Behaviour Adaptation - Infrastructures for Community-Based Data Management : 0.99220683464648\n",
            "Reducing Environmental Footprint based on Multi-Modal Fleet management System for Eco-Routing and Driver Behaviour Adaptation - Reducing Environmental Footprint based on Multi-Modal Fleet management System for Eco-Routing and Driver Behaviour Adaptation : 1.0\n"
          ]
        }
      ]
    },
    {
      "cell_type": "markdown",
      "metadata": {
        "id": "H0bYI-bEPG_g"
      },
      "source": [
        "You can tune the `CounterVectorizer` module to clean the input text, or use an already processed corpus. \n",
        "\n",
        "Save a copy of this [file](https://goo.gl/RF4cWB) in the `Google Colab/` folder of your Google Drive."
      ]
    }
  ]
}