{
  "nbformat": 4,
  "nbformat_minor": 0,
  "metadata": {
    "colab": {
      "name": "Hierarchical-Clustering.ipynb",
      "provenance": [],
      "collapsed_sections": [
        "jLRIUlkyy8vT",
        "rlxtX_2cz2vp",
        "FUmsEn9-5bWi"
      ]
    },
    "kernelspec": {
      "name": "python3",
      "display_name": "Python 3"
    }
  },
  "cells": [
    {
      "cell_type": "markdown",
      "metadata": {
        "id": "jLRIUlkyy8vT"
      },
      "source": [
        "# Synthetic Data"
      ]
    },
    {
      "cell_type": "markdown",
      "metadata": {
        "id": "F3tZHrVA5Pg0"
      },
      "source": [
        "## Dendrogram"
      ]
    },
    {
      "cell_type": "markdown",
      "metadata": {
        "id": "RO9ohhSUzvRi"
      },
      "source": [
        "We load the following data set:"
      ]
    },
    {
      "cell_type": "code",
      "metadata": {
        "id": "b1khI6gMzBy4",
        "colab": {
          "base_uri": "https://localhost:8080/"
        },
        "outputId": "75fb29a1-95ce-47fc-b9d9-a5efd91ffcab"
      },
      "source": [
        "import numpy as np\n",
        "\n",
        "X = np.array([[5,3],  \n",
        "    [10,15],\n",
        "    [15,12],\n",
        "    [24,10],\n",
        "    [30,30],\n",
        "    [85,70],\n",
        "    [71,80],\n",
        "    [60,78],\n",
        "    [70,55],\n",
        "    [80,91],])\n",
        "X.size"
      ],
      "execution_count": null,
      "outputs": [
        {
          "output_type": "execute_result",
          "data": {
            "text/plain": [
              "20"
            ]
          },
          "metadata": {},
          "execution_count": 27
        }
      ]
    },
    {
      "cell_type": "markdown",
      "metadata": {
        "id": "sc9xDMJMzIy_"
      },
      "source": [
        "and create a chart:"
      ]
    },
    {
      "cell_type": "code",
      "metadata": {
        "id": "cditmsY1zLFF",
        "colab": {
          "base_uri": "https://localhost:8080/",
          "height": 441
        },
        "outputId": "98e78355-829e-401b-a180-1b908367fc9c"
      },
      "source": [
        "import matplotlib.pyplot as plt\n",
        "\n",
        "labels = range(1, 11)  \n",
        "plt.figure(figsize=(10, 7))  \n",
        "plt.subplots_adjust(bottom=0.1)  \n",
        "plt.scatter(X[:,0],X[:,1], label='True Position')\n",
        "\n",
        "for label, x, y in zip(labels, X[:, 0], X[:, 1]):  \n",
        "    plt.annotate(\n",
        "        label,\n",
        "        xy=(x, y), xytext=(-3, 3),\n",
        "        textcoords='offset points', ha='right', va='bottom')\n",
        "plt.show()  "
      ],
      "execution_count": null,
      "outputs": [
        {
          "output_type": "display_data",
          "data": {
            "image/png": "[encoded data removed]",
            "text/plain": [
              "<Figure size 720x504 with 1 Axes>"
            ]
          },
          "metadata": {
            "needs_background": "light"
          }
        }
      ]
    },
    {
      "cell_type": "markdown",
      "metadata": {
        "id": "oy5Ti_vCzVZ_"
      },
      "source": [
        "We want to merge the points in groups in an incremental way (*agglomerative hierarchy*) using the *Euclidean distance* as proximity index and the minimum distance between groups as reference (*single linkage*).\n",
        "\n",
        "The `scipy` library is used to create a dendrogram that describes the whole process:"
      ]
    },
    {
      "cell_type": "code",
      "metadata": {
        "id": "LBPGfTrRza18",
        "colab": {
          "base_uri": "https://localhost:8080/",
          "height": 431
        },
        "outputId": "a9b0ef74-226a-442f-b553-9ed464131e9a"
      },
      "source": [
        "from scipy.cluster.hierarchy import dendrogram, linkage  \n",
        "from matplotlib import pyplot as plt\n",
        "\n",
        "linked = linkage(X, metric='euclidean', method='single')\n",
        "\n",
        "labelList = range(1, 11)\n",
        "\n",
        "plt.figure(figsize=(10, 7))  \n",
        "dendrogram(linked,  \n",
        "            orientation='top',\n",
        "            labels=labelList,\n",
        "            distance_sort='descending',\n",
        "            show_leaf_counts=True)\n",
        "plt.show()  "
      ],
      "execution_count": null,
      "outputs": [
        {
          "output_type": "display_data",
          "data": {
            "image/png": "[encoded data removed]",
            "text/plain": [
              "<Figure size 720x504 with 1 Axes>"
            ]
          },
          "metadata": {
            "needs_background": "light"
          }
        }
      ]
    },
    {
      "cell_type": "markdown",
      "metadata": {
        "id": "rlxtX_2cz2vp"
      },
      "source": [
        "## Model"
      ]
    },
    {
      "cell_type": "markdown",
      "metadata": {
        "id": "gLoPyXfuz_zh"
      },
      "source": [
        "\n",
        "Once we have analyzed the ***dendrogram***, we see that two groups would be sufficient. So let's create a model that builds two groups with the data.\n",
        "\n",
        "First we need to import the following libraries:"
      ]
    },
    {
      "cell_type": "code",
      "metadata": {
        "id": "K7TcC52y0CMP"
      },
      "source": [
        "import matplotlib.pyplot as plt  \n",
        "import pandas as pd  \n",
        "%matplotlib inline\n",
        "import numpy as np  \n"
      ],
      "execution_count": null,
      "outputs": []
    },
    {
      "cell_type": "markdown",
      "metadata": {
        "id": "4XIFIHkG0Qn0"
      },
      "source": [
        "As before, we consider the Euclidean distance to measure the smallest distance between sets (single linkage):\n"
      ]
    },
    {
      "cell_type": "code",
      "metadata": {
        "id": "vM31fCXV0bF7",
        "colab": {
          "base_uri": "https://localhost:8080/"
        },
        "outputId": "ac3fec3c-9e8c-46a6-e26c-e975282db94e"
      },
      "source": [
        "from sklearn.cluster import AgglomerativeClustering\n",
        "\n",
        "cluster = AgglomerativeClustering(n_clusters=2, affinity='euclidean', linkage='single')  \n",
        "cluster.fit(X)  "
      ],
      "execution_count": null,
      "outputs": [
        {
          "output_type": "execute_result",
          "data": {
            "text/plain": [
              "AgglomerativeClustering(linkage='single')"
            ]
          },
          "metadata": {},
          "execution_count": 5
        }
      ]
    },
    {
      "cell_type": "markdown",
      "metadata": {
        "id": "dunOVyFv0252"
      },
      "source": [
        "Now we can see how the model has assigned the clusters to each point:"
      ]
    },
    {
      "cell_type": "code",
      "metadata": {
        "id": "0cQUf6C-08ki",
        "colab": {
          "base_uri": "https://localhost:8080/"
        },
        "outputId": "400b5012-afb5-4e27-cbce-46ddcad08b7f"
      },
      "source": [
        "print(cluster.labels_)  "
      ],
      "execution_count": null,
      "outputs": [
        {
          "output_type": "stream",
          "name": "stdout",
          "text": [
            "[1 1 1 1 1 0 0 0 0 0]\n"
          ]
        }
      ]
    },
    {
      "cell_type": "markdown",
      "metadata": {
        "id": "WXS_3mA41Kn9"
      },
      "source": [
        "And visualize them through:"
      ]
    },
    {
      "cell_type": "code",
      "metadata": {
        "id": "a3dv50_h1M2B",
        "colab": {
          "base_uri": "https://localhost:8080/"
        },
        "outputId": "de2ac6e8-a6a7-4926-9923-da82fc03917e"
      },
      "source": [
        "plt.scatter(X[:,0],X[:,1], c=cluster.labels_, cmap='rainbow')  \n"
      ],
      "execution_count": null,
      "outputs": [
        {
          "output_type": "execute_result",
          "data": {
            "text/plain": [
              "<matplotlib.collections.PathCollection at 0x7ff64212f390>"
            ]
          },
          "metadata": {},
          "execution_count": 7
        },
        {
          "output_type": "display_data",
          "data": {
            "image/png": "[encoded data removed]",
            "text/plain": [
              "<Figure size 432x288 with 1 Axes>"
            ]
          },
          "metadata": {
            "needs_background": "light"
          }
        }
      ]
    },
    {
      "cell_type": "markdown",
      "metadata": {
        "id": "FUmsEn9-5bWi"
      },
      "source": [
        "# Real Data"
      ]
    },
    {
      "cell_type": "markdown",
      "metadata": {
        "id": "mFa09Mzk5dMu"
      },
      "source": [
        "Let's read a google sheet dataset that contains expenditure data associated with individuals (age, gender, expenditure, income) and it is available [here](https://drive.google.com/open?id=1Qj9QuFH2J6wjWIK6xdOMskBPu3oy7z9L).\n"
      ]
    },
    {
      "cell_type": "code",
      "metadata": {
        "id": "UmyUIoX25hLA"
      },
      "source": [
        "# Code to read csv file into Colaboratory:\n",
        "!pip install -U -q PyDrive\n",
        "from pydrive.auth import GoogleAuth\n",
        "from pydrive.drive import GoogleDrive\n",
        "from google.colab import auth\n",
        "from oauth2client.client import GoogleCredentials\n",
        "# Authenticate and create the PyDrive client.\n",
        "auth.authenticate_user()\n",
        "gauth = GoogleAuth()\n",
        "gauth.credentials = GoogleCredentials.get_application_default()\n",
        "drive = GoogleDrive(gauth)"
      ],
      "execution_count": null,
      "outputs": []
    },
    {
      "cell_type": "markdown",
      "metadata": {
        "id": "zVKmfA036DYm"
      },
      "source": [
        "Load data into a `DataFrame`:"
      ]
    },
    {
      "cell_type": "code",
      "metadata": {
        "id": "p_0DjQovDsay",
        "colab": {
          "base_uri": "https://localhost:8080/"
        },
        "outputId": "4717f037-ef20-4cf8-ccc6-b1647136ff9a"
      },
      "source": [
        "import pandas as pd  \n",
        "\n",
        "id = \"1Qj9QuFH2J6wjWIK6xdOMskBPu3oy7z9L\"\n",
        "downloaded = drive.CreateFile({'id':id}) \n",
        "downloaded.GetContentFile('Filename.csv')  \n",
        "customer_data = pd.read_csv('Filename.csv')\n",
        "customer_data.shape"
      ],
      "execution_count": null,
      "outputs": [
        {
          "output_type": "execute_result",
          "data": {
            "text/plain": [
              "(200, 5)"
            ]
          },
          "metadata": {},
          "execution_count": 9
        }
      ]
    },
    {
      "cell_type": "markdown",
      "metadata": {
        "id": "3RTZzFH1Ee_Q"
      },
      "source": [
        "The first rows can be displayed by means of:"
      ]
    },
    {
      "cell_type": "code",
      "metadata": {
        "id": "P84qiQepEjCQ",
        "colab": {
          "base_uri": "https://localhost:8080/",
          "height": 206
        },
        "outputId": "ec928229-d14a-4897-c54a-fc4a1b8e5089"
      },
      "source": [
        "customer_data.head()"
      ],
      "execution_count": null,
      "outputs": [
        {
          "output_type": "execute_result",
          "data": {
            "text/html": [
              "<div>\n",
              "<style scoped>\n",
              "    .dataframe tbody tr th:only-of-type {\n",
              "        vertical-align: middle;\n",
              "    }\n",
              "\n",
              "    .dataframe tbody tr th {\n",
              "        vertical-align: top;\n",
              "    }\n",
              "\n",
              "    .dataframe thead th {\n",
              "        text-align: right;\n",
              "    }\n",
              "</style>\n",
              "<table border=\"1\" class=\"dataframe\">\n",
              "  <thead>\n",
              "    <tr style=\"text-align: right;\">\n",
              "      <th></th>\n",
              "      <th>CustomerID</th>\n",
              "      <th>Genre</th>\n",
              "      <th>Age</th>\n",
              "      <th>Annual Income (k$)</th>\n",
              "      <th>Spending Score (1-100)</th>\n",
              "    </tr>\n",
              "  </thead>\n",
              "  <tbody>\n",
              "    <tr>\n",
              "      <th>0</th>\n",
              "      <td>1</td>\n",
              "      <td>Male</td>\n",
              "      <td>19</td>\n",
              "      <td>15</td>\n",
              "      <td>39</td>\n",
              "    </tr>\n",
              "    <tr>\n",
              "      <th>1</th>\n",
              "      <td>2</td>\n",
              "      <td>Male</td>\n",
              "      <td>21</td>\n",
              "      <td>15</td>\n",
              "      <td>81</td>\n",
              "    </tr>\n",
              "    <tr>\n",
              "      <th>2</th>\n",
              "      <td>3</td>\n",
              "      <td>Female</td>\n",
              "      <td>20</td>\n",
              "      <td>16</td>\n",
              "      <td>6</td>\n",
              "    </tr>\n",
              "    <tr>\n",
              "      <th>3</th>\n",
              "      <td>4</td>\n",
              "      <td>Female</td>\n",
              "      <td>23</td>\n",
              "      <td>16</td>\n",
              "      <td>77</td>\n",
              "    </tr>\n",
              "    <tr>\n",
              "      <th>4</th>\n",
              "      <td>5</td>\n",
              "      <td>Female</td>\n",
              "      <td>31</td>\n",
              "      <td>17</td>\n",
              "      <td>40</td>\n",
              "    </tr>\n",
              "  </tbody>\n",
              "</table>\n",
              "</div>"
            ],
            "text/plain": [
              "   CustomerID   Genre  Age  Annual Income (k$)  Spending Score (1-100)\n",
              "0           1    Male   19                  15                      39\n",
              "1           2    Male   21                  15                      81\n",
              "2           3  Female   20                  16                       6\n",
              "3           4  Female   23                  16                      77\n",
              "4           5  Female   31                  17                      40"
            ]
          },
          "metadata": {},
          "execution_count": 10
        }
      ]
    },
    {
      "cell_type": "markdown",
      "metadata": {
        "id": "WvNpxf-x8DIi"
      },
      "source": [
        "We use only numerical attributes: `Age`, `Annual Income` and `Spending Score` (columns 2, 3 and 4):"
      ]
    },
    {
      "cell_type": "code",
      "metadata": {
        "id": "mDJhSQAx8SZL"
      },
      "source": [
        "data = customer_data.iloc[:, 2:5]"
      ],
      "execution_count": null,
      "outputs": []
    },
    {
      "cell_type": "markdown",
      "metadata": {
        "id": "SOXl2uwm-w76"
      },
      "source": [
        "The data table now has the following size:"
      ]
    },
    {
      "cell_type": "code",
      "metadata": {
        "id": "ilZBvh8g-065",
        "colab": {
          "base_uri": "https://localhost:8080/"
        },
        "outputId": "20ea8083-9257-4a93-fcd4-3648b89b750b"
      },
      "source": [
        "data.shape"
      ],
      "execution_count": null,
      "outputs": [
        {
          "output_type": "execute_result",
          "data": {
            "text/plain": [
              "(200, 3)"
            ]
          },
          "metadata": {},
          "execution_count": 42
        }
      ]
    },
    {
      "cell_type": "markdown",
      "metadata": {
        "id": "y7sliYun-ju-"
      },
      "source": [
        "## Dendrogram"
      ]
    },
    {
      "cell_type": "markdown",
      "metadata": {
        "id": "JtUvTz3H8Xs5"
      },
      "source": [
        "So again we use `scipy` to create the dendogram from our dataset to discover the number of groups we are going to define in the model.\n",
        "\n",
        "We use the `Euclidean` distance and `complete` method to join the groups:\n"
      ]
    },
    {
      "cell_type": "code",
      "metadata": {
        "colab": {
          "base_uri": "https://localhost:8080/",
          "height": 206
        },
        "id": "VKR7FWzGZotH",
        "outputId": "fd087545-b7e7-41d4-beab-806102c207ee"
      },
      "source": [
        "data.head()"
      ],
      "execution_count": null,
      "outputs": [
        {
          "output_type": "execute_result",
          "data": {
            "text/html": [
              "<div>\n",
              "<style scoped>\n",
              "    .dataframe tbody tr th:only-of-type {\n",
              "        vertical-align: middle;\n",
              "    }\n",
              "\n",
              "    .dataframe tbody tr th {\n",
              "        vertical-align: top;\n",
              "    }\n",
              "\n",
              "    .dataframe thead th {\n",
              "        text-align: right;\n",
              "    }\n",
              "</style>\n",
              "<table border=\"1\" class=\"dataframe\">\n",
              "  <thead>\n",
              "    <tr style=\"text-align: right;\">\n",
              "      <th></th>\n",
              "      <th>Age</th>\n",
              "      <th>Annual Income (k$)</th>\n",
              "      <th>Spending Score (1-100)</th>\n",
              "    </tr>\n",
              "  </thead>\n",
              "  <tbody>\n",
              "    <tr>\n",
              "      <th>0</th>\n",
              "      <td>19</td>\n",
              "      <td>15</td>\n",
              "      <td>39</td>\n",
              "    </tr>\n",
              "    <tr>\n",
              "      <th>1</th>\n",
              "      <td>21</td>\n",
              "      <td>15</td>\n",
              "      <td>81</td>\n",
              "    </tr>\n",
              "    <tr>\n",
              "      <th>2</th>\n",
              "      <td>20</td>\n",
              "      <td>16</td>\n",
              "      <td>6</td>\n",
              "    </tr>\n",
              "    <tr>\n",
              "      <th>3</th>\n",
              "      <td>23</td>\n",
              "      <td>16</td>\n",
              "      <td>77</td>\n",
              "    </tr>\n",
              "    <tr>\n",
              "      <th>4</th>\n",
              "      <td>31</td>\n",
              "      <td>17</td>\n",
              "      <td>40</td>\n",
              "    </tr>\n",
              "  </tbody>\n",
              "</table>\n",
              "</div>"
            ],
            "text/plain": [
              "   Age  Annual Income (k$)  Spending Score (1-100)\n",
              "0   19                  15                      39\n",
              "1   21                  15                      81\n",
              "2   20                  16                       6\n",
              "3   23                  16                      77\n",
              "4   31                  17                      40"
            ]
          },
          "metadata": {},
          "execution_count": 43
        }
      ]
    },
    {
      "cell_type": "code",
      "metadata": {
        "id": "UASqLbKh8h8p",
        "colab": {
          "base_uri": "https://localhost:8080/",
          "height": 988
        },
        "outputId": "71892398-becb-4d2b-8c35-0cab8a9736fe"
      },
      "source": [
        "import scipy.cluster.hierarchy as shc\n",
        "\n",
        "plt.figure(figsize=(20, 17))  \n",
        "plt.title(\"Customer Dendograms\")  \n",
        "dend = shc.dendrogram(shc.linkage(data.values, method='ward', metric='euclidean'))  "
      ],
      "execution_count": null,
      "outputs": [
        {
          "output_type": "display_data",
          "data": {
            "image/png": "[encoded data removed]",
            "text/plain": [
              "<Figure size 1440x1224 with 1 Axes>"
            ]
          },
          "metadata": {
            "needs_background": "light"
          }
        }
      ]
    },
    {
      "cell_type": "markdown",
      "metadata": {
        "id": "v4nQ1lwr_G0r"
      },
      "source": [
        "## Model"
      ]
    },
    {
      "cell_type": "markdown",
      "metadata": {
        "id": "2XrGG-R089TA"
      },
      "source": [
        "The dendogram shows 5 cohesive clusters before starting to join more dispersed clusters.\n",
        "\n",
        "So, again, we use `AgglomerativeClustering` to create a hierarchical model with 5 clusters:"
      ]
    },
    {
      "cell_type": "code",
      "metadata": {
        "id": "dU-BUE4r9TY7",
        "colab": {
          "base_uri": "https://localhost:8080/"
        },
        "outputId": "a1747534-2a6f-4ccd-ad44-f2fe17ca531a"
      },
      "source": [
        "import matplotlib.pyplot as plt  \n",
        "import pandas as pd  \n",
        "%matplotlib inline\n",
        "import numpy as np  \n",
        "from sklearn.cluster import AgglomerativeClustering\n",
        "\n",
        "cluster = AgglomerativeClustering(n_clusters=5, affinity='euclidean', linkage='ward')  \n",
        "cluster.fit(data.values)  "
      ],
      "execution_count": null,
      "outputs": [
        {
          "output_type": "execute_result",
          "data": {
            "text/plain": [
              "AgglomerativeClustering(n_clusters=5)"
            ]
          },
          "metadata": {},
          "execution_count": 51
        }
      ]
    },
    {
      "cell_type": "markdown",
      "metadata": {
        "id": "gp5fS-ae_At1"
      },
      "source": [
        "The cluster assignment is:"
      ]
    },
    {
      "cell_type": "code",
      "metadata": {
        "id": "ylvTlMjR_C2M",
        "colab": {
          "base_uri": "https://localhost:8080/"
        },
        "outputId": "a9c59ed4-46ae-4c6d-b953-da935b6c0a32"
      },
      "source": [
        "print(cluster.labels_)  "
      ],
      "execution_count": null,
      "outputs": [
        {
          "output_type": "stream",
          "name": "stdout",
          "text": [
            "[4 3 4 3 4 3 4 3 4 3 4 3 4 3 4 3 4 3 4 3 4 3 4 3 4 3 4 0 4 3 4 3 4 3 4 3 4\n",
            " 3 4 3 4 3 4 0 4 0 0 0 0 0 0 0 0 0 0 0 0 0 0 0 0 0 0 0 0 0 0 0 0 0 0 0 0 0\n",
            " 0 0 0 0 0 0 0 0 0 0 0 0 0 0 0 0 0 0 0 0 0 0 0 0 0 0 0 0 0 0 0 0 0 0 0 0 0\n",
            " 0 0 0 0 0 0 0 0 0 0 0 0 2 0 2 1 2 1 2 1 2 0 2 1 2 1 2 1 2 1 2 0 2 1 2 1 2\n",
            " 1 2 1 2 1 2 1 2 1 2 1 2 1 2 1 2 1 2 1 2 1 2 1 2 1 2 1 2 1 2 1 2 1 2 1 2 1\n",
            " 2 1 2 1 2 1 2 1 2 1 2 1 2 1 2]\n"
          ]
        }
      ]
    },
    {
      "cell_type": "markdown",
      "metadata": {
        "id": "OJGJ6dKhdJwW"
      },
      "source": [
        "## Visualization in two-dimensional space"
      ]
    },
    {
      "cell_type": "markdown",
      "metadata": {
        "id": "XEPUHR8seGgo"
      },
      "source": [
        "In order to visualize the data in a bi-dimensional space, we need to reduce the dimension of the original data_frame. \n",
        "\n",
        "We use the PCA method ( for now it is enough to know that this method allows to reduce the dimension of a table to *n* dimensions)."
      ]
    },
    {
      "cell_type": "code",
      "metadata": {
        "id": "qMQlDoXfdq5d"
      },
      "source": [
        "from sklearn.decomposition import PCA\n",
        "pca = PCA(n_components=2)\n",
        "pca.fit(data.values)\n",
        "reduced_data = pca.fit_transform(data.values)"
      ],
      "execution_count": null,
      "outputs": []
    },
    {
      "cell_type": "markdown",
      "metadata": {
        "id": "PnXFaTMHe0MU"
      },
      "source": [
        "And now we can project the data on a graph:"
      ]
    },
    {
      "cell_type": "code",
      "metadata": {
        "colab": {
          "base_uri": "https://localhost:8080/",
          "height": 445
        },
        "id": "ahIFdhQTd3_f",
        "outputId": "f3d09958-3f46-481c-afa3-0d744a212c58"
      },
      "source": [
        "plt.figure(figsize=(10, 7))\n",
        "plt.scatter(reduced_data[:,0],reduced_data[:,1], c=cluster.labels_, cmap='rainbow') "
      ],
      "execution_count": null,
      "outputs": [
        {
          "output_type": "execute_result",
          "data": {
            "text/plain": [
              "<matplotlib.collections.PathCollection at 0x7ff640056e10>"
            ]
          },
          "metadata": {},
          "execution_count": 62
        },
        {
          "output_type": "display_data",
          "data": {
            "image/png": "[encoded data removed]",
            "text/plain": [
              "<Figure size 720x504 with 1 Axes>"
            ]
          },
          "metadata": {
            "needs_background": "light"
          }
        }
      ]
    }
  ]
}